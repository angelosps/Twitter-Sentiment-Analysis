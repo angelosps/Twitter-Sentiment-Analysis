{
  "nbformat": 4,
  "nbformat_minor": 0,
  "metadata": {
    "colab": {
      "name": "FFNN_TF-IDF.ipynb",
      "provenance": [],
      "collapsed_sections": [],
      "toc_visible": true
    },
    "kernelspec": {
      "display_name": "Python 3",
      "name": "python3"
    },
    "language_info": {
      "name": "python"
    },
    "accelerator": "GPU"
  },
  "cells": [
    {
      "cell_type": "markdown",
      "metadata": {
        "id": "2VOYeMIqtDMA"
      },
      "source": [
        "# **Twitter Sentiment Classifier** 👍👎\n",
        "*using* **Feed-Forward Neural Networks** *and the* **TF-IDF** *feature generation scheme.*"
      ]
    },
    {
      "cell_type": "markdown",
      "metadata": {
        "id": "h3T-63p7tdNA"
      },
      "source": [
        "Let's import some essential libraries."
      ]
    },
    {
      "cell_type": "code",
      "metadata": {
        "colab": {
          "base_uri": "https://localhost:8080/"
        },
        "id": "5zABQBiitc3q",
        "outputId": "7129ba49-0688-4f0c-ba7e-4ed19f21857d"
      },
      "source": [
        "import numpy as np\n",
        "import matplotlib.pyplot as plt\n",
        "import pandas as pd\n",
        "import nltk\n",
        "import torch\n",
        "import torch.nn as nn\n",
        "import torch.optim as optim\n",
        "from nltk.corpus import stopwords\n",
        "import string\n",
        "import re\n",
        "from textblob import TextBlob\n",
        "\n",
        "nltk.download('wordnet')\n",
        "nltk.download('stopwords')\n",
        "nltk.download('punkt')"
      ],
      "execution_count": null,
      "outputs": [
        {
          "output_type": "stream",
          "text": [
            "[nltk_data] Downloading package wordnet to /root/nltk_data...\n",
            "[nltk_data]   Unzipping corpora/wordnet.zip.\n",
            "[nltk_data] Downloading package stopwords to /root/nltk_data...\n",
            "[nltk_data]   Unzipping corpora/stopwords.zip.\n",
            "[nltk_data] Downloading package punkt to /root/nltk_data...\n",
            "[nltk_data]   Unzipping tokenizers/punkt.zip.\n"
          ],
          "name": "stdout"
        },
        {
          "output_type": "execute_result",
          "data": {
            "text/plain": [
              "True"
            ]
          },
          "metadata": {
            "tags": []
          },
          "execution_count": 1
        }
      ]
    },
    {
      "cell_type": "markdown",
      "metadata": {
        "id": "fNEbBOrrucCI"
      },
      "source": [
        "## **Load the dataset** 🗂\n",
        "\n",
        "We have to mount (connect) Google Drive where I keep the dataset.\n",
        "\n",
        "Then, we can import the data in csv format using the pandas `read_csv` method.  \n",
        "I load 0.65M out of ~1M data from the SentimentTweets.csv dataset because getting more I have memory crashes on google colaborator."
      ]
    },
    {
      "cell_type": "code",
      "metadata": {
        "colab": {
          "base_uri": "https://localhost:8080/",
          "height": 323
        },
        "id": "aBT__XmPumD1",
        "outputId": "97011ec6-6b4c-454f-f16f-8937deb97d08"
      },
      "source": [
        "from google.colab import drive\n",
        "drive.mount('/content/drive')\n",
        "DATA_PATH = '/content/drive/My Drive/SentimentTweets.csv'\n",
        "data_csv = pd.read_csv(DATA_PATH, nrows=650000)\n",
        "data_csv = data_csv.dropna()\n",
        "data_csv.head()"
      ],
      "execution_count": null,
      "outputs": [
        {
          "output_type": "stream",
          "text": [
            "Mounted at /content/drive\n"
          ],
          "name": "stdout"
        },
        {
          "output_type": "execute_result",
          "data": {
            "text/html": [
              "<div>\n",
              "<style scoped>\n",
              "    .dataframe tbody tr th:only-of-type {\n",
              "        vertical-align: middle;\n",
              "    }\n",
              "\n",
              "    .dataframe tbody tr th {\n",
              "        vertical-align: top;\n",
              "    }\n",
              "\n",
              "    .dataframe thead th {\n",
              "        text-align: right;\n",
              "    }\n",
              "</style>\n",
              "<table border=\"1\" class=\"dataframe\">\n",
              "  <thead>\n",
              "    <tr style=\"text-align: right;\">\n",
              "      <th></th>\n",
              "      <th>Unnamed: 0</th>\n",
              "      <th>target</th>\n",
              "      <th>id</th>\n",
              "      <th>date</th>\n",
              "      <th>flag</th>\n",
              "      <th>user</th>\n",
              "      <th>text</th>\n",
              "    </tr>\n",
              "  </thead>\n",
              "  <tbody>\n",
              "    <tr>\n",
              "      <th>0</th>\n",
              "      <td>680949</td>\n",
              "      <td>0</td>\n",
              "      <td>2249621587</td>\n",
              "      <td>Fri Jun 19 22:41:08 PDT 2009</td>\n",
              "      <td>NO_QUERY</td>\n",
              "      <td>sukumarpant</td>\n",
              "      <td>#brokenpromises...</td>\n",
              "    </tr>\n",
              "    <tr>\n",
              "      <th>1</th>\n",
              "      <td>406741</td>\n",
              "      <td>0</td>\n",
              "      <td>2059003515</td>\n",
              "      <td>Sat Jun 06 16:03:21 PDT 2009</td>\n",
              "      <td>NO_QUERY</td>\n",
              "      <td>MTMSparrow</td>\n",
              "      <td>David Carradine  so sad. Thai's law not sure i...</td>\n",
              "    </tr>\n",
              "    <tr>\n",
              "      <th>2</th>\n",
              "      <td>1337108</td>\n",
              "      <td>4</td>\n",
              "      <td>2017466467</td>\n",
              "      <td>Wed Jun 03 08:26:14 PDT 2009</td>\n",
              "      <td>NO_QUERY</td>\n",
              "      <td>itsmemcee</td>\n",
              "      <td>A @ 415 B @ 425. Tell your bro i say congrats!</td>\n",
              "    </tr>\n",
              "    <tr>\n",
              "      <th>3</th>\n",
              "      <td>1560887</td>\n",
              "      <td>4</td>\n",
              "      <td>2186457254</td>\n",
              "      <td>Mon Jun 15 18:52:04 PDT 2009</td>\n",
              "      <td>NO_QUERY</td>\n",
              "      <td>jdfreivald</td>\n",
              "      <td>@littlefluffycat  Indeed.</td>\n",
              "    </tr>\n",
              "    <tr>\n",
              "      <th>4</th>\n",
              "      <td>1466295</td>\n",
              "      <td>4</td>\n",
              "      <td>2064458395</td>\n",
              "      <td>Sun Jun 07 06:19:20 PDT 2009</td>\n",
              "      <td>NO_QUERY</td>\n",
              "      <td>CrazyHan</td>\n",
              "      <td>Completed Race 4 Life in 58mins with girlies f...</td>\n",
              "    </tr>\n",
              "  </tbody>\n",
              "</table>\n",
              "</div>"
            ],
            "text/plain": [
              "   Unnamed: 0  ...                                               text\n",
              "0      680949  ...                                #brokenpromises... \n",
              "1      406741  ...  David Carradine  so sad. Thai's law not sure i...\n",
              "2     1337108  ...    A @ 415 B @ 425. Tell your bro i say congrats! \n",
              "3     1560887  ...                          @littlefluffycat  Indeed.\n",
              "4     1466295  ...  Completed Race 4 Life in 58mins with girlies f...\n",
              "\n",
              "[5 rows x 7 columns]"
            ]
          },
          "metadata": {
            "tags": []
          },
          "execution_count": 2
        }
      ]
    },
    {
      "cell_type": "markdown",
      "metadata": {
        "id": "L3Xk_VNs3WDY"
      },
      "source": [
        "## **Data pre-processing** 💽"
      ]
    },
    {
      "cell_type": "markdown",
      "metadata": {
        "id": "0LQoJFjNzg5f"
      },
      "source": [
        "Converting the csv file data into Pandas DataFrame data structure."
      ]
    },
    {
      "cell_type": "code",
      "metadata": {
        "colab": {
          "base_uri": "https://localhost:8080/",
          "height": 546
        },
        "id": "TWXTXXg27AsQ",
        "outputId": "7c4cbe44-0ca7-4061-8aac-539e8c55663e"
      },
      "source": [
        "# Convert the data (from csv type) into dataframe data structure\n",
        "df = pd.DataFrame(data=data_csv) \n",
        "df.head(10)"
      ],
      "execution_count": null,
      "outputs": [
        {
          "output_type": "execute_result",
          "data": {
            "text/html": [
              "<div>\n",
              "<style scoped>\n",
              "    .dataframe tbody tr th:only-of-type {\n",
              "        vertical-align: middle;\n",
              "    }\n",
              "\n",
              "    .dataframe tbody tr th {\n",
              "        vertical-align: top;\n",
              "    }\n",
              "\n",
              "    .dataframe thead th {\n",
              "        text-align: right;\n",
              "    }\n",
              "</style>\n",
              "<table border=\"1\" class=\"dataframe\">\n",
              "  <thead>\n",
              "    <tr style=\"text-align: right;\">\n",
              "      <th></th>\n",
              "      <th>Unnamed: 0</th>\n",
              "      <th>target</th>\n",
              "      <th>id</th>\n",
              "      <th>date</th>\n",
              "      <th>flag</th>\n",
              "      <th>user</th>\n",
              "      <th>text</th>\n",
              "    </tr>\n",
              "  </thead>\n",
              "  <tbody>\n",
              "    <tr>\n",
              "      <th>0</th>\n",
              "      <td>680949</td>\n",
              "      <td>0</td>\n",
              "      <td>2249621587</td>\n",
              "      <td>Fri Jun 19 22:41:08 PDT 2009</td>\n",
              "      <td>NO_QUERY</td>\n",
              "      <td>sukumarpant</td>\n",
              "      <td>#brokenpromises...</td>\n",
              "    </tr>\n",
              "    <tr>\n",
              "      <th>1</th>\n",
              "      <td>406741</td>\n",
              "      <td>0</td>\n",
              "      <td>2059003515</td>\n",
              "      <td>Sat Jun 06 16:03:21 PDT 2009</td>\n",
              "      <td>NO_QUERY</td>\n",
              "      <td>MTMSparrow</td>\n",
              "      <td>David Carradine  so sad. Thai's law not sure i...</td>\n",
              "    </tr>\n",
              "    <tr>\n",
              "      <th>2</th>\n",
              "      <td>1337108</td>\n",
              "      <td>4</td>\n",
              "      <td>2017466467</td>\n",
              "      <td>Wed Jun 03 08:26:14 PDT 2009</td>\n",
              "      <td>NO_QUERY</td>\n",
              "      <td>itsmemcee</td>\n",
              "      <td>A @ 415 B @ 425. Tell your bro i say congrats!</td>\n",
              "    </tr>\n",
              "    <tr>\n",
              "      <th>3</th>\n",
              "      <td>1560887</td>\n",
              "      <td>4</td>\n",
              "      <td>2186457254</td>\n",
              "      <td>Mon Jun 15 18:52:04 PDT 2009</td>\n",
              "      <td>NO_QUERY</td>\n",
              "      <td>jdfreivald</td>\n",
              "      <td>@littlefluffycat  Indeed.</td>\n",
              "    </tr>\n",
              "    <tr>\n",
              "      <th>4</th>\n",
              "      <td>1466295</td>\n",
              "      <td>4</td>\n",
              "      <td>2064458395</td>\n",
              "      <td>Sun Jun 07 06:19:20 PDT 2009</td>\n",
              "      <td>NO_QUERY</td>\n",
              "      <td>CrazyHan</td>\n",
              "      <td>Completed Race 4 Life in 58mins with girlies f...</td>\n",
              "    </tr>\n",
              "    <tr>\n",
              "      <th>5</th>\n",
              "      <td>725609</td>\n",
              "      <td>0</td>\n",
              "      <td>2262367427</td>\n",
              "      <td>Sat Jun 20 22:22:34 PDT 2009</td>\n",
              "      <td>NO_QUERY</td>\n",
              "      <td>farmtrain</td>\n",
              "      <td>Woot truck fixed!!! Now workin  http://myloc.m...</td>\n",
              "    </tr>\n",
              "    <tr>\n",
              "      <th>6</th>\n",
              "      <td>1361765</td>\n",
              "      <td>4</td>\n",
              "      <td>2049183514</td>\n",
              "      <td>Fri Jun 05 16:26:26 PDT 2009</td>\n",
              "      <td>NO_QUERY</td>\n",
              "      <td>tinadallasfla</td>\n",
              "      <td>@BLAQSHEEPCEO   yea I melt at that lol</td>\n",
              "    </tr>\n",
              "    <tr>\n",
              "      <th>7</th>\n",
              "      <td>114606</td>\n",
              "      <td>0</td>\n",
              "      <td>1826379900</td>\n",
              "      <td>Sun May 17 08:22:16 PDT 2009</td>\n",
              "      <td>NO_QUERY</td>\n",
              "      <td>Isoebelle</td>\n",
              "      <td>wants to do something radical...but not sure w...</td>\n",
              "    </tr>\n",
              "    <tr>\n",
              "      <th>8</th>\n",
              "      <td>620064</td>\n",
              "      <td>0</td>\n",
              "      <td>2228196366</td>\n",
              "      <td>Thu Jun 18 14:08:18 PDT 2009</td>\n",
              "      <td>NO_QUERY</td>\n",
              "      <td>alox</td>\n",
              "      <td>@brlamb scratch that, @bgilgoff tweeted it. Ch...</td>\n",
              "    </tr>\n",
              "    <tr>\n",
              "      <th>9</th>\n",
              "      <td>564150</td>\n",
              "      <td>0</td>\n",
              "      <td>2206118765</td>\n",
              "      <td>Wed Jun 17 06:02:05 PDT 2009</td>\n",
              "      <td>NO_QUERY</td>\n",
              "      <td>asimpleparadox</td>\n",
              "      <td>I am sore everywhere. Also found out an assess...</td>\n",
              "    </tr>\n",
              "  </tbody>\n",
              "</table>\n",
              "</div>"
            ],
            "text/plain": [
              "   Unnamed: 0  ...                                               text\n",
              "0      680949  ...                                #brokenpromises... \n",
              "1      406741  ...  David Carradine  so sad. Thai's law not sure i...\n",
              "2     1337108  ...    A @ 415 B @ 425. Tell your bro i say congrats! \n",
              "3     1560887  ...                          @littlefluffycat  Indeed.\n",
              "4     1466295  ...  Completed Race 4 Life in 58mins with girlies f...\n",
              "5      725609  ...  Woot truck fixed!!! Now workin  http://myloc.m...\n",
              "6     1361765  ...            @BLAQSHEEPCEO   yea I melt at that lol \n",
              "7      114606  ...  wants to do something radical...but not sure w...\n",
              "8      620064  ...  @brlamb scratch that, @bgilgoff tweeted it. Ch...\n",
              "9      564150  ...  I am sore everywhere. Also found out an assess...\n",
              "\n",
              "[10 rows x 7 columns]"
            ]
          },
          "metadata": {
            "tags": []
          },
          "execution_count": 3
        }
      ]
    },
    {
      "cell_type": "markdown",
      "metadata": {
        "id": "WRBllZ9K215B"
      },
      "source": [
        "As we can see from above, the target column has 0s and 4s denoting the negative and the positive class respectively. We are going to change the *4s into 1s* using the `replace` method and hence we have:\n",
        "\n",
        "0 $\\rightarrow$ negative tweet 👎\n",
        "\n",
        "1 $\\rightarrow$ positive tweet 👍"
      ]
    },
    {
      "cell_type": "code",
      "metadata": {
        "colab": {
          "base_uri": "https://localhost:8080/",
          "height": 546
        },
        "id": "M5-EKVai5tn7",
        "outputId": "1d4883cc-17f2-4b2b-ab16-566cc58f276d"
      },
      "source": [
        "df['target'] = df['target'].replace(4,1)\n",
        "df.head(10)"
      ],
      "execution_count": null,
      "outputs": [
        {
          "output_type": "execute_result",
          "data": {
            "text/html": [
              "<div>\n",
              "<style scoped>\n",
              "    .dataframe tbody tr th:only-of-type {\n",
              "        vertical-align: middle;\n",
              "    }\n",
              "\n",
              "    .dataframe tbody tr th {\n",
              "        vertical-align: top;\n",
              "    }\n",
              "\n",
              "    .dataframe thead th {\n",
              "        text-align: right;\n",
              "    }\n",
              "</style>\n",
              "<table border=\"1\" class=\"dataframe\">\n",
              "  <thead>\n",
              "    <tr style=\"text-align: right;\">\n",
              "      <th></th>\n",
              "      <th>Unnamed: 0</th>\n",
              "      <th>target</th>\n",
              "      <th>id</th>\n",
              "      <th>date</th>\n",
              "      <th>flag</th>\n",
              "      <th>user</th>\n",
              "      <th>text</th>\n",
              "    </tr>\n",
              "  </thead>\n",
              "  <tbody>\n",
              "    <tr>\n",
              "      <th>0</th>\n",
              "      <td>680949</td>\n",
              "      <td>0</td>\n",
              "      <td>2249621587</td>\n",
              "      <td>Fri Jun 19 22:41:08 PDT 2009</td>\n",
              "      <td>NO_QUERY</td>\n",
              "      <td>sukumarpant</td>\n",
              "      <td>#brokenpromises...</td>\n",
              "    </tr>\n",
              "    <tr>\n",
              "      <th>1</th>\n",
              "      <td>406741</td>\n",
              "      <td>0</td>\n",
              "      <td>2059003515</td>\n",
              "      <td>Sat Jun 06 16:03:21 PDT 2009</td>\n",
              "      <td>NO_QUERY</td>\n",
              "      <td>MTMSparrow</td>\n",
              "      <td>David Carradine  so sad. Thai's law not sure i...</td>\n",
              "    </tr>\n",
              "    <tr>\n",
              "      <th>2</th>\n",
              "      <td>1337108</td>\n",
              "      <td>1</td>\n",
              "      <td>2017466467</td>\n",
              "      <td>Wed Jun 03 08:26:14 PDT 2009</td>\n",
              "      <td>NO_QUERY</td>\n",
              "      <td>itsmemcee</td>\n",
              "      <td>A @ 415 B @ 425. Tell your bro i say congrats!</td>\n",
              "    </tr>\n",
              "    <tr>\n",
              "      <th>3</th>\n",
              "      <td>1560887</td>\n",
              "      <td>1</td>\n",
              "      <td>2186457254</td>\n",
              "      <td>Mon Jun 15 18:52:04 PDT 2009</td>\n",
              "      <td>NO_QUERY</td>\n",
              "      <td>jdfreivald</td>\n",
              "      <td>@littlefluffycat  Indeed.</td>\n",
              "    </tr>\n",
              "    <tr>\n",
              "      <th>4</th>\n",
              "      <td>1466295</td>\n",
              "      <td>1</td>\n",
              "      <td>2064458395</td>\n",
              "      <td>Sun Jun 07 06:19:20 PDT 2009</td>\n",
              "      <td>NO_QUERY</td>\n",
              "      <td>CrazyHan</td>\n",
              "      <td>Completed Race 4 Life in 58mins with girlies f...</td>\n",
              "    </tr>\n",
              "    <tr>\n",
              "      <th>5</th>\n",
              "      <td>725609</td>\n",
              "      <td>0</td>\n",
              "      <td>2262367427</td>\n",
              "      <td>Sat Jun 20 22:22:34 PDT 2009</td>\n",
              "      <td>NO_QUERY</td>\n",
              "      <td>farmtrain</td>\n",
              "      <td>Woot truck fixed!!! Now workin  http://myloc.m...</td>\n",
              "    </tr>\n",
              "    <tr>\n",
              "      <th>6</th>\n",
              "      <td>1361765</td>\n",
              "      <td>1</td>\n",
              "      <td>2049183514</td>\n",
              "      <td>Fri Jun 05 16:26:26 PDT 2009</td>\n",
              "      <td>NO_QUERY</td>\n",
              "      <td>tinadallasfla</td>\n",
              "      <td>@BLAQSHEEPCEO   yea I melt at that lol</td>\n",
              "    </tr>\n",
              "    <tr>\n",
              "      <th>7</th>\n",
              "      <td>114606</td>\n",
              "      <td>0</td>\n",
              "      <td>1826379900</td>\n",
              "      <td>Sun May 17 08:22:16 PDT 2009</td>\n",
              "      <td>NO_QUERY</td>\n",
              "      <td>Isoebelle</td>\n",
              "      <td>wants to do something radical...but not sure w...</td>\n",
              "    </tr>\n",
              "    <tr>\n",
              "      <th>8</th>\n",
              "      <td>620064</td>\n",
              "      <td>0</td>\n",
              "      <td>2228196366</td>\n",
              "      <td>Thu Jun 18 14:08:18 PDT 2009</td>\n",
              "      <td>NO_QUERY</td>\n",
              "      <td>alox</td>\n",
              "      <td>@brlamb scratch that, @bgilgoff tweeted it. Ch...</td>\n",
              "    </tr>\n",
              "    <tr>\n",
              "      <th>9</th>\n",
              "      <td>564150</td>\n",
              "      <td>0</td>\n",
              "      <td>2206118765</td>\n",
              "      <td>Wed Jun 17 06:02:05 PDT 2009</td>\n",
              "      <td>NO_QUERY</td>\n",
              "      <td>asimpleparadox</td>\n",
              "      <td>I am sore everywhere. Also found out an assess...</td>\n",
              "    </tr>\n",
              "  </tbody>\n",
              "</table>\n",
              "</div>"
            ],
            "text/plain": [
              "   Unnamed: 0  ...                                               text\n",
              "0      680949  ...                                #brokenpromises... \n",
              "1      406741  ...  David Carradine  so sad. Thai's law not sure i...\n",
              "2     1337108  ...    A @ 415 B @ 425. Tell your bro i say congrats! \n",
              "3     1560887  ...                          @littlefluffycat  Indeed.\n",
              "4     1466295  ...  Completed Race 4 Life in 58mins with girlies f...\n",
              "5      725609  ...  Woot truck fixed!!! Now workin  http://myloc.m...\n",
              "6     1361765  ...            @BLAQSHEEPCEO   yea I melt at that lol \n",
              "7      114606  ...  wants to do something radical...but not sure w...\n",
              "8      620064  ...  @brlamb scratch that, @bgilgoff tweeted it. Ch...\n",
              "9      564150  ...  I am sore everywhere. Also found out an assess...\n",
              "\n",
              "[10 rows x 7 columns]"
            ]
          },
          "metadata": {
            "tags": []
          },
          "execution_count": 4
        }
      ]
    },
    {
      "cell_type": "markdown",
      "metadata": {
        "id": "RyiVnbsn6ZUu"
      },
      "source": [
        "### **Data cleaning** 🧹\n",
        "\n",
        "In the following code snippet we \"clean\" the data by doing the following:\n",
        "\n",
        "We are going to classify tweets. As we all know, twitter users use the symbols # and @ a lot. This may cause problem to the classifier, thus we are going to remove them, using TextBlob. We are also going to lemmatize the data in order to avoid multiple representations of the same word\n",
        "* **Drop the uneseccary columns** such as \"Unnamed: 0\", \"id\", etc\n",
        "* **Lower** the characers using the string method `lower` \n",
        "* **Remove special characters** such as punctuation points, links, weird characters, etc."
      ]
    },
    {
      "cell_type": "code",
      "metadata": {
        "colab": {
          "base_uri": "https://localhost:8080/",
          "height": 204
        },
        "id": "kZwpsI_SgeTk",
        "outputId": "55e69f76-9993-4950-9c53-6e1964793b1e"
      },
      "source": [
        "# Drop the unescessary columns\n",
        "df.drop(columns = ['Unnamed: 0', 'id', 'date', 'flag', 'user'], inplace = True)\n",
        "df.head()"
      ],
      "execution_count": null,
      "outputs": [
        {
          "output_type": "execute_result",
          "data": {
            "text/html": [
              "<div>\n",
              "<style scoped>\n",
              "    .dataframe tbody tr th:only-of-type {\n",
              "        vertical-align: middle;\n",
              "    }\n",
              "\n",
              "    .dataframe tbody tr th {\n",
              "        vertical-align: top;\n",
              "    }\n",
              "\n",
              "    .dataframe thead th {\n",
              "        text-align: right;\n",
              "    }\n",
              "</style>\n",
              "<table border=\"1\" class=\"dataframe\">\n",
              "  <thead>\n",
              "    <tr style=\"text-align: right;\">\n",
              "      <th></th>\n",
              "      <th>target</th>\n",
              "      <th>text</th>\n",
              "    </tr>\n",
              "  </thead>\n",
              "  <tbody>\n",
              "    <tr>\n",
              "      <th>0</th>\n",
              "      <td>0</td>\n",
              "      <td>#brokenpromises...</td>\n",
              "    </tr>\n",
              "    <tr>\n",
              "      <th>1</th>\n",
              "      <td>0</td>\n",
              "      <td>David Carradine  so sad. Thai's law not sure i...</td>\n",
              "    </tr>\n",
              "    <tr>\n",
              "      <th>2</th>\n",
              "      <td>1</td>\n",
              "      <td>A @ 415 B @ 425. Tell your bro i say congrats!</td>\n",
              "    </tr>\n",
              "    <tr>\n",
              "      <th>3</th>\n",
              "      <td>1</td>\n",
              "      <td>@littlefluffycat  Indeed.</td>\n",
              "    </tr>\n",
              "    <tr>\n",
              "      <th>4</th>\n",
              "      <td>1</td>\n",
              "      <td>Completed Race 4 Life in 58mins with girlies f...</td>\n",
              "    </tr>\n",
              "  </tbody>\n",
              "</table>\n",
              "</div>"
            ],
            "text/plain": [
              "   target                                               text\n",
              "0       0                                #brokenpromises... \n",
              "1       0  David Carradine  so sad. Thai's law not sure i...\n",
              "2       1    A @ 415 B @ 425. Tell your bro i say congrats! \n",
              "3       1                          @littlefluffycat  Indeed.\n",
              "4       1  Completed Race 4 Life in 58mins with girlies f..."
            ]
          },
          "metadata": {
            "tags": []
          },
          "execution_count": 5
        }
      ]
    },
    {
      "cell_type": "code",
      "metadata": {
        "colab": {
          "base_uri": "https://localhost:8080/",
          "height": 359
        },
        "id": "2je8My0G6VnV",
        "outputId": "fc684211-9e67-47ac-c574-43181af6e070"
      },
      "source": [
        "# Define the function for text cleaning\n",
        "def text_cleaning(text):\n",
        "  text = text.lower()\n",
        "  # Remove non alphanumeric characters\n",
        "  text = re.sub(r'[^A-Za-z0-9]+', ' ', text)\n",
        "  # Remove links\n",
        "  text = re.sub(r'https?:/\\/\\S+', ' ', text)\n",
        "  # Remove punctuation\n",
        "  text = text.translate(str.maketrans('', '', string.punctuation))\n",
        "  return text\n",
        "\n",
        "df['text']=df['text'].apply(text_cleaning)\n",
        "df.head(10)"
      ],
      "execution_count": null,
      "outputs": [
        {
          "output_type": "execute_result",
          "data": {
            "text/html": [
              "<div>\n",
              "<style scoped>\n",
              "    .dataframe tbody tr th:only-of-type {\n",
              "        vertical-align: middle;\n",
              "    }\n",
              "\n",
              "    .dataframe tbody tr th {\n",
              "        vertical-align: top;\n",
              "    }\n",
              "\n",
              "    .dataframe thead th {\n",
              "        text-align: right;\n",
              "    }\n",
              "</style>\n",
              "<table border=\"1\" class=\"dataframe\">\n",
              "  <thead>\n",
              "    <tr style=\"text-align: right;\">\n",
              "      <th></th>\n",
              "      <th>target</th>\n",
              "      <th>text</th>\n",
              "    </tr>\n",
              "  </thead>\n",
              "  <tbody>\n",
              "    <tr>\n",
              "      <th>0</th>\n",
              "      <td>0</td>\n",
              "      <td>brokenpromises</td>\n",
              "    </tr>\n",
              "    <tr>\n",
              "      <th>1</th>\n",
              "      <td>0</td>\n",
              "      <td>david carradine so sad thai s law not sure if ...</td>\n",
              "    </tr>\n",
              "    <tr>\n",
              "      <th>2</th>\n",
              "      <td>1</td>\n",
              "      <td>a 415 b 425 tell your bro i say congrats</td>\n",
              "    </tr>\n",
              "    <tr>\n",
              "      <th>3</th>\n",
              "      <td>1</td>\n",
              "      <td>littlefluffycat indeed</td>\n",
              "    </tr>\n",
              "    <tr>\n",
              "      <th>4</th>\n",
              "      <td>1</td>\n",
              "      <td>completed race 4 life in 58mins with girlies f...</td>\n",
              "    </tr>\n",
              "    <tr>\n",
              "      <th>5</th>\n",
              "      <td>0</td>\n",
              "      <td>woot truck fixed now workin http myloc me 4nif</td>\n",
              "    </tr>\n",
              "    <tr>\n",
              "      <th>6</th>\n",
              "      <td>1</td>\n",
              "      <td>blaqsheepceo yea i melt at that lol</td>\n",
              "    </tr>\n",
              "    <tr>\n",
              "      <th>7</th>\n",
              "      <td>0</td>\n",
              "      <td>wants to do something radical but not sure wha...</td>\n",
              "    </tr>\n",
              "    <tr>\n",
              "      <th>8</th>\n",
              "      <td>0</td>\n",
              "      <td>brlamb scratch that bgilgoff tweeted it chann...</td>\n",
              "    </tr>\n",
              "    <tr>\n",
              "      <th>9</th>\n",
              "      <td>0</td>\n",
              "      <td>i am sore everywhere also found out an assessm...</td>\n",
              "    </tr>\n",
              "  </tbody>\n",
              "</table>\n",
              "</div>"
            ],
            "text/plain": [
              "   target                                               text\n",
              "0       0                                    brokenpromises \n",
              "1       0  david carradine so sad thai s law not sure if ...\n",
              "2       1          a 415 b 425 tell your bro i say congrats \n",
              "3       1                            littlefluffycat indeed \n",
              "4       1  completed race 4 life in 58mins with girlies f...\n",
              "5       0     woot truck fixed now workin http myloc me 4nif\n",
              "6       1               blaqsheepceo yea i melt at that lol \n",
              "7       0  wants to do something radical but not sure wha...\n",
              "8       0   brlamb scratch that bgilgoff tweeted it chann...\n",
              "9       0  i am sore everywhere also found out an assessm..."
            ]
          },
          "metadata": {
            "tags": []
          },
          "execution_count": 6
        }
      ]
    },
    {
      "cell_type": "markdown",
      "metadata": {
        "id": "UxAQEl6_Nq7V"
      },
      "source": [
        "### **Tokenization and Lemmatization** 🔑\n",
        "\n",
        "**Tokenization** is necessary to prepare the data in order to vectorize them using the TF-IDF scheme.  \n",
        "The goal of **Lemmatization** (or Stemming) is to reduce inflectional forms and sometimes derivationally related forms of a word to a common base form.  \n",
        "For instance, Lemmatization or Stemming will do the following:   \n",
        "am, are, is $\\Rightarrow$ be  \n",
        "car, cars, car's, cars' $\\Rightarrow$ car\n",
        "\n"
      ]
    },
    {
      "cell_type": "code",
      "metadata": {
        "id": "e1yp53oDAAx8",
        "colab": {
          "base_uri": "https://localhost:8080/",
          "height": 359
        },
        "outputId": "8f027aea-a0d0-42e7-ed30-c60daec128e1"
      },
      "source": [
        "w_tokenizer = nltk.tokenize.WhitespaceTokenizer()\n",
        "lemmatizer = nltk.stem.WordNetLemmatizer()\n",
        "\n",
        "# Function that lemmatizes the tokenized text\n",
        "# text is being tokenized and passed immidiately into the lemmatizer \n",
        "def lemmatize_text(text):\n",
        "    return \" \".join([lemmatizer.lemmatize(w, pos=\"v\") for w in w_tokenizer.tokenize(text)])\n",
        "\n",
        "df['text'] = df.text.apply(lemmatize_text).copy()\n",
        "\n",
        "df.head(10)"
      ],
      "execution_count": null,
      "outputs": [
        {
          "output_type": "execute_result",
          "data": {
            "text/html": [
              "<div>\n",
              "<style scoped>\n",
              "    .dataframe tbody tr th:only-of-type {\n",
              "        vertical-align: middle;\n",
              "    }\n",
              "\n",
              "    .dataframe tbody tr th {\n",
              "        vertical-align: top;\n",
              "    }\n",
              "\n",
              "    .dataframe thead th {\n",
              "        text-align: right;\n",
              "    }\n",
              "</style>\n",
              "<table border=\"1\" class=\"dataframe\">\n",
              "  <thead>\n",
              "    <tr style=\"text-align: right;\">\n",
              "      <th></th>\n",
              "      <th>target</th>\n",
              "      <th>text</th>\n",
              "    </tr>\n",
              "  </thead>\n",
              "  <tbody>\n",
              "    <tr>\n",
              "      <th>0</th>\n",
              "      <td>0</td>\n",
              "      <td>brokenpromises</td>\n",
              "    </tr>\n",
              "    <tr>\n",
              "      <th>1</th>\n",
              "      <td>0</td>\n",
              "      <td>david carradine so sad thai s law not sure if ...</td>\n",
              "    </tr>\n",
              "    <tr>\n",
              "      <th>2</th>\n",
              "      <td>1</td>\n",
              "      <td>a 415 b 425 tell your bro i say congrats</td>\n",
              "    </tr>\n",
              "    <tr>\n",
              "      <th>3</th>\n",
              "      <td>1</td>\n",
              "      <td>littlefluffycat indeed</td>\n",
              "    </tr>\n",
              "    <tr>\n",
              "      <th>4</th>\n",
              "      <td>1</td>\n",
              "      <td>complete race 4 life in 58mins with girlies fr...</td>\n",
              "    </tr>\n",
              "    <tr>\n",
              "      <th>5</th>\n",
              "      <td>0</td>\n",
              "      <td>woot truck fix now workin http myloc me 4nif</td>\n",
              "    </tr>\n",
              "    <tr>\n",
              "      <th>6</th>\n",
              "      <td>1</td>\n",
              "      <td>blaqsheepceo yea i melt at that lol</td>\n",
              "    </tr>\n",
              "    <tr>\n",
              "      <th>7</th>\n",
              "      <td>0</td>\n",
              "      <td>want to do something radical but not sure what...</td>\n",
              "    </tr>\n",
              "    <tr>\n",
              "      <th>8</th>\n",
              "      <td>0</td>\n",
              "      <td>brlamb scratch that bgilgoff tweet it channel ...</td>\n",
              "    </tr>\n",
              "    <tr>\n",
              "      <th>9</th>\n",
              "      <td>0</td>\n",
              "      <td>i be sore everywhere also find out an assessme...</td>\n",
              "    </tr>\n",
              "  </tbody>\n",
              "</table>\n",
              "</div>"
            ],
            "text/plain": [
              "   target                                               text\n",
              "0       0                                     brokenpromises\n",
              "1       0  david carradine so sad thai s law not sure if ...\n",
              "2       1           a 415 b 425 tell your bro i say congrats\n",
              "3       1                             littlefluffycat indeed\n",
              "4       1  complete race 4 life in 58mins with girlies fr...\n",
              "5       0       woot truck fix now workin http myloc me 4nif\n",
              "6       1                blaqsheepceo yea i melt at that lol\n",
              "7       0  want to do something radical but not sure what...\n",
              "8       0  brlamb scratch that bgilgoff tweet it channel ...\n",
              "9       0  i be sore everywhere also find out an assessme..."
            ]
          },
          "metadata": {
            "tags": []
          },
          "execution_count": 7
        }
      ]
    },
    {
      "cell_type": "markdown",
      "metadata": {
        "id": "nDhypzXZJ5Xm"
      },
      "source": [
        "### **Split the dataset** 🖇\n",
        "into *training, validation* and *testing* sets."
      ]
    },
    {
      "cell_type": "code",
      "metadata": {
        "id": "VBs6DRhS_4Lz",
        "colab": {
          "base_uri": "https://localhost:8080/",
          "height": 69
        },
        "outputId": "634da0a1-4da2-4f5b-c825-b7637e06b1d8"
      },
      "source": [
        "from sklearn.model_selection import train_test_split\n",
        "\n",
        "X = pd.DataFrame(df, columns = ['text'])\n",
        "Y = pd.DataFrame(df, columns = ['target'])\n",
        "\n",
        "trainX, testX, trainY, testY = train_test_split(X, Y, test_size=0.05, random_state=123)\n",
        "trainX, valX, trainY, valY = train_test_split(trainX, trainY, test_size=0.05, random_state=123)\n",
        "'''\n",
        "print(\"Shape of trainX: \", trainX.shape)\n",
        "print(\"Shape of trainY: \", trainY.shape)\n",
        "print(\"Shape of testX:  \", testX.shape)\n",
        "print(\"Shape of testY:  \", testY.shape)\n",
        "print(\"Shape of valX:   \", valX.shape)\n",
        "print(\"Shape of valY:   \", valY.shape)'''"
      ],
      "execution_count": null,
      "outputs": [
        {
          "output_type": "execute_result",
          "data": {
            "application/vnd.google.colaboratory.intrinsic+json": {
              "type": "string"
            },
            "text/plain": [
              "'\\nprint(\"Shape of trainX: \", trainX.shape)\\nprint(\"Shape of trainY: \", trainY.shape)\\nprint(\"Shape of testX:  \", testX.shape)\\nprint(\"Shape of testY:  \", testY.shape)\\nprint(\"Shape of valX:   \", valX.shape)\\nprint(\"Shape of valY:   \", valY.shape)'"
            ]
          },
          "metadata": {
            "tags": []
          },
          "execution_count": 8
        }
      ]
    },
    {
      "cell_type": "code",
      "metadata": {
        "colab": {
          "base_uri": "https://localhost:8080/"
        },
        "id": "Ot7h_5VfVsQQ",
        "outputId": "99f00b99-544d-4f53-85b2-88aa6cb48c0b"
      },
      "source": [
        "print(trainX.head())"
      ],
      "execution_count": null,
      "outputs": [
        {
          "output_type": "stream",
          "text": [
            "                                                     text\n",
            "252794  and they be back within hear distance with win...\n",
            "591124  3 majorettes show tomorrow fuck me i m gonna b...\n",
            "4804                      choebe guess what i m dling now\n",
            "230626  i break my hello kitty mobile charm it be one ...\n",
            "81794   just get do watch some buffy hurray it s bryan...\n"
          ],
          "name": "stdout"
        }
      ]
    },
    {
      "cell_type": "markdown",
      "metadata": {
        "id": "8OX0ef-hFCPe"
      },
      "source": [
        "### **Vectorization with TF-IDF** 🔢\n",
        "Now, we need to ***convert the text into numbers using the TF-IDF scheme of BoW approach.*** "
      ]
    },
    {
      "cell_type": "code",
      "metadata": {
        "colab": {
          "base_uri": "https://localhost:8080/"
        },
        "id": "-3cvPRFNYvOz",
        "outputId": "7f058c95-8ab7-4235-bf22-04fad9c6fa66"
      },
      "source": [
        "from sklearn.feature_extraction.text import TfidfVectorizer\n",
        "\n",
        "train = trainX['text'].tolist()\n",
        "val = valX['text'].to_list()\n",
        "test = testX['text'].tolist()\n",
        "STOPWORDS = set(stopwords.words('english'))\n",
        "\n",
        "tfidf_vectorizer = TfidfVectorizer(max_features=1100, dtype=np.float32)\n",
        "\n",
        "tfidf_trainX = tfidf_vectorizer.fit_transform(train)\n",
        "tfidf_trainX = tfidf_trainX.toarray()\n",
        "\n",
        "tfidf_valX = tfidf_vectorizer.transform(val)\n",
        "tfidf_valX = tfidf_valX.toarray()\n",
        "\n",
        "tfidf_testX = tfidf_vectorizer.transform(test)\n",
        "tfidf_testX = tfidf_testX.toarray()\n",
        "\n",
        "print(\"TF-IDF train shape:\", tfidf_trainX.shape)\n",
        "print(\"TF-IDF val shape:\", tfidf_valX.shape)\n",
        "print(\"TF-IDF test shape:\", tfidf_testX.shape)"
      ],
      "execution_count": null,
      "outputs": [
        {
          "output_type": "stream",
          "text": [
            "TF-IDF train shape: (586625, 1100)\n",
            "TF-IDF val shape: (30875, 1100)\n",
            "TF-IDF test shape: (32500, 1100)\n"
          ],
          "name": "stdout"
        }
      ]
    },
    {
      "cell_type": "markdown",
      "metadata": {
        "id": "O7zvSGPSUbQh"
      },
      "source": [
        "**Convert the X and Y sets into torch *tensors*.**"
      ]
    },
    {
      "cell_type": "code",
      "metadata": {
        "id": "iacscHyVbgx3"
      },
      "source": [
        "# Convert X datasets to tensors.\n",
        "tfidf_trainX = torch.tensor(tfidf_trainX)\n",
        "tfidf_valX = torch.tensor(tfidf_valX)\n",
        "tfidf_testX = torch.tensor(tfidf_testX)\n",
        "\n",
        "# Convert Y datasets to tensors with torch.squeeze.\n",
        "trainY = torch.squeeze(torch.from_numpy(trainY.to_numpy()).float())\n",
        "valY = torch.squeeze(torch.from_numpy(valY.to_numpy()).float())\n",
        "testY = torch.squeeze(torch.from_numpy(testY.to_numpy()).float())\n"
      ],
      "execution_count": null,
      "outputs": []
    },
    {
      "cell_type": "code",
      "metadata": {
        "colab": {
          "base_uri": "https://localhost:8080/"
        },
        "id": "rzMz-qD1cg3F",
        "outputId": "6ed47c2c-9f86-472b-c0b1-b76362950d0d"
      },
      "source": [
        "# Use cuda if present\n",
        "device = torch.device(\"cuda\" if torch.cuda.is_available() else \"cpu\")\n",
        "print(\"Device available for running: \")\n",
        "print(device)"
      ],
      "execution_count": null,
      "outputs": [
        {
          "output_type": "stream",
          "text": [
            "Device available for running: \n",
            "cuda\n"
          ],
          "name": "stdout"
        }
      ]
    },
    {
      "cell_type": "markdown",
      "metadata": {
        "id": "97g62myiclU2"
      },
      "source": [
        "## **Feed-Forward Neural Network** 🧠\n",
        "\n",
        "I chose a structure of *four hidden layers*, hence *five functions* in total with each one having the ReLU activation function, plus the sigmoid activation function at the output.\n",
        "\n",
        "The *structure* of the network is as follows:\n",
        "\n",
        "Input $\\rightarrow$  \n",
        "  Linear Layer $\\rightarrow$ ReLU  \n",
        "  Linear Layer $\\rightarrow$ ReLU   \n",
        "  Linear Layer $\\rightarrow$ ReLU  \n",
        "  Linear Layer $\\rightarrow$ ReLU    \n",
        "  Linear Layer $\\rightarrow$ Sigmoid  \n",
        "$\\rightarrow$ Output"
      ]
    },
    {
      "cell_type": "markdown",
      "metadata": {
        "id": "JS2OcRMC53iF"
      },
      "source": [
        "### **Building the network** 🔨"
      ]
    },
    {
      "cell_type": "code",
      "metadata": {
        "colab": {
          "base_uri": "https://localhost:8080/"
        },
        "id": "PzQ5jt1LdF2V",
        "outputId": "52b0c235-bd1a-4d1f-8034-04e7f0dc5496"
      },
      "source": [
        "class FeedForwardNeuralNetwork(nn.Module):\n",
        "  def __init__(self, input_dim, hidden_dim_1, hidden_dim_2, hidden_dim_3, hidden_dim_4, output_dim):\n",
        "    super(FeedForwardNeuralNetwork, self).__init__()\n",
        "\n",
        "    self.f_1 = nn.Linear(input_dim, hidden_dim_1)\n",
        "    self.relu_1 = nn.ReLU()\n",
        "\n",
        "    self.f_2 = nn.Linear(hidden_dim_1, hidden_dim_2)\n",
        "    self.relu_2 = nn.ReLU()\n",
        "\n",
        "    self.f_3 = nn.Linear(hidden_dim_2, hidden_dim_3)\n",
        "    self.relu_3 = nn.ReLU()\n",
        "\n",
        "    self.f_4 = nn.Linear(hidden_dim_3, hidden_dim_4)\n",
        "    self.relu_4 = nn.ReLU()\n",
        "\n",
        "    self.f_5 = nn.Linear(hidden_dim_4, output_dim)\n",
        "\n",
        "    self.sigmoid = nn.Sigmoid()\n",
        "\n",
        "  def forward(self, x):\n",
        "    out = self.f_1(x)\n",
        "    out = self.relu_1(out)\n",
        "    out = self.f_2(out)\n",
        "    out = self.relu_2(out)\n",
        "    out = self.f_3(out)\n",
        "    out = self.relu_3(out)\n",
        "    out = self.f_4(out)\n",
        "    out = self.relu_4(out)\n",
        "    out = self.f_5(out)\n",
        "    out = self.sigmoid(out)\n",
        "    return out\n",
        "\n",
        "# Initializing the model's parameters\n",
        "input_dim = tfidf_trainX.shape[1]\n",
        "hidden_dim_1 = 300\n",
        "hidden_dim_2 = 200\n",
        "hidden_dim_3 = 100\n",
        "hidden_dim_4 = 20\n",
        "\n",
        "output_dim = 1\n",
        "\n",
        "n_epochs = 70\n",
        "\n",
        "# Define the model in the nn_model variable\n",
        "nn_model = FeedForwardNeuralNetwork(input_dim, hidden_dim_1, hidden_dim_2, hidden_dim_3, hidden_dim_4, output_dim)\n",
        "loss_function = nn.BCELoss() # the loss function: Binary Cross Entropy Loss\n",
        "optimizer = optim.Adam(nn_model.parameters(), lr=1e-4, weight_decay=1e-3)\n",
        "\n",
        "# Send the computation to the selected device (cpu/gpu)\n",
        "nn_model.to(device)\n",
        "loss_function.to(device)"
      ],
      "execution_count": null,
      "outputs": [
        {
          "output_type": "execute_result",
          "data": {
            "text/plain": [
              "BCELoss()"
            ]
          },
          "metadata": {
            "tags": []
          },
          "execution_count": 13
        }
      ]
    },
    {
      "cell_type": "markdown",
      "metadata": {
        "id": "Kp9FDd9elY4O"
      },
      "source": [
        "**Split the datasets** into mini-batches in order to use mini-batch Gradient Descent for learning.\n",
        "\n",
        "**Lower batch-size $\\rightarrow$** less data processed on each iteration which means there might be some noise on data and though a less accurate computation by GD.\n",
        "\n",
        "**Higher batch-size $\\rightarrow$** more data processed on each iteration and though a more accurate computation by GD."
      ]
    },
    {
      "cell_type": "code",
      "metadata": {
        "id": "UlS5uQOmleHn"
      },
      "source": [
        "batch_size = 16384 # 2^14\n",
        "\n",
        "trainX_batches = torch.split(tfidf_trainX, batch_size)\n",
        "trainY_batches = torch.split(trainY, batch_size)"
      ],
      "execution_count": null,
      "outputs": []
    },
    {
      "cell_type": "code",
      "metadata": {
        "id": "HEBpWmjNngn_"
      },
      "source": [
        "def calculate_accuracy(y_prediction, y_true):\n",
        "  y_prediction = torch.round(y_prediction)\n",
        "  correct = (y_true == y_prediction).float() # is it correct? i.e. loss == 0?\n",
        "  accuracy = correct.sum() / len(correct)\n",
        "  return accuracy"
      ],
      "execution_count": null,
      "outputs": []
    },
    {
      "cell_type": "markdown",
      "metadata": {
        "id": "qD57zr2Z5WBX"
      },
      "source": [
        "**Graphs**\n",
        "\n",
        "A function for plotting the data got from training phase in order to produce some useful graphs for the model."
      ]
    },
    {
      "cell_type": "code",
      "metadata": {
        "id": "oA9OlGdk3B4a"
      },
      "source": [
        "plt.style.use('seaborn-whitegrid') # plot style\n",
        "\n",
        "def plot_loss_accuracy(train_loss, train_acc, val_loss, val_acc, epochs):\n",
        "  fig, (ax1, ax2) = plt.subplots(1,2,figsize=(14,6))\n",
        "\n",
        "  ax1.plot(range(epochs), train_loss, 'bo-' , label = 'Training loss')\n",
        "  ax1.plot(range(epochs), val_loss , 'ro-', label = 'Validation loss')\n",
        "  ax1.set_ylabel('Loss')\n",
        "  ax1.set_xlabel('Epoch')\n",
        "  ax1.set_title('Loss/Epoch', y = 1.03, fontsize = 15)\n",
        "  ax1.set_xlim([-1,epochs])\n",
        "  ax1.legend(loc=\"best\")\n",
        "\n",
        "  ax2.plot(range(epochs), train_acc, 'bo-' , label = 'Training accuracy')\n",
        "  ax2.plot(range(epochs), val_acc , 'ro-', label = 'Validation accuracy')\n",
        "  ax2.set_ylabel('Accuracy')\n",
        "  ax2.set_xlabel('Epoch')\n",
        "  ax2.set_title('Accuracy/Epoch', y = 1.03, fontsize = 15)\n",
        "  ax2.set_xlim([-1,epochs])\n",
        "  ax2.legend(loc=\"best\")\n",
        "\n",
        "  plt.show()"
      ],
      "execution_count": null,
      "outputs": []
    },
    {
      "cell_type": "markdown",
      "metadata": {
        "id": "mhyIYBt15kfz"
      },
      "source": [
        "### **Training** 🏋️‍♂️"
      ]
    },
    {
      "cell_type": "code",
      "metadata": {
        "id": "n__IhkONlxdm",
        "colab": {
          "base_uri": "https://localhost:8080/"
        },
        "outputId": "2fe0e657-928c-4687-aa73-4d6314df105d"
      },
      "source": [
        "train_losses, train_accuracies, val_losses, val_accuracies = [], [], [], []\n",
        "\n",
        "for epoch in range(n_epochs):\n",
        "  epoch_loss = epoch_accuracy = 0\n",
        "  val_loss = val_accuracy = 0\n",
        "\n",
        "  for trainX_mini_batch, trainY_mini_batch in zip(trainX_batches, trainY_batches):\n",
        "    trainX_mini_batch = trainX_mini_batch.to(device)\n",
        "    trainY_mini_batch = trainY_mini_batch.to(device)\n",
        "\n",
        "    # Forward pass to get prediction\n",
        "    train_prediction = nn_model.forward(trainX_mini_batch.float())\n",
        "    train_prediction = torch.squeeze(train_prediction)\n",
        "\n",
        "    # Calculate loss\n",
        "    train_loss = loss_function(train_prediction, trainY_mini_batch)\n",
        "\n",
        "    # Clearing up accumulated gradients whyyyyyyyyy!?\n",
        "    optimizer.zero_grad()\n",
        "\n",
        "    # Get the gradients using backpropagation power!!\n",
        "    train_loss.backward()\n",
        "\n",
        "    # Update parameters, or \"learn\" :)\n",
        "    optimizer.step()\n",
        "\n",
        "    epoch_loss += train_loss.item()\n",
        "    epoch_accuracy += calculate_accuracy(train_prediction, trainY_mini_batch)\n",
        "  \n",
        "  # For each epoch print loss and accucary on train and validation sets.\n",
        "  tfidf_valX = tfidf_valX.to(device)\n",
        "  valY = valY.to(device)\n",
        "\n",
        "  # Forward pass to get output\n",
        "  val_prediction = nn_model.forward(tfidf_valX.float())\n",
        "  val_prediction = torch.squeeze(val_prediction)\n",
        "  \n",
        "  # Calculate loss\n",
        "  val_loss = loss_function(val_prediction, valY)\n",
        "\n",
        "  # Add each mini batch's loss\n",
        "  validation_loss = val_loss.item()\n",
        "\n",
        "  # Add each mini batch's accuracy\n",
        "  val_accuracy = calculate_accuracy(val_prediction, valY)\n",
        "\n",
        "  epoch_loss /= len(trainX_batches)\n",
        "  epoch_accuracy /= len(trainX_batches)\n",
        "  val_losses.append(validation_loss)\n",
        "  train_losses.append(epoch_loss)\n",
        "  train_accuracies.append(epoch_accuracy)\n",
        "  val_accuracies.append(val_accuracy)\n",
        "  print(\"Epoch:\", epoch, \"\\n\"\n",
        "          \"Train_loss:     \\t\", round(epoch_loss, 4),      \"\\tTrain Accuracy:      \\t\", round(epoch_accuracy.item(), 4), \"\\n\"\n",
        "          \"Validation_loss:\\t\", round(validation_loss, 4), \"\\tValidation Accuracy: \\t\", round(val_accuracy.item(), 4),   \"\\n\")"
      ],
      "execution_count": null,
      "outputs": [
        {
          "output_type": "stream",
          "text": [
            "Epoch: 0 \n",
            "Train_loss:     \t 0.6968 \tTrain Accuracy:      \t 0.5013 \n",
            "Validation_loss:\t 0.697 \tValidation Accuracy: \t 0.4988 \n",
            "\n",
            "Epoch: 1 \n",
            "Train_loss:     \t 0.6963 \tTrain Accuracy:      \t 0.5013 \n",
            "Validation_loss:\t 0.6964 \tValidation Accuracy: \t 0.4988 \n",
            "\n",
            "Epoch: 2 \n",
            "Train_loss:     \t 0.6957 \tTrain Accuracy:      \t 0.5013 \n",
            "Validation_loss:\t 0.6957 \tValidation Accuracy: \t 0.4988 \n",
            "\n",
            "Epoch: 3 \n",
            "Train_loss:     \t 0.6949 \tTrain Accuracy:      \t 0.5013 \n",
            "Validation_loss:\t 0.6948 \tValidation Accuracy: \t 0.4988 \n",
            "\n",
            "Epoch: 4 \n",
            "Train_loss:     \t 0.6942 \tTrain Accuracy:      \t 0.5013 \n",
            "Validation_loss:\t 0.694 \tValidation Accuracy: \t 0.4988 \n",
            "\n",
            "Epoch: 5 \n",
            "Train_loss:     \t 0.6934 \tTrain Accuracy:      \t 0.5013 \n",
            "Validation_loss:\t 0.693 \tValidation Accuracy: \t 0.4988 \n",
            "\n",
            "Epoch: 6 \n",
            "Train_loss:     \t 0.6923 \tTrain Accuracy:      \t 0.5016 \n",
            "Validation_loss:\t 0.6915 \tValidation Accuracy: \t 0.5096 \n",
            "\n",
            "Epoch: 7 \n",
            "Train_loss:     \t 0.6896 \tTrain Accuracy:      \t 0.6506 \n",
            "Validation_loss:\t 0.6863 \tValidation Accuracy: \t 0.6458 \n",
            "\n",
            "Epoch: 8 \n",
            "Train_loss:     \t 0.6766 \tTrain Accuracy:      \t 0.6645 \n",
            "Validation_loss:\t 0.6597 \tValidation Accuracy: \t 0.6945 \n",
            "\n",
            "Epoch: 9 \n",
            "Train_loss:     \t 0.6337 \tTrain Accuracy:      \t 0.7051 \n",
            "Validation_loss:\t 0.605 \tValidation Accuracy: \t 0.7274 \n",
            "\n",
            "Epoch: 10 \n",
            "Train_loss:     \t 0.586 \tTrain Accuracy:      \t 0.743 \n",
            "Validation_loss:\t 0.5698 \tValidation Accuracy: \t 0.7573 \n",
            "\n",
            "Epoch: 11 \n",
            "Train_loss:     \t 0.5582 \tTrain Accuracy:      \t 0.7627 \n",
            "Validation_loss:\t 0.5467 \tValidation Accuracy: \t 0.7652 \n",
            "\n",
            "Epoch: 12 \n",
            "Train_loss:     \t 0.5318 \tTrain Accuracy:      \t 0.7692 \n",
            "Validation_loss:\t 0.5183 \tValidation Accuracy: \t 0.7669 \n",
            "\n",
            "Epoch: 13 \n",
            "Train_loss:     \t 0.5035 \tTrain Accuracy:      \t 0.7707 \n",
            "Validation_loss:\t 0.4956 \tValidation Accuracy: \t 0.768 \n",
            "\n",
            "Epoch: 14 \n",
            "Train_loss:     \t 0.4884 \tTrain Accuracy:      \t 0.771 \n",
            "Validation_loss:\t 0.4883 \tValidation Accuracy: \t 0.7687 \n",
            "\n",
            "Epoch: 15 \n",
            "Train_loss:     \t 0.4843 \tTrain Accuracy:      \t 0.7711 \n",
            "Validation_loss:\t 0.4864 \tValidation Accuracy: \t 0.7691 \n",
            "\n",
            "Epoch: 16 \n",
            "Train_loss:     \t 0.483 \tTrain Accuracy:      \t 0.7711 \n",
            "Validation_loss:\t 0.4857 \tValidation Accuracy: \t 0.7688 \n",
            "\n",
            "Epoch: 17 \n",
            "Train_loss:     \t 0.4824 \tTrain Accuracy:      \t 0.7711 \n",
            "Validation_loss:\t 0.4853 \tValidation Accuracy: \t 0.7687 \n",
            "\n",
            "Epoch: 18 \n",
            "Train_loss:     \t 0.482 \tTrain Accuracy:      \t 0.7711 \n",
            "Validation_loss:\t 0.485 \tValidation Accuracy: \t 0.7688 \n",
            "\n",
            "Epoch: 19 \n",
            "Train_loss:     \t 0.4817 \tTrain Accuracy:      \t 0.7711 \n",
            "Validation_loss:\t 0.4848 \tValidation Accuracy: \t 0.7687 \n",
            "\n",
            "Epoch: 20 \n",
            "Train_loss:     \t 0.4815 \tTrain Accuracy:      \t 0.7711 \n",
            "Validation_loss:\t 0.4845 \tValidation Accuracy: \t 0.7688 \n",
            "\n",
            "Epoch: 21 \n",
            "Train_loss:     \t 0.4812 \tTrain Accuracy:      \t 0.7712 \n",
            "Validation_loss:\t 0.4843 \tValidation Accuracy: \t 0.769 \n",
            "\n",
            "Epoch: 22 \n",
            "Train_loss:     \t 0.481 \tTrain Accuracy:      \t 0.7713 \n",
            "Validation_loss:\t 0.4841 \tValidation Accuracy: \t 0.7692 \n",
            "\n",
            "Epoch: 23 \n",
            "Train_loss:     \t 0.4807 \tTrain Accuracy:      \t 0.7714 \n",
            "Validation_loss:\t 0.4837 \tValidation Accuracy: \t 0.7695 \n",
            "\n",
            "Epoch: 24 \n",
            "Train_loss:     \t 0.4803 \tTrain Accuracy:      \t 0.7716 \n",
            "Validation_loss:\t 0.4833 \tValidation Accuracy: \t 0.7698 \n",
            "\n",
            "Epoch: 25 \n",
            "Train_loss:     \t 0.4799 \tTrain Accuracy:      \t 0.7718 \n",
            "Validation_loss:\t 0.4828 \tValidation Accuracy: \t 0.77 \n",
            "\n",
            "Epoch: 26 \n",
            "Train_loss:     \t 0.4792 \tTrain Accuracy:      \t 0.7721 \n",
            "Validation_loss:\t 0.482 \tValidation Accuracy: \t 0.7704 \n",
            "\n",
            "Epoch: 27 \n",
            "Train_loss:     \t 0.4784 \tTrain Accuracy:      \t 0.7727 \n",
            "Validation_loss:\t 0.4811 \tValidation Accuracy: \t 0.7705 \n",
            "\n",
            "Epoch: 28 \n",
            "Train_loss:     \t 0.4773 \tTrain Accuracy:      \t 0.7732 \n",
            "Validation_loss:\t 0.4799 \tValidation Accuracy: \t 0.7708 \n",
            "\n",
            "Epoch: 29 \n",
            "Train_loss:     \t 0.4761 \tTrain Accuracy:      \t 0.7738 \n",
            "Validation_loss:\t 0.4786 \tValidation Accuracy: \t 0.7722 \n",
            "\n",
            "Epoch: 30 \n",
            "Train_loss:     \t 0.4748 \tTrain Accuracy:      \t 0.7744 \n",
            "Validation_loss:\t 0.4772 \tValidation Accuracy: \t 0.7728 \n",
            "\n",
            "Epoch: 31 \n",
            "Train_loss:     \t 0.4733 \tTrain Accuracy:      \t 0.7752 \n",
            "Validation_loss:\t 0.4757 \tValidation Accuracy: \t 0.774 \n",
            "\n",
            "Epoch: 32 \n",
            "Train_loss:     \t 0.4718 \tTrain Accuracy:      \t 0.776 \n",
            "Validation_loss:\t 0.4742 \tValidation Accuracy: \t 0.7748 \n",
            "\n",
            "Epoch: 33 \n",
            "Train_loss:     \t 0.4702 \tTrain Accuracy:      \t 0.7768 \n",
            "Validation_loss:\t 0.4728 \tValidation Accuracy: \t 0.7749 \n",
            "\n",
            "Epoch: 34 \n",
            "Train_loss:     \t 0.4687 \tTrain Accuracy:      \t 0.7776 \n",
            "Validation_loss:\t 0.4713 \tValidation Accuracy: \t 0.776 \n",
            "\n",
            "Epoch: 35 \n",
            "Train_loss:     \t 0.4672 \tTrain Accuracy:      \t 0.7784 \n",
            "Validation_loss:\t 0.4699 \tValidation Accuracy: \t 0.7769 \n",
            "\n",
            "Epoch: 36 \n",
            "Train_loss:     \t 0.4658 \tTrain Accuracy:      \t 0.7793 \n",
            "Validation_loss:\t 0.4686 \tValidation Accuracy: \t 0.7775 \n",
            "\n",
            "Epoch: 37 \n",
            "Train_loss:     \t 0.4644 \tTrain Accuracy:      \t 0.7801 \n",
            "Validation_loss:\t 0.4674 \tValidation Accuracy: \t 0.7786 \n",
            "\n",
            "Epoch: 38 \n",
            "Train_loss:     \t 0.4631 \tTrain Accuracy:      \t 0.7808 \n",
            "Validation_loss:\t 0.4662 \tValidation Accuracy: \t 0.7789 \n",
            "\n",
            "Epoch: 39 \n",
            "Train_loss:     \t 0.4618 \tTrain Accuracy:      \t 0.7815 \n",
            "Validation_loss:\t 0.4652 \tValidation Accuracy: \t 0.7792 \n",
            "\n",
            "Epoch: 40 \n",
            "Train_loss:     \t 0.4606 \tTrain Accuracy:      \t 0.7821 \n",
            "Validation_loss:\t 0.4642 \tValidation Accuracy: \t 0.7795 \n",
            "\n",
            "Epoch: 41 \n",
            "Train_loss:     \t 0.4595 \tTrain Accuracy:      \t 0.7828 \n",
            "Validation_loss:\t 0.4632 \tValidation Accuracy: \t 0.7799 \n",
            "\n",
            "Epoch: 42 \n",
            "Train_loss:     \t 0.4584 \tTrain Accuracy:      \t 0.7834 \n",
            "Validation_loss:\t 0.4623 \tValidation Accuracy: \t 0.7802 \n",
            "\n",
            "Epoch: 43 \n",
            "Train_loss:     \t 0.4574 \tTrain Accuracy:      \t 0.7839 \n",
            "Validation_loss:\t 0.4615 \tValidation Accuracy: \t 0.781 \n",
            "\n",
            "Epoch: 44 \n",
            "Train_loss:     \t 0.4564 \tTrain Accuracy:      \t 0.7844 \n",
            "Validation_loss:\t 0.4608 \tValidation Accuracy: \t 0.781 \n",
            "\n",
            "Epoch: 45 \n",
            "Train_loss:     \t 0.4555 \tTrain Accuracy:      \t 0.7849 \n",
            "Validation_loss:\t 0.4601 \tValidation Accuracy: \t 0.7816 \n",
            "\n",
            "Epoch: 46 \n",
            "Train_loss:     \t 0.4546 \tTrain Accuracy:      \t 0.7855 \n",
            "Validation_loss:\t 0.4594 \tValidation Accuracy: \t 0.7815 \n",
            "\n",
            "Epoch: 47 \n",
            "Train_loss:     \t 0.4538 \tTrain Accuracy:      \t 0.7859 \n",
            "Validation_loss:\t 0.4588 \tValidation Accuracy: \t 0.782 \n",
            "\n",
            "Epoch: 48 \n",
            "Train_loss:     \t 0.453 \tTrain Accuracy:      \t 0.7864 \n",
            "Validation_loss:\t 0.4582 \tValidation Accuracy: \t 0.7819 \n",
            "\n",
            "Epoch: 49 \n",
            "Train_loss:     \t 0.4522 \tTrain Accuracy:      \t 0.7868 \n",
            "Validation_loss:\t 0.4577 \tValidation Accuracy: \t 0.7824 \n",
            "\n",
            "Epoch: 50 \n",
            "Train_loss:     \t 0.4515 \tTrain Accuracy:      \t 0.7873 \n",
            "Validation_loss:\t 0.4572 \tValidation Accuracy: \t 0.7829 \n",
            "\n",
            "Epoch: 51 \n",
            "Train_loss:     \t 0.4508 \tTrain Accuracy:      \t 0.7876 \n",
            "Validation_loss:\t 0.4568 \tValidation Accuracy: \t 0.783 \n",
            "\n",
            "Epoch: 52 \n",
            "Train_loss:     \t 0.4501 \tTrain Accuracy:      \t 0.7879 \n",
            "Validation_loss:\t 0.4563 \tValidation Accuracy: \t 0.7835 \n",
            "\n",
            "Epoch: 53 \n",
            "Train_loss:     \t 0.4494 \tTrain Accuracy:      \t 0.7882 \n",
            "Validation_loss:\t 0.4559 \tValidation Accuracy: \t 0.784 \n",
            "\n",
            "Epoch: 54 \n",
            "Train_loss:     \t 0.4488 \tTrain Accuracy:      \t 0.7887 \n",
            "Validation_loss:\t 0.4556 \tValidation Accuracy: \t 0.784 \n",
            "\n",
            "Epoch: 55 \n",
            "Train_loss:     \t 0.4482 \tTrain Accuracy:      \t 0.7891 \n",
            "Validation_loss:\t 0.4552 \tValidation Accuracy: \t 0.7843 \n",
            "\n",
            "Epoch: 56 \n",
            "Train_loss:     \t 0.4477 \tTrain Accuracy:      \t 0.7894 \n",
            "Validation_loss:\t 0.4549 \tValidation Accuracy: \t 0.7846 \n",
            "\n",
            "Epoch: 57 \n",
            "Train_loss:     \t 0.4471 \tTrain Accuracy:      \t 0.7897 \n",
            "Validation_loss:\t 0.4546 \tValidation Accuracy: \t 0.7848 \n",
            "\n",
            "Epoch: 58 \n",
            "Train_loss:     \t 0.4466 \tTrain Accuracy:      \t 0.79 \n",
            "Validation_loss:\t 0.4543 \tValidation Accuracy: \t 0.7848 \n",
            "\n",
            "Epoch: 59 \n",
            "Train_loss:     \t 0.446 \tTrain Accuracy:      \t 0.7904 \n",
            "Validation_loss:\t 0.454 \tValidation Accuracy: \t 0.7853 \n",
            "\n",
            "Epoch: 60 \n",
            "Train_loss:     \t 0.4455 \tTrain Accuracy:      \t 0.7907 \n",
            "Validation_loss:\t 0.4538 \tValidation Accuracy: \t 0.7855 \n",
            "\n",
            "Epoch: 61 \n",
            "Train_loss:     \t 0.4451 \tTrain Accuracy:      \t 0.791 \n",
            "Validation_loss:\t 0.4535 \tValidation Accuracy: \t 0.7852 \n",
            "\n",
            "Epoch: 62 \n",
            "Train_loss:     \t 0.4446 \tTrain Accuracy:      \t 0.7912 \n",
            "Validation_loss:\t 0.4533 \tValidation Accuracy: \t 0.7856 \n",
            "\n",
            "Epoch: 63 \n",
            "Train_loss:     \t 0.4441 \tTrain Accuracy:      \t 0.7915 \n",
            "Validation_loss:\t 0.453 \tValidation Accuracy: \t 0.7859 \n",
            "\n",
            "Epoch: 64 \n",
            "Train_loss:     \t 0.4437 \tTrain Accuracy:      \t 0.7918 \n",
            "Validation_loss:\t 0.4528 \tValidation Accuracy: \t 0.7857 \n",
            "\n",
            "Epoch: 65 \n",
            "Train_loss:     \t 0.4432 \tTrain Accuracy:      \t 0.792 \n",
            "Validation_loss:\t 0.4526 \tValidation Accuracy: \t 0.7857 \n",
            "\n",
            "Epoch: 66 \n",
            "Train_loss:     \t 0.4428 \tTrain Accuracy:      \t 0.7922 \n",
            "Validation_loss:\t 0.4524 \tValidation Accuracy: \t 0.7859 \n",
            "\n",
            "Epoch: 67 \n",
            "Train_loss:     \t 0.4424 \tTrain Accuracy:      \t 0.7924 \n",
            "Validation_loss:\t 0.4522 \tValidation Accuracy: \t 0.7858 \n",
            "\n",
            "Epoch: 68 \n",
            "Train_loss:     \t 0.442 \tTrain Accuracy:      \t 0.7927 \n",
            "Validation_loss:\t 0.452 \tValidation Accuracy: \t 0.7858 \n",
            "\n",
            "Epoch: 69 \n",
            "Train_loss:     \t 0.4416 \tTrain Accuracy:      \t 0.793 \n",
            "Validation_loss:\t 0.4518 \tValidation Accuracy: \t 0.786 \n",
            "\n"
          ],
          "name": "stdout"
        }
      ]
    },
    {
      "cell_type": "markdown",
      "metadata": {
        "id": "GZ8uDVBE5pho"
      },
      "source": [
        "### **Testing** ✅"
      ]
    },
    {
      "cell_type": "code",
      "metadata": {
        "id": "7geCyWGOp7SD",
        "colab": {
          "base_uri": "https://localhost:8080/"
        },
        "outputId": "a4a49c99-22b7-4202-ab9e-4551eb29cce9"
      },
      "source": [
        "tfidf_testX = tfidf_testX.to(device)\n",
        "testY = testY.to(device)\n",
        "\n",
        "# Forward pass to get the prediction\n",
        "test_prediction = nn_model.forward(tfidf_testX.float())\n",
        "test_prediction = torch.squeeze(test_prediction)\n",
        "\n",
        "test_accuracy = calculate_accuracy(test_prediction, testY)\n",
        "print('Model accuracy on test dataset:', round(test_accuracy.item(), 2), \"\\n\")"
      ],
      "execution_count": null,
      "outputs": [
        {
          "output_type": "stream",
          "text": [
            "Model accuracy on test dataset: 0.79 \n",
            "\n"
          ],
          "name": "stdout"
        }
      ]
    },
    {
      "cell_type": "markdown",
      "metadata": {
        "id": "7sSAi5Unqng2"
      },
      "source": [
        "### **Metrics** 📈"
      ]
    },
    {
      "cell_type": "markdown",
      "metadata": {
        "id": "aBQqMvS_q-35"
      },
      "source": [
        "**Classification Report**"
      ]
    },
    {
      "cell_type": "code",
      "metadata": {
        "id": "zk-YfujGsLMp",
        "colab": {
          "base_uri": "https://localhost:8080/"
        },
        "outputId": "14017ad3-38f8-4ba1-8817-1fdcc3a6d7f0"
      },
      "source": [
        "# Get the classification report\n",
        "from sklearn.metrics import classification_report\n",
        "\n",
        "test_prediction = test_prediction.to(device)\n",
        "test_prediction = test_prediction.ge(.5).view(-1).cpu()\n",
        "testY = testY.cpu()\n",
        "\n",
        "print(classification_report(testY, test_prediction))"
      ],
      "execution_count": null,
      "outputs": [
        {
          "output_type": "stream",
          "text": [
            "              precision    recall  f1-score   support\n",
            "\n",
            "         0.0       0.79      0.79      0.79     16264\n",
            "         1.0       0.79      0.78      0.79     16236\n",
            "\n",
            "    accuracy                           0.79     32500\n",
            "   macro avg       0.79      0.79      0.79     32500\n",
            "weighted avg       0.79      0.79      0.79     32500\n",
            "\n"
          ],
          "name": "stdout"
        }
      ]
    },
    {
      "cell_type": "markdown",
      "metadata": {
        "id": "VVdSHoVOq5iN"
      },
      "source": [
        "**Plots for *Loss* and *Accuracy* per epoch**"
      ]
    },
    {
      "cell_type": "code",
      "metadata": {
        "id": "e8rq0DkU3spX",
        "colab": {
          "base_uri": "https://localhost:8080/",
          "height": 411
        },
        "outputId": "850000d6-53b8-4256-8ea0-bc4034188ca0"
      },
      "source": [
        "plot_loss_accuracy(train_losses, train_accuracies, val_losses, val_accuracies, n_epochs)"
      ],
      "execution_count": null,
      "outputs": [
        {
          "output_type": "display_data",
          "data": {
            "image/png": "[encoded data removed]",
            "text/plain": [
              "<Figure size 1008x432 with 2 Axes>"
            ]
          },
          "metadata": {
            "tags": []
          }
        }
      ]
    },
    {
      "cell_type": "markdown",
      "metadata": {
        "id": "XzE7Hz_9Es-4"
      },
      "source": [
        "**ROC curve**"
      ]
    },
    {
      "cell_type": "code",
      "metadata": {
        "colab": {
          "base_uri": "https://localhost:8080/",
          "height": 514
        },
        "id": "jvvK4JriDtSt",
        "outputId": "39608a4a-0a4a-45b8-f32e-3e934126fca7"
      },
      "source": [
        "from sklearn.preprocessing import label_binarize\n",
        "from sklearn.metrics import roc_curve, auc, classification_report\n",
        "\n",
        "# Get predictions of our best model.\n",
        "y_score = nn_model.forward(tfidf_testX.float())\n",
        "\n",
        "# Convert tensors to numpy arrays after we pass them to cpu.\n",
        "y_score = y_score.cpu().detach().numpy()\n",
        "y = testY.cpu().detach().numpy()\n",
        "\n",
        "# Label binarization and store num of classes.\n",
        "y_test = label_binarize(y, classes=[0, 1])\n",
        "n_classes = y_test.shape[1]\n",
        "\n",
        "# Compute ROC curve and ROC area for each class\n",
        "fpr = dict()\n",
        "tpr = dict()\n",
        "roc_auc = dict()\n",
        "for i in range(n_classes):\n",
        "    fpr[i], tpr[i], _ = roc_curve(y_test[:,i], y_score[:,i])\n",
        "    roc_auc[i] = auc(fpr[i], tpr[i])\n",
        "\n",
        "plt.figure(figsize=(8,8))\n",
        "lw = 2\n",
        "plt.plot(fpr[0], tpr[0], color='darkorange',lw=lw, label='ROC curve (area = %0.2f)' % roc_auc[0])\n",
        "plt.plot([0, 1], [0, 1], color='navy', lw=lw, linestyle='--')\n",
        "plt.xlim([0.0, 1.0])\n",
        "plt.ylim([0.0, 1.05])\n",
        "plt.xlabel('False Positive Rate',fontsize=15)\n",
        "plt.ylabel('True Positive Rate',fontsize=15)\n",
        "plt.title('Receiver Operating Characteristic example', fontsize=15)\n",
        "plt.legend(loc=\"lower right\",fontsize=15)\n",
        "plt.show()\n"
      ],
      "execution_count": null,
      "outputs": [
        {
          "output_type": "display_data",
          "data": {
            "image/png": "[encoded data removed]",
            "text/plain": [
              "<Figure size 576x576 with 1 Axes>"
            ]
          },
          "metadata": {
            "tags": []
          }
        }
      ]
    },
    {
      "cell_type": "markdown",
      "metadata": {
        "id": "YcmiEwTerQwC"
      },
      "source": [
        "**Confusion Matrix**"
      ]
    },
    {
      "cell_type": "code",
      "metadata": {
        "colab": {
          "base_uri": "https://localhost:8080/",
          "height": 453
        },
        "id": "oVWlyVCLrGSO",
        "outputId": "1b714d1d-c869-4f1d-e9c1-45e89419f69b"
      },
      "source": [
        "from sklearn.metrics import confusion_matrix\n",
        "\n",
        "df_cf_matrix = pd.DataFrame(confusion_matrix(testY,y_score.round()))\n",
        "plt.figure(figsize=(10,7))\n",
        "sn.set(font_scale=1.4)\n",
        "\n",
        "group_labels = ['True Neg','False Pos','False Neg','True Pos']\n",
        "group_counts = ['{0:0.0f}'.format(value) for value in df_cf_matrix.values.flatten()]\n",
        "\n",
        "group_percentages = ['{0:.2%}'.format(value) for value in df_cf_matrix.values.flatten()/np.sum(df_cf_matrix.values.flatten())]\n",
        "\n",
        "box_labels = [f\"{v1}\\n{v2}\\n{v3}\".strip() for v1, v2, v3 in zip(group_labels,group_counts,group_percentages)]\n",
        "box_labels = np.asarray(box_labels).reshape(df_cf_matrix.shape[0],df_cf_matrix.shape[1])\n",
        "\n",
        "sn.heatmap(df_cf_matrix, annot=box_labels, fmt='', cmap='Blues')"
      ],
      "execution_count": null,
      "outputs": [
        {
          "output_type": "execute_result",
          "data": {
            "text/plain": [
              "<matplotlib.axes._subplots.AxesSubplot at 0x7f1f059d9710>"
            ]
          },
          "metadata": {
            "tags": []
          },
          "execution_count": 97
        },
        {
          "output_type": "display_data",
          "data": {
            "image/png": "[encoded data removed]",
            "text/plain": [
              "<Figure size 720x504 with 2 Axes>"
            ]
          },
          "metadata": {
            "tags": []
          }
        }
      ]
    },
    {
      "cell_type": "markdown",
      "metadata": {
        "id": "4vxHqXoCCqA4"
      },
      "source": [
        "## **Summary** (some numbers) 📊\n",
        "\n",
        "I have built a Feed-Forward Neural Network model which uses the TF-IDF scheme to vectorizing the data (i.e., convert the words into numbers). \n",
        "\n",
        "My model got accuracy of ***79%*** and was having the following properties:\n",
        "\n",
        "- Batch-size = $2^{14}$ = 16384\n",
        "- Number of epochs = 70\n",
        "- 4 hidden layers of size 300, 200, 100, 20 respectively\n",
        "- ReLU activation function for each layer\n",
        "- Sigmoid function at the output\n",
        "\n",
        "*I am using the **early stopping** technique at epoch 60 because as can be seen from the plots above, the model starts to **overtfit** the data around the epoch 60.*"
      ]
    }
  ]
}