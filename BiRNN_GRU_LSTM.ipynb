{
  "nbformat": 4,
  "nbformat_minor": 0,
  "metadata": {
    "accelerator": "GPU",
    "colab": {
      "name": "BiRNN-GRU/LSTM.ipynb",
      "provenance": [],
      "collapsed_sections": [],
      "toc_visible": true
    },
    "kernelspec": {
      "display_name": "Python 3",
      "name": "python3"
    },
    "language_info": {
      "name": "python"
    }
  },
  "cells": [
    {
      "cell_type": "markdown",
      "metadata": {
        "id": "Fszs3_lJhm7j"
      },
      "source": [
        "# **Twitter Sentiment Classifier** 👍👎\n",
        "using **Bidirectional Stacked Recurrent Neural Network** with **GRU & LSTM** cells and the **GloVe** pre-trained word embeddings. "
      ]
    },
    {
      "cell_type": "markdown",
      "metadata": {
        "id": "bpUmHX9JBb2H"
      },
      "source": [
        "Let's import some essential libraries."
      ]
    },
    {
      "cell_type": "code",
      "metadata": {
        "colab": {
          "base_uri": "https://localhost:8080/"
        },
        "id": "95nyo5v4Bc4H",
        "outputId": "c143703d-99f7-4dba-d81f-1daaa1ef9997"
      },
      "source": [
        "import numpy as np\n",
        "import pandas as pd\n",
        "import nltk\n",
        "import torch\n",
        "import torch.nn as nn\n",
        "import torch.optim as optim\n",
        "from nltk.corpus import stopwords\n",
        "import string\n",
        "import re\n",
        "from textblob import TextBlob\n",
        "import torchtext\n",
        "from torchtext import data\n",
        "from torchtext.vocab import Vectors, GloVe\n",
        "import matplotlib.pyplot as plt\n",
        "import matplotlib.collections as collections\n",
        "import seaborn as sns\n",
        "from sklearn.preprocessing import label_binarize\n",
        "from sklearn.metrics import roc_curve, auc, classification_report\n",
        "\n",
        "nltk.download('wordnet')\n",
        "nltk.download('stopwords')\n",
        "nltk.download('punkt')"
      ],
      "execution_count": 1,
      "outputs": [
        {
          "output_type": "stream",
          "name": "stdout",
          "text": [
            "[nltk_data] Downloading package wordnet to /root/nltk_data...\n",
            "[nltk_data]   Unzipping corpora/wordnet.zip.\n",
            "[nltk_data] Downloading package stopwords to /root/nltk_data...\n",
            "[nltk_data]   Unzipping corpora/stopwords.zip.\n",
            "[nltk_data] Downloading package punkt to /root/nltk_data...\n",
            "[nltk_data]   Unzipping tokenizers/punkt.zip.\n"
          ]
        },
        {
          "output_type": "execute_result",
          "data": {
            "text/plain": [
              "True"
            ]
          },
          "metadata": {},
          "execution_count": 1
        }
      ]
    },
    {
      "cell_type": "markdown",
      "metadata": {
        "id": "6GzZ6GtSyo-N"
      },
      "source": [
        "## **Load the dataset** 🗂\n",
        "\n",
        "We have to mount (connect) Google Drive where I keep the dataset.\n",
        "\n",
        "Then, we can import the data in csv format using the pandas `read_csv` method."
      ]
    },
    {
      "cell_type": "code",
      "metadata": {
        "colab": {
          "base_uri": "https://localhost:8080/",
          "height": 221
        },
        "id": "c3YwUyQhyr5i",
        "outputId": "1d3fcb13-ae4a-43e8-9362-62fb4dd4a16a"
      },
      "source": [
        "from google.colab import drive\n",
        "drive.mount('/content/drive')\n",
        "DATA_PATH = '/content/drive/My Drive/SentimentTweets.csv'\n",
        "data_csv = pd.read_csv(DATA_PATH)\n",
        "data_csv = data_csv.dropna()\n",
        "data_csv.head()"
      ],
      "execution_count": 2,
      "outputs": [
        {
          "output_type": "stream",
          "name": "stdout",
          "text": [
            "Mounted at /content/drive\n"
          ]
        },
        {
          "output_type": "execute_result",
          "data": {
            "text/html": [
              "<div>\n",
              "<style scoped>\n",
              "    .dataframe tbody tr th:only-of-type {\n",
              "        vertical-align: middle;\n",
              "    }\n",
              "\n",
              "    .dataframe tbody tr th {\n",
              "        vertical-align: top;\n",
              "    }\n",
              "\n",
              "    .dataframe thead th {\n",
              "        text-align: right;\n",
              "    }\n",
              "</style>\n",
              "<table border=\"1\" class=\"dataframe\">\n",
              "  <thead>\n",
              "    <tr style=\"text-align: right;\">\n",
              "      <th></th>\n",
              "      <th>Unnamed: 0</th>\n",
              "      <th>target</th>\n",
              "      <th>id</th>\n",
              "      <th>date</th>\n",
              "      <th>flag</th>\n",
              "      <th>user</th>\n",
              "      <th>text</th>\n",
              "    </tr>\n",
              "  </thead>\n",
              "  <tbody>\n",
              "    <tr>\n",
              "      <th>0</th>\n",
              "      <td>680949</td>\n",
              "      <td>0</td>\n",
              "      <td>2249621587</td>\n",
              "      <td>Fri Jun 19 22:41:08 PDT 2009</td>\n",
              "      <td>NO_QUERY</td>\n",
              "      <td>sukumarpant</td>\n",
              "      <td>#brokenpromises...</td>\n",
              "    </tr>\n",
              "    <tr>\n",
              "      <th>1</th>\n",
              "      <td>406741</td>\n",
              "      <td>0</td>\n",
              "      <td>2059003515</td>\n",
              "      <td>Sat Jun 06 16:03:21 PDT 2009</td>\n",
              "      <td>NO_QUERY</td>\n",
              "      <td>MTMSparrow</td>\n",
              "      <td>David Carradine  so sad. Thai's law not sure i...</td>\n",
              "    </tr>\n",
              "    <tr>\n",
              "      <th>2</th>\n",
              "      <td>1337108</td>\n",
              "      <td>4</td>\n",
              "      <td>2017466467</td>\n",
              "      <td>Wed Jun 03 08:26:14 PDT 2009</td>\n",
              "      <td>NO_QUERY</td>\n",
              "      <td>itsmemcee</td>\n",
              "      <td>A @ 415 B @ 425. Tell your bro i say congrats!</td>\n",
              "    </tr>\n",
              "    <tr>\n",
              "      <th>3</th>\n",
              "      <td>1560887</td>\n",
              "      <td>4</td>\n",
              "      <td>2186457254</td>\n",
              "      <td>Mon Jun 15 18:52:04 PDT 2009</td>\n",
              "      <td>NO_QUERY</td>\n",
              "      <td>jdfreivald</td>\n",
              "      <td>@littlefluffycat  Indeed.</td>\n",
              "    </tr>\n",
              "    <tr>\n",
              "      <th>4</th>\n",
              "      <td>1466295</td>\n",
              "      <td>4</td>\n",
              "      <td>2064458395</td>\n",
              "      <td>Sun Jun 07 06:19:20 PDT 2009</td>\n",
              "      <td>NO_QUERY</td>\n",
              "      <td>CrazyHan</td>\n",
              "      <td>Completed Race 4 Life in 58mins with girlies f...</td>\n",
              "    </tr>\n",
              "  </tbody>\n",
              "</table>\n",
              "</div>"
            ],
            "text/plain": [
              "   Unnamed: 0  ...                                               text\n",
              "0      680949  ...                                #brokenpromises... \n",
              "1      406741  ...  David Carradine  so sad. Thai's law not sure i...\n",
              "2     1337108  ...    A @ 415 B @ 425. Tell your bro i say congrats! \n",
              "3     1560887  ...                          @littlefluffycat  Indeed.\n",
              "4     1466295  ...  Completed Race 4 Life in 58mins with girlies f...\n",
              "\n",
              "[5 rows x 7 columns]"
            ]
          },
          "metadata": {},
          "execution_count": 2
        }
      ]
    },
    {
      "cell_type": "markdown",
      "metadata": {
        "id": "Awz1eKlUyu1v"
      },
      "source": [
        "## **Data pre-processing** 💽"
      ]
    },
    {
      "cell_type": "code",
      "metadata": {
        "colab": {
          "base_uri": "https://localhost:8080/",
          "height": 359
        },
        "id": "Y9VY7no2yxVd",
        "outputId": "f72cc594-b266-488c-e7a4-9eb64f0ca1cd"
      },
      "source": [
        "# Convert the data (from csv type) into dataframe data structure\n",
        "df = pd.DataFrame(data=data_csv) \n",
        "df.head(10)"
      ],
      "execution_count": 3,
      "outputs": [
        {
          "output_type": "execute_result",
          "data": {
            "text/html": [
              "<div>\n",
              "<style scoped>\n",
              "    .dataframe tbody tr th:only-of-type {\n",
              "        vertical-align: middle;\n",
              "    }\n",
              "\n",
              "    .dataframe tbody tr th {\n",
              "        vertical-align: top;\n",
              "    }\n",
              "\n",
              "    .dataframe thead th {\n",
              "        text-align: right;\n",
              "    }\n",
              "</style>\n",
              "<table border=\"1\" class=\"dataframe\">\n",
              "  <thead>\n",
              "    <tr style=\"text-align: right;\">\n",
              "      <th></th>\n",
              "      <th>Unnamed: 0</th>\n",
              "      <th>target</th>\n",
              "      <th>id</th>\n",
              "      <th>date</th>\n",
              "      <th>flag</th>\n",
              "      <th>user</th>\n",
              "      <th>text</th>\n",
              "    </tr>\n",
              "  </thead>\n",
              "  <tbody>\n",
              "    <tr>\n",
              "      <th>0</th>\n",
              "      <td>680949</td>\n",
              "      <td>0</td>\n",
              "      <td>2249621587</td>\n",
              "      <td>Fri Jun 19 22:41:08 PDT 2009</td>\n",
              "      <td>NO_QUERY</td>\n",
              "      <td>sukumarpant</td>\n",
              "      <td>#brokenpromises...</td>\n",
              "    </tr>\n",
              "    <tr>\n",
              "      <th>1</th>\n",
              "      <td>406741</td>\n",
              "      <td>0</td>\n",
              "      <td>2059003515</td>\n",
              "      <td>Sat Jun 06 16:03:21 PDT 2009</td>\n",
              "      <td>NO_QUERY</td>\n",
              "      <td>MTMSparrow</td>\n",
              "      <td>David Carradine  so sad. Thai's law not sure i...</td>\n",
              "    </tr>\n",
              "    <tr>\n",
              "      <th>2</th>\n",
              "      <td>1337108</td>\n",
              "      <td>4</td>\n",
              "      <td>2017466467</td>\n",
              "      <td>Wed Jun 03 08:26:14 PDT 2009</td>\n",
              "      <td>NO_QUERY</td>\n",
              "      <td>itsmemcee</td>\n",
              "      <td>A @ 415 B @ 425. Tell your bro i say congrats!</td>\n",
              "    </tr>\n",
              "    <tr>\n",
              "      <th>3</th>\n",
              "      <td>1560887</td>\n",
              "      <td>4</td>\n",
              "      <td>2186457254</td>\n",
              "      <td>Mon Jun 15 18:52:04 PDT 2009</td>\n",
              "      <td>NO_QUERY</td>\n",
              "      <td>jdfreivald</td>\n",
              "      <td>@littlefluffycat  Indeed.</td>\n",
              "    </tr>\n",
              "    <tr>\n",
              "      <th>4</th>\n",
              "      <td>1466295</td>\n",
              "      <td>4</td>\n",
              "      <td>2064458395</td>\n",
              "      <td>Sun Jun 07 06:19:20 PDT 2009</td>\n",
              "      <td>NO_QUERY</td>\n",
              "      <td>CrazyHan</td>\n",
              "      <td>Completed Race 4 Life in 58mins with girlies f...</td>\n",
              "    </tr>\n",
              "    <tr>\n",
              "      <th>5</th>\n",
              "      <td>725609</td>\n",
              "      <td>0</td>\n",
              "      <td>2262367427</td>\n",
              "      <td>Sat Jun 20 22:22:34 PDT 2009</td>\n",
              "      <td>NO_QUERY</td>\n",
              "      <td>farmtrain</td>\n",
              "      <td>Woot truck fixed!!! Now workin  http://myloc.m...</td>\n",
              "    </tr>\n",
              "    <tr>\n",
              "      <th>6</th>\n",
              "      <td>1361765</td>\n",
              "      <td>4</td>\n",
              "      <td>2049183514</td>\n",
              "      <td>Fri Jun 05 16:26:26 PDT 2009</td>\n",
              "      <td>NO_QUERY</td>\n",
              "      <td>tinadallasfla</td>\n",
              "      <td>@BLAQSHEEPCEO   yea I melt at that lol</td>\n",
              "    </tr>\n",
              "    <tr>\n",
              "      <th>7</th>\n",
              "      <td>114606</td>\n",
              "      <td>0</td>\n",
              "      <td>1826379900</td>\n",
              "      <td>Sun May 17 08:22:16 PDT 2009</td>\n",
              "      <td>NO_QUERY</td>\n",
              "      <td>Isoebelle</td>\n",
              "      <td>wants to do something radical...but not sure w...</td>\n",
              "    </tr>\n",
              "    <tr>\n",
              "      <th>8</th>\n",
              "      <td>620064</td>\n",
              "      <td>0</td>\n",
              "      <td>2228196366</td>\n",
              "      <td>Thu Jun 18 14:08:18 PDT 2009</td>\n",
              "      <td>NO_QUERY</td>\n",
              "      <td>alox</td>\n",
              "      <td>@brlamb scratch that, @bgilgoff tweeted it. Ch...</td>\n",
              "    </tr>\n",
              "    <tr>\n",
              "      <th>9</th>\n",
              "      <td>564150</td>\n",
              "      <td>0</td>\n",
              "      <td>2206118765</td>\n",
              "      <td>Wed Jun 17 06:02:05 PDT 2009</td>\n",
              "      <td>NO_QUERY</td>\n",
              "      <td>asimpleparadox</td>\n",
              "      <td>I am sore everywhere. Also found out an assess...</td>\n",
              "    </tr>\n",
              "  </tbody>\n",
              "</table>\n",
              "</div>"
            ],
            "text/plain": [
              "   Unnamed: 0  ...                                               text\n",
              "0      680949  ...                                #brokenpromises... \n",
              "1      406741  ...  David Carradine  so sad. Thai's law not sure i...\n",
              "2     1337108  ...    A @ 415 B @ 425. Tell your bro i say congrats! \n",
              "3     1560887  ...                          @littlefluffycat  Indeed.\n",
              "4     1466295  ...  Completed Race 4 Life in 58mins with girlies f...\n",
              "5      725609  ...  Woot truck fixed!!! Now workin  http://myloc.m...\n",
              "6     1361765  ...            @BLAQSHEEPCEO   yea I melt at that lol \n",
              "7      114606  ...  wants to do something radical...but not sure w...\n",
              "8      620064  ...  @brlamb scratch that, @bgilgoff tweeted it. Ch...\n",
              "9      564150  ...  I am sore everywhere. Also found out an assess...\n",
              "\n",
              "[10 rows x 7 columns]"
            ]
          },
          "metadata": {},
          "execution_count": 3
        }
      ]
    },
    {
      "cell_type": "markdown",
      "metadata": {
        "id": "-HdXevcXy25-"
      },
      "source": [
        "As we can see from above, the target column has 0s and 4s denoting the negative and the positive class respectively. We are going to change the *4s into 1s* using the `replace` method and hence we have:\n",
        "\n",
        "0 $\\rightarrow$ negative tweet 👎\n",
        "\n",
        "1 $\\rightarrow$ positive tweet 👍"
      ]
    },
    {
      "cell_type": "code",
      "metadata": {
        "colab": {
          "base_uri": "https://localhost:8080/",
          "height": 359
        },
        "id": "-gTguAfVy6fX",
        "outputId": "845fa754-8d1e-4851-ce55-fbddd62322a6"
      },
      "source": [
        "df['target'] = df['target'].replace(4,1)\n",
        "df.head(10)"
      ],
      "execution_count": 4,
      "outputs": [
        {
          "output_type": "execute_result",
          "data": {
            "text/html": [
              "<div>\n",
              "<style scoped>\n",
              "    .dataframe tbody tr th:only-of-type {\n",
              "        vertical-align: middle;\n",
              "    }\n",
              "\n",
              "    .dataframe tbody tr th {\n",
              "        vertical-align: top;\n",
              "    }\n",
              "\n",
              "    .dataframe thead th {\n",
              "        text-align: right;\n",
              "    }\n",
              "</style>\n",
              "<table border=\"1\" class=\"dataframe\">\n",
              "  <thead>\n",
              "    <tr style=\"text-align: right;\">\n",
              "      <th></th>\n",
              "      <th>Unnamed: 0</th>\n",
              "      <th>target</th>\n",
              "      <th>id</th>\n",
              "      <th>date</th>\n",
              "      <th>flag</th>\n",
              "      <th>user</th>\n",
              "      <th>text</th>\n",
              "    </tr>\n",
              "  </thead>\n",
              "  <tbody>\n",
              "    <tr>\n",
              "      <th>0</th>\n",
              "      <td>680949</td>\n",
              "      <td>0</td>\n",
              "      <td>2249621587</td>\n",
              "      <td>Fri Jun 19 22:41:08 PDT 2009</td>\n",
              "      <td>NO_QUERY</td>\n",
              "      <td>sukumarpant</td>\n",
              "      <td>#brokenpromises...</td>\n",
              "    </tr>\n",
              "    <tr>\n",
              "      <th>1</th>\n",
              "      <td>406741</td>\n",
              "      <td>0</td>\n",
              "      <td>2059003515</td>\n",
              "      <td>Sat Jun 06 16:03:21 PDT 2009</td>\n",
              "      <td>NO_QUERY</td>\n",
              "      <td>MTMSparrow</td>\n",
              "      <td>David Carradine  so sad. Thai's law not sure i...</td>\n",
              "    </tr>\n",
              "    <tr>\n",
              "      <th>2</th>\n",
              "      <td>1337108</td>\n",
              "      <td>1</td>\n",
              "      <td>2017466467</td>\n",
              "      <td>Wed Jun 03 08:26:14 PDT 2009</td>\n",
              "      <td>NO_QUERY</td>\n",
              "      <td>itsmemcee</td>\n",
              "      <td>A @ 415 B @ 425. Tell your bro i say congrats!</td>\n",
              "    </tr>\n",
              "    <tr>\n",
              "      <th>3</th>\n",
              "      <td>1560887</td>\n",
              "      <td>1</td>\n",
              "      <td>2186457254</td>\n",
              "      <td>Mon Jun 15 18:52:04 PDT 2009</td>\n",
              "      <td>NO_QUERY</td>\n",
              "      <td>jdfreivald</td>\n",
              "      <td>@littlefluffycat  Indeed.</td>\n",
              "    </tr>\n",
              "    <tr>\n",
              "      <th>4</th>\n",
              "      <td>1466295</td>\n",
              "      <td>1</td>\n",
              "      <td>2064458395</td>\n",
              "      <td>Sun Jun 07 06:19:20 PDT 2009</td>\n",
              "      <td>NO_QUERY</td>\n",
              "      <td>CrazyHan</td>\n",
              "      <td>Completed Race 4 Life in 58mins with girlies f...</td>\n",
              "    </tr>\n",
              "    <tr>\n",
              "      <th>5</th>\n",
              "      <td>725609</td>\n",
              "      <td>0</td>\n",
              "      <td>2262367427</td>\n",
              "      <td>Sat Jun 20 22:22:34 PDT 2009</td>\n",
              "      <td>NO_QUERY</td>\n",
              "      <td>farmtrain</td>\n",
              "      <td>Woot truck fixed!!! Now workin  http://myloc.m...</td>\n",
              "    </tr>\n",
              "    <tr>\n",
              "      <th>6</th>\n",
              "      <td>1361765</td>\n",
              "      <td>1</td>\n",
              "      <td>2049183514</td>\n",
              "      <td>Fri Jun 05 16:26:26 PDT 2009</td>\n",
              "      <td>NO_QUERY</td>\n",
              "      <td>tinadallasfla</td>\n",
              "      <td>@BLAQSHEEPCEO   yea I melt at that lol</td>\n",
              "    </tr>\n",
              "    <tr>\n",
              "      <th>7</th>\n",
              "      <td>114606</td>\n",
              "      <td>0</td>\n",
              "      <td>1826379900</td>\n",
              "      <td>Sun May 17 08:22:16 PDT 2009</td>\n",
              "      <td>NO_QUERY</td>\n",
              "      <td>Isoebelle</td>\n",
              "      <td>wants to do something radical...but not sure w...</td>\n",
              "    </tr>\n",
              "    <tr>\n",
              "      <th>8</th>\n",
              "      <td>620064</td>\n",
              "      <td>0</td>\n",
              "      <td>2228196366</td>\n",
              "      <td>Thu Jun 18 14:08:18 PDT 2009</td>\n",
              "      <td>NO_QUERY</td>\n",
              "      <td>alox</td>\n",
              "      <td>@brlamb scratch that, @bgilgoff tweeted it. Ch...</td>\n",
              "    </tr>\n",
              "    <tr>\n",
              "      <th>9</th>\n",
              "      <td>564150</td>\n",
              "      <td>0</td>\n",
              "      <td>2206118765</td>\n",
              "      <td>Wed Jun 17 06:02:05 PDT 2009</td>\n",
              "      <td>NO_QUERY</td>\n",
              "      <td>asimpleparadox</td>\n",
              "      <td>I am sore everywhere. Also found out an assess...</td>\n",
              "    </tr>\n",
              "  </tbody>\n",
              "</table>\n",
              "</div>"
            ],
            "text/plain": [
              "   Unnamed: 0  ...                                               text\n",
              "0      680949  ...                                #brokenpromises... \n",
              "1      406741  ...  David Carradine  so sad. Thai's law not sure i...\n",
              "2     1337108  ...    A @ 415 B @ 425. Tell your bro i say congrats! \n",
              "3     1560887  ...                          @littlefluffycat  Indeed.\n",
              "4     1466295  ...  Completed Race 4 Life in 58mins with girlies f...\n",
              "5      725609  ...  Woot truck fixed!!! Now workin  http://myloc.m...\n",
              "6     1361765  ...            @BLAQSHEEPCEO   yea I melt at that lol \n",
              "7      114606  ...  wants to do something radical...but not sure w...\n",
              "8      620064  ...  @brlamb scratch that, @bgilgoff tweeted it. Ch...\n",
              "9      564150  ...  I am sore everywhere. Also found out an assess...\n",
              "\n",
              "[10 rows x 7 columns]"
            ]
          },
          "metadata": {},
          "execution_count": 4
        }
      ]
    },
    {
      "cell_type": "markdown",
      "metadata": {
        "id": "so-z7kdMy9Dz"
      },
      "source": [
        "### **Data cleaning** 🧹\n",
        "\n",
        "In the following code snippets we \"clean\" the data by doing the following:\n",
        "\n",
        "* **Drop the uneseccary columns** such as \"Unnamed: 0\", \"id\", etc\n",
        "* **Lower** the characers using the string method `lower` \n",
        "* **Remove special characters** such as punctuation points, links, weird characters, etc."
      ]
    },
    {
      "cell_type": "code",
      "metadata": {
        "colab": {
          "base_uri": "https://localhost:8080/",
          "height": 204
        },
        "id": "gZbL43Dwy_VT",
        "outputId": "b72fdb9e-8de0-4076-ec9f-08fc5fffc7f7"
      },
      "source": [
        "# Drop the unnecessary columns\n",
        "df.drop(columns = ['Unnamed: 0', 'id', 'date', 'flag', 'user'], inplace = True)\n",
        "df.head()"
      ],
      "execution_count": 5,
      "outputs": [
        {
          "output_type": "execute_result",
          "data": {
            "text/html": [
              "<div>\n",
              "<style scoped>\n",
              "    .dataframe tbody tr th:only-of-type {\n",
              "        vertical-align: middle;\n",
              "    }\n",
              "\n",
              "    .dataframe tbody tr th {\n",
              "        vertical-align: top;\n",
              "    }\n",
              "\n",
              "    .dataframe thead th {\n",
              "        text-align: right;\n",
              "    }\n",
              "</style>\n",
              "<table border=\"1\" class=\"dataframe\">\n",
              "  <thead>\n",
              "    <tr style=\"text-align: right;\">\n",
              "      <th></th>\n",
              "      <th>target</th>\n",
              "      <th>text</th>\n",
              "    </tr>\n",
              "  </thead>\n",
              "  <tbody>\n",
              "    <tr>\n",
              "      <th>0</th>\n",
              "      <td>0</td>\n",
              "      <td>#brokenpromises...</td>\n",
              "    </tr>\n",
              "    <tr>\n",
              "      <th>1</th>\n",
              "      <td>0</td>\n",
              "      <td>David Carradine  so sad. Thai's law not sure i...</td>\n",
              "    </tr>\n",
              "    <tr>\n",
              "      <th>2</th>\n",
              "      <td>1</td>\n",
              "      <td>A @ 415 B @ 425. Tell your bro i say congrats!</td>\n",
              "    </tr>\n",
              "    <tr>\n",
              "      <th>3</th>\n",
              "      <td>1</td>\n",
              "      <td>@littlefluffycat  Indeed.</td>\n",
              "    </tr>\n",
              "    <tr>\n",
              "      <th>4</th>\n",
              "      <td>1</td>\n",
              "      <td>Completed Race 4 Life in 58mins with girlies f...</td>\n",
              "    </tr>\n",
              "  </tbody>\n",
              "</table>\n",
              "</div>"
            ],
            "text/plain": [
              "   target                                               text\n",
              "0       0                                #brokenpromises... \n",
              "1       0  David Carradine  so sad. Thai's law not sure i...\n",
              "2       1    A @ 415 B @ 425. Tell your bro i say congrats! \n",
              "3       1                          @littlefluffycat  Indeed.\n",
              "4       1  Completed Race 4 Life in 58mins with girlies f..."
            ]
          },
          "metadata": {},
          "execution_count": 5
        }
      ]
    },
    {
      "cell_type": "code",
      "metadata": {
        "colab": {
          "base_uri": "https://localhost:8080/",
          "height": 359
        },
        "id": "T8eAGsBbzBm3",
        "outputId": "4c2a969c-4c61-4803-8913-9f47daeb5d4f"
      },
      "source": [
        "# Apply text cleaning (lower, remove special chars)\n",
        "def text_cleaning(text):\n",
        "  text = text.lower()\n",
        "  # Remove non alphanumeric characters\n",
        "  text = re.sub(r'[^A-Za-z0-9]+', ' ', text)\n",
        "  # Remove links\n",
        "  text = re.sub(r'https?:/\\/\\S+', ' ', text)\n",
        "  # Remove punctuation\n",
        "  text = text.translate(str.maketrans('', '', string.punctuation))\n",
        "  return text\n",
        "\n",
        "df['text']=df['text'].apply(text_cleaning)\n",
        "df.head(10)"
      ],
      "execution_count": 6,
      "outputs": [
        {
          "output_type": "execute_result",
          "data": {
            "text/html": [
              "<div>\n",
              "<style scoped>\n",
              "    .dataframe tbody tr th:only-of-type {\n",
              "        vertical-align: middle;\n",
              "    }\n",
              "\n",
              "    .dataframe tbody tr th {\n",
              "        vertical-align: top;\n",
              "    }\n",
              "\n",
              "    .dataframe thead th {\n",
              "        text-align: right;\n",
              "    }\n",
              "</style>\n",
              "<table border=\"1\" class=\"dataframe\">\n",
              "  <thead>\n",
              "    <tr style=\"text-align: right;\">\n",
              "      <th></th>\n",
              "      <th>target</th>\n",
              "      <th>text</th>\n",
              "    </tr>\n",
              "  </thead>\n",
              "  <tbody>\n",
              "    <tr>\n",
              "      <th>0</th>\n",
              "      <td>0</td>\n",
              "      <td>brokenpromises</td>\n",
              "    </tr>\n",
              "    <tr>\n",
              "      <th>1</th>\n",
              "      <td>0</td>\n",
              "      <td>david carradine so sad thai s law not sure if ...</td>\n",
              "    </tr>\n",
              "    <tr>\n",
              "      <th>2</th>\n",
              "      <td>1</td>\n",
              "      <td>a 415 b 425 tell your bro i say congrats</td>\n",
              "    </tr>\n",
              "    <tr>\n",
              "      <th>3</th>\n",
              "      <td>1</td>\n",
              "      <td>littlefluffycat indeed</td>\n",
              "    </tr>\n",
              "    <tr>\n",
              "      <th>4</th>\n",
              "      <td>1</td>\n",
              "      <td>completed race 4 life in 58mins with girlies f...</td>\n",
              "    </tr>\n",
              "    <tr>\n",
              "      <th>5</th>\n",
              "      <td>0</td>\n",
              "      <td>woot truck fixed now workin http myloc me 4nif</td>\n",
              "    </tr>\n",
              "    <tr>\n",
              "      <th>6</th>\n",
              "      <td>1</td>\n",
              "      <td>blaqsheepceo yea i melt at that lol</td>\n",
              "    </tr>\n",
              "    <tr>\n",
              "      <th>7</th>\n",
              "      <td>0</td>\n",
              "      <td>wants to do something radical but not sure wha...</td>\n",
              "    </tr>\n",
              "    <tr>\n",
              "      <th>8</th>\n",
              "      <td>0</td>\n",
              "      <td>brlamb scratch that bgilgoff tweeted it chann...</td>\n",
              "    </tr>\n",
              "    <tr>\n",
              "      <th>9</th>\n",
              "      <td>0</td>\n",
              "      <td>i am sore everywhere also found out an assessm...</td>\n",
              "    </tr>\n",
              "  </tbody>\n",
              "</table>\n",
              "</div>"
            ],
            "text/plain": [
              "   target                                               text\n",
              "0       0                                    brokenpromises \n",
              "1       0  david carradine so sad thai s law not sure if ...\n",
              "2       1          a 415 b 425 tell your bro i say congrats \n",
              "3       1                            littlefluffycat indeed \n",
              "4       1  completed race 4 life in 58mins with girlies f...\n",
              "5       0     woot truck fixed now workin http myloc me 4nif\n",
              "6       1               blaqsheepceo yea i melt at that lol \n",
              "7       0  wants to do something radical but not sure wha...\n",
              "8       0   brlamb scratch that bgilgoff tweeted it chann...\n",
              "9       0  i am sore everywhere also found out an assessm..."
            ]
          },
          "metadata": {},
          "execution_count": 6
        }
      ]
    },
    {
      "cell_type": "markdown",
      "metadata": {
        "id": "mwA53fjczE2K"
      },
      "source": [
        "### **Tokenization and Lemmatization** 🔑\n",
        "\n",
        "**Tokenization** is necessary to prepare the data in order to vectorize them using the GloVe pre-trained word embeddings.  \n",
        "The goal of **Lemmatization** (or Stemming) is to reduce inflectional forms and sometimes derivationally related forms of a word to a common base form.  \n",
        "For instance, Lemmatization (or Stemming) will do the following:   \n",
        "am, are, is $\\Rightarrow$ be  \n",
        "car, cars, car's, cars' $\\Rightarrow$ car"
      ]
    },
    {
      "cell_type": "code",
      "metadata": {
        "colab": {
          "base_uri": "https://localhost:8080/",
          "height": 359
        },
        "id": "8go5B8cnzItO",
        "outputId": "c37f4a05-3ae4-4529-ae96-40ad1096c0f0"
      },
      "source": [
        "w_tokenizer = nltk.tokenize.WhitespaceTokenizer()\n",
        "lemmatizer = nltk.stem.WordNetLemmatizer()\n",
        "\n",
        "# Function that lemmatizes the tokenized text\n",
        "# text is being tokenized and passed immediately into the lemmatizer \n",
        "def lemmatize_text(text):\n",
        "    return \" \".join([lemmatizer.lemmatize(w, pos=\"v\") for w in w_tokenizer.tokenize(text)])\n",
        "\n",
        "df['text'] = df.text.apply(lemmatize_text).copy()\n",
        "\n",
        "df.head(10)"
      ],
      "execution_count": 7,
      "outputs": [
        {
          "output_type": "execute_result",
          "data": {
            "text/html": [
              "<div>\n",
              "<style scoped>\n",
              "    .dataframe tbody tr th:only-of-type {\n",
              "        vertical-align: middle;\n",
              "    }\n",
              "\n",
              "    .dataframe tbody tr th {\n",
              "        vertical-align: top;\n",
              "    }\n",
              "\n",
              "    .dataframe thead th {\n",
              "        text-align: right;\n",
              "    }\n",
              "</style>\n",
              "<table border=\"1\" class=\"dataframe\">\n",
              "  <thead>\n",
              "    <tr style=\"text-align: right;\">\n",
              "      <th></th>\n",
              "      <th>target</th>\n",
              "      <th>text</th>\n",
              "    </tr>\n",
              "  </thead>\n",
              "  <tbody>\n",
              "    <tr>\n",
              "      <th>0</th>\n",
              "      <td>0</td>\n",
              "      <td>brokenpromises</td>\n",
              "    </tr>\n",
              "    <tr>\n",
              "      <th>1</th>\n",
              "      <td>0</td>\n",
              "      <td>david carradine so sad thai s law not sure if ...</td>\n",
              "    </tr>\n",
              "    <tr>\n",
              "      <th>2</th>\n",
              "      <td>1</td>\n",
              "      <td>a 415 b 425 tell your bro i say congrats</td>\n",
              "    </tr>\n",
              "    <tr>\n",
              "      <th>3</th>\n",
              "      <td>1</td>\n",
              "      <td>littlefluffycat indeed</td>\n",
              "    </tr>\n",
              "    <tr>\n",
              "      <th>4</th>\n",
              "      <td>1</td>\n",
              "      <td>complete race 4 life in 58mins with girlies fr...</td>\n",
              "    </tr>\n",
              "    <tr>\n",
              "      <th>5</th>\n",
              "      <td>0</td>\n",
              "      <td>woot truck fix now workin http myloc me 4nif</td>\n",
              "    </tr>\n",
              "    <tr>\n",
              "      <th>6</th>\n",
              "      <td>1</td>\n",
              "      <td>blaqsheepceo yea i melt at that lol</td>\n",
              "    </tr>\n",
              "    <tr>\n",
              "      <th>7</th>\n",
              "      <td>0</td>\n",
              "      <td>want to do something radical but not sure what...</td>\n",
              "    </tr>\n",
              "    <tr>\n",
              "      <th>8</th>\n",
              "      <td>0</td>\n",
              "      <td>brlamb scratch that bgilgoff tweet it channel ...</td>\n",
              "    </tr>\n",
              "    <tr>\n",
              "      <th>9</th>\n",
              "      <td>0</td>\n",
              "      <td>i be sore everywhere also find out an assessme...</td>\n",
              "    </tr>\n",
              "  </tbody>\n",
              "</table>\n",
              "</div>"
            ],
            "text/plain": [
              "   target                                               text\n",
              "0       0                                     brokenpromises\n",
              "1       0  david carradine so sad thai s law not sure if ...\n",
              "2       1           a 415 b 425 tell your bro i say congrats\n",
              "3       1                             littlefluffycat indeed\n",
              "4       1  complete race 4 life in 58mins with girlies fr...\n",
              "5       0       woot truck fix now workin http myloc me 4nif\n",
              "6       1                blaqsheepceo yea i melt at that lol\n",
              "7       0  want to do something radical but not sure what...\n",
              "8       0  brlamb scratch that bgilgoff tweet it channel ...\n",
              "9       0  i be sore everywhere also find out an assessme..."
            ]
          },
          "metadata": {},
          "execution_count": 7
        }
      ]
    },
    {
      "cell_type": "markdown",
      "metadata": {
        "id": "y4ZB1LbTzM5g"
      },
      "source": [
        "### **Split the dataset** 🖇\n",
        "into *training, validation* and *testing* sets.  \n",
        "Also, save the datasets in *csv* format in order to be obtained by the TabularDataset later."
      ]
    },
    {
      "cell_type": "code",
      "metadata": {
        "id": "FQNpI4zBzPKO"
      },
      "source": [
        "from sklearn.model_selection import train_test_split\n",
        "\n",
        "# Swap the columns in order to be ['text', 'target'] for convenience\n",
        "df = df.reindex(columns=['text', 'target'])\n",
        "\n",
        "train, test = train_test_split(df, test_size=0.1, random_state=123)\n",
        "train, val = train_test_split(train, test_size=0.1, random_state=123)\n",
        "\n",
        "train.to_csv(\"/content/drive/My Drive/train.csv\", index=False)\n",
        "test.to_csv(\"/content/drive/My Drive/test.csv\", index=False)\n",
        "val.to_csv(\"/content/drive/My Drive/valid.csv\", index=False)"
      ],
      "execution_count": 8,
      "outputs": []
    },
    {
      "cell_type": "code",
      "metadata": {
        "colab": {
          "base_uri": "https://localhost:8080/"
        },
        "id": "m3Io9yN5zSFa",
        "outputId": "e65f29dd-520d-42d6-d506-cc310af42c8b"
      },
      "source": [
        "print(train.shape)\n",
        "print(val.shape)\n",
        "print(test.shape)"
      ],
      "execution_count": 9,
      "outputs": [
        {
          "output_type": "stream",
          "name": "stdout",
          "text": [
            "(1036800, 2)\n",
            "(115200, 2)\n",
            "(128000, 2)\n"
          ]
        }
      ]
    },
    {
      "cell_type": "markdown",
      "metadata": {
        "id": "184gpXJj7SIZ"
      },
      "source": [
        "### **Field objects definition 🏞️**\n",
        "Define the Field object that will store information about the way of preprocessing our data. \n",
        "* *Field* is used to specify how to preprocess each data column in our dataset.\n",
        "* *LabelField* is used only to define the label in classification tasks.\n",
        "\n",
        "We'll be using ***packed padded sequences***, which will make our RNN *only process the non-padded elements of our sequence*, and for any padded element the output will be a zero tensor. \n",
        "\n",
        "Parameters of *Field* object:\n",
        "* `tokenize = \"spacy\"` to use the SpaCy tokenizer.\n",
        "* `include_lengths = True` to tell the RNN how long the sequences (tweets) are in order to use *packed padded sequences*. This will cause `batch.text` to now be a tuple with the first element being our tweet as a numericalized tensor thas has been padded and the second element being the actual length of our sentence."
      ]
    },
    {
      "cell_type": "code",
      "metadata": {
        "id": "eBdeFMd4y4nr"
      },
      "source": [
        "from torchtext.legacy import data\n",
        "import spacy\n",
        "\n",
        "TEXT = data.Field(tokenize = \"spacy\",\n",
        "                  include_lengths = True)\n",
        "\n",
        "LABEL = data.LabelField(dtype=torch.float)"
      ],
      "execution_count": 10,
      "outputs": []
    },
    {
      "cell_type": "markdown",
      "metadata": {
        "id": "G3NGXief7Zcf"
      },
      "source": [
        "Now we will connect the Field objects we created with the columns in the dataset. In our dataset we don't have a specific title for the columns, so we can just call them \"text\" and \"labels\" (note that the order of the fields names is supposed to be in the same order as the in dataset).   \n",
        "So, we will have: `fields = [('text', TEXT), ('label', LABEL)]`"
      ]
    },
    {
      "cell_type": "markdown",
      "metadata": {
        "id": "aH-ZiTLRAzlE"
      },
      "source": [
        "Then, we can use it to import the data by TabularDataset. TabularDataset is a TorchText data structure that specifically deals with tabular datasets like CSV and TSV. We will need to define the data folder path, the names of the files and the format of the data file (CSV/TSV). \n",
        "In the `fields` variable we will define the Fields objects that we just mentioned above. \n",
        "`skip_header = True` because we want to skip the first row in the dataset (first row in our dataset is the header: 'text', 'label')"
      ]
    },
    {
      "cell_type": "code",
      "metadata": {
        "id": "7gttYVwKzb8n"
      },
      "source": [
        "# Use TabularDataset\n",
        "# loading train, test and validation data \n",
        "train_data, valid_data, test_data = data.TabularDataset.splits(\n",
        "    path = \"/content/drive/My Drive/\", \n",
        "    train = \"train.csv\", \n",
        "    validation = \"valid.csv\", \n",
        "    test = \"test.csv\",\n",
        "    format = \"csv\", \n",
        "    skip_header = True, \n",
        "    fields = [('text', TEXT), ('label', LABEL)]\n",
        ")"
      ],
      "execution_count": 11,
      "outputs": []
    },
    {
      "cell_type": "markdown",
      "metadata": {
        "id": "krRjX2IKCEPW"
      },
      "source": [
        "TabularDataset wraps all the columns (text and labels) into a single object which looks like that:"
      ]
    },
    {
      "cell_type": "code",
      "metadata": {
        "colab": {
          "base_uri": "https://localhost:8080/"
        },
        "id": "kb3RNJ_LCH7Y",
        "outputId": "8cc5de05-a027-4612-bbf1-8d39e4dacb21"
      },
      "source": [
        "print(vars(train_data[0]))"
      ],
      "execution_count": 12,
      "outputs": [
        {
          "output_type": "stream",
          "name": "stdout",
          "text": [
            "{'text': ['i', 'want', 'a', 'walk', 'to', 'remember', 'on', 'dvd'], 'label': '0'}\n"
          ]
        }
      ]
    },
    {
      "cell_type": "markdown",
      "metadata": {
        "id": "x-37XftICZxH"
      },
      "source": [
        "We can print just the sentence or the label of the first row using our Field object name (in our case we called it 'text' and 'label')"
      ]
    },
    {
      "cell_type": "code",
      "metadata": {
        "colab": {
          "base_uri": "https://localhost:8080/"
        },
        "id": "G0LXQ3CxChxX",
        "outputId": "040c6d50-0f21-4812-8fa2-b06db41d9fc1"
      },
      "source": [
        "print(train_data[0].text)\n",
        "print(train_data[0].label)"
      ],
      "execution_count": 13,
      "outputs": [
        {
          "output_type": "stream",
          "name": "stdout",
          "text": [
            "['i', 'want', 'a', 'walk', 'to', 'remember', 'on', 'dvd']\n",
            "0\n"
          ]
        }
      ]
    },
    {
      "cell_type": "code",
      "metadata": {
        "colab": {
          "base_uri": "https://localhost:8080/"
        },
        "id": "5cpA46ffzljj",
        "outputId": "b95ee5e8-32fa-4c07-f0df-29fb734c0635"
      },
      "source": [
        "print(f'Number of training examples: {len(train_data)}')\n",
        "print(f'Number of validation examples: {len(valid_data)}')\n",
        "print(f'Number of testing examples: {len(test_data)}')"
      ],
      "execution_count": 14,
      "outputs": [
        {
          "output_type": "stream",
          "name": "stdout",
          "text": [
            "Number of training examples: 1036800\n",
            "Number of validation examples: 115200\n",
            "Number of testing examples: 128000\n"
          ]
        }
      ]
    },
    {
      "cell_type": "markdown",
      "metadata": {
        "id": "jqyXWIMl7h7_"
      },
      "source": [
        "### **Build the GloVe vocabulary** 📖\n",
        "\n",
        "We will create the vocabulary by mapping all the unique words (in our case we set it to 25000 by `max_size` parameter) in the train_data to an index. Then, we use word embedding that will map the index to the corresponding GloVe word embedding.\n"
      ]
    },
    {
      "cell_type": "code",
      "metadata": {
        "colab": {
          "base_uri": "https://localhost:8080/"
        },
        "id": "lZkdFBTcCntn",
        "outputId": "d8587039-39d1-4158-b577-8423529dc2ad"
      },
      "source": [
        "# Download the GloVe twitter embeddings\n",
        "!wget -nc https://nlp.stanford.edu/data/glove.twitter.27B.zip\n",
        "!unzip -n -q glove.twitter.27B.zip"
      ],
      "execution_count": 15,
      "outputs": [
        {
          "output_type": "stream",
          "name": "stdout",
          "text": [
            "--2021-10-01 13:42:16--  https://nlp.stanford.edu/data/glove.twitter.27B.zip\n",
            "Resolving nlp.stanford.edu (nlp.stanford.edu)... 171.64.67.140\n",
            "Connecting to nlp.stanford.edu (nlp.stanford.edu)|171.64.67.140|:443... connected.\n",
            "HTTP request sent, awaiting response... 301 Moved Permanently\n",
            "Location: http://downloads.cs.stanford.edu/nlp/data/glove.twitter.27B.zip [following]\n",
            "--2021-10-01 13:42:17--  http://downloads.cs.stanford.edu/nlp/data/glove.twitter.27B.zip\n",
            "Resolving downloads.cs.stanford.edu (downloads.cs.stanford.edu)... 171.64.64.22\n",
            "Connecting to downloads.cs.stanford.edu (downloads.cs.stanford.edu)|171.64.64.22|:80... connected.\n",
            "HTTP request sent, awaiting response... 200 OK\n",
            "Length: 1520408563 (1.4G) [application/zip]\n",
            "Saving to: ‘glove.twitter.27B.zip’\n",
            "\n",
            "glove.twitter.27B.z 100%[===================>]   1.42G  5.09MB/s    in 4m 47s  \n",
            "\n",
            "2021-10-01 13:47:04 (5.05 MB/s) - ‘glove.twitter.27B.zip’ saved [1520408563/1520408563]\n",
            "\n"
          ]
        }
      ]
    },
    {
      "cell_type": "markdown",
      "metadata": {
        "id": "KgfSQ5rCwMJQ"
      },
      "source": [
        "By default, TorchText will initialize words in our vocabulary but not in our pre-trained embeddings to zero. We don't want this, and instead initialize them randomly by setting `unk_init = torch.Tensor.normal_`. This will now initialize those words via a Gaussian distribution."
      ]
    },
    {
      "cell_type": "code",
      "metadata": {
        "id": "fKeFUaqw1YVf",
        "colab": {
          "base_uri": "https://localhost:8080/"
        },
        "outputId": "420c6eae-37f0-4f23-8e39-c8cd0502d65b"
      },
      "source": [
        "# Load the glove.twitter.27B.50d pre-trained embeddings and build the vocabulary\n",
        "GloVe_path = '/content/glove.twitter.27B.50d.txt'\n",
        "MAX_VOCAB_SIZE = 25000\n",
        "\n",
        "TEXT.build_vocab(train_data,\n",
        "                 max_size = MAX_VOCAB_SIZE,\n",
        "                 vectors=torchtext.vocab.Vectors(GloVe_path), \n",
        "                 unk_init = torch.Tensor.normal_)\n",
        "\n",
        "LABEL.build_vocab(train_data)"
      ],
      "execution_count": 16,
      "outputs": [
        {
          "output_type": "stream",
          "name": "stderr",
          "text": [
            "100%|█████████▉| 1193513/1193514 [00:39<00:00, 30252.39it/s]\n"
          ]
        }
      ]
    },
    {
      "cell_type": "markdown",
      "metadata": {
        "id": "P2fegdSCLZI2"
      },
      "source": [
        "Mind that we 'll have 2 words more than the length of our unique-words-vocabulary. That is because TorchText adds to the vocabulary \\<pad> and \\<unk> tokens as well. \n",
        "\n",
        "We can see below that token `<unk>` has index of 0 in the vocabulary, the token `<pad>` has index of 1, the token `hello` has index of ..., etc. So, if a word is not in the vocabulary we built with the Torchtext using the GloVe model, then this word will be marked as `<unk>` which means unknown."
      ]
    },
    {
      "cell_type": "code",
      "metadata": {
        "colab": {
          "base_uri": "https://localhost:8080/"
        },
        "id": "6ncVdKAnHmhq",
        "outputId": "08a40813-b8fe-4c16-80e3-bbfedc89e00c"
      },
      "source": [
        "print(TEXT.vocab['<unk>']) \n",
        "print(TEXT.vocab['<pad>'])\n",
        "print(TEXT.vocab['hello'])\n",
        "print(TEXT.vocab['world'])"
      ],
      "execution_count": 17,
      "outputs": [
        {
          "output_type": "stream",
          "name": "stdout",
          "text": [
            "0\n",
            "1\n",
            "468\n",
            "313\n"
          ]
        }
      ]
    },
    {
      "cell_type": "code",
      "metadata": {
        "colab": {
          "base_uri": "https://localhost:8080/"
        },
        "id": "1dnAAFq6arcw",
        "outputId": "ca3ba633-ccf6-466d-b5e1-de15ab4fd8a5"
      },
      "source": [
        "# Print the 10 most frequent tokens in our vocabulary\n",
        "print(TEXT.vocab.freqs.most_common(5))"
      ],
      "execution_count": 18,
      "outputs": [
        {
          "output_type": "stream",
          "name": "stdout",
          "text": [
            "[('i', 658596), ('be', 422529), ('to', 367057), ('the', 340479), ('a', 249683)]\n"
          ]
        }
      ]
    },
    {
      "cell_type": "code",
      "metadata": {
        "colab": {
          "base_uri": "https://localhost:8080/"
        },
        "id": "HzWDMQE02WBz",
        "outputId": "1cd77d37-48e9-4dbe-a3f4-e5f8cd409476"
      },
      "source": [
        "# Notice the two extra words mentioned above (<unk> and <pad>)\n",
        "# Uniqe tokens in TEXT vocabulary: MAX_VOCAB_SIZE + 2\n",
        "print(f\"Unique tokens in TEXT vocabulary: {len(TEXT.vocab)}\")\n",
        "print(f\"Unique tokens in LABEL vocabulary: {len(LABEL.vocab)}\")"
      ],
      "execution_count": 19,
      "outputs": [
        {
          "output_type": "stream",
          "name": "stdout",
          "text": [
            "Unique tokens in TEXT vocabulary: 25002\n",
            "Unique tokens in LABEL vocabulary: 2\n"
          ]
        }
      ]
    },
    {
      "cell_type": "markdown",
      "metadata": {
        "id": "tEZHYuA873Ll"
      },
      "source": [
        "### **Create the datasets iterators 🔃**\n",
        "\n",
        "TorchText provides BucketIterator that groups sequences together. It returns a Batch object that contains the data of one batch while the text and labels can be accessed via their column names. Another thing for *packed padded sequences* is that all of the tensors within a batch need to be sorted by their lengths. This is handled in the iterator by setting `sort_within_batch = True`.\n",
        "\n",
        "Parameters:\n",
        "\n",
        "* `batch_size` is set to the number of examples we want for each batch\n",
        "* `sort_within_batch = True` in order to sort all tensors in each batch by the `sort_key` mentioned below.\n",
        "* `sort_key = lambda x: len(x.text)` in order to sort the samples by their lengths.\n",
        "* `device = device` to use the available device (gpu/cpu)"
      ]
    },
    {
      "cell_type": "code",
      "metadata": {
        "id": "XS9x4lZH2hz5"
      },
      "source": [
        "BATCH_SIZE = 128\n",
        "\n",
        "device = torch.device('cuda' if torch.cuda.is_available() else 'cpu')\n",
        "\n",
        "train_iterator, valid_iterator, test_iterator = data.BucketIterator.splits(\n",
        "    (train_data, valid_data, test_data), \n",
        "    batch_size = BATCH_SIZE, \n",
        "    sort_within_batch = True,\n",
        "    sort_key = lambda x: len(x.text,),\n",
        "    device = device)"
      ],
      "execution_count": 20,
      "outputs": []
    },
    {
      "cell_type": "markdown",
      "metadata": {
        "id": "IEQ-3Rz_aCOS"
      },
      "source": [
        "## **Bidirectional stacked Recurrent Neural Network 🧠**"
      ]
    },
    {
      "cell_type": "markdown",
      "metadata": {
        "id": "Qpixh0Wj8A_M"
      },
      "source": [
        "### **Building the network** 🔨"
      ]
    },
    {
      "cell_type": "markdown",
      "metadata": {
        "id": "sqD1Dh0MpcLr"
      },
      "source": [
        "**Techniques explained (in short):**\n",
        "\n",
        "**Dropout:** During training, randomly zeroes some of the elements of the input tensor with probability _p_ using samples from a Bernoulli distribution. Each channel will be zeroed out independently on every forward call.This has proven to be an effective technique for regularization and preventing the co-adaptation of neurons.\n",
        "\n",
        "**Gradient Clipping**: Gradient clipping involves forcing the gradient values (element-wise) to a specific minimum or maximum value if the gradient exceeded an expected range.\n"
      ]
    },
    {
      "cell_type": "markdown",
      "metadata": {
        "id": "k9DXneVhyrvT"
      },
      "source": [
        "**Implementation notes:**\n",
        "\n",
        "- In this model we are not going to learn the embedding for the `<pad>` token. That is because we want to explicitly tell our model that *padding tokens are irrelevant to determining the sentiment of a sentence*. This means the embedding for the `<pad>` token will remain at what it is initialized to (zero). We do this by passing the index of our `<pad>` token as the `padding_idx` argument to the `nn.Embedding` layer.\n",
        "- As we are passing the lengths of our sentences to be able to use *packed padded sequences*, we have to add a second argument, `text_lengths`, to forward.\n",
        "- Before we pass our embeddings to the RNN, we need to pack them, which we do with `nn.utils.rnn.packed_padded_sequence`. This will cause our RNN to *only process the non-padded elements* of our sequence. The RNN will then return `packed_output` (a packed sequence) as well as the hidden and cell states (both of which are tensors). Without packed padded sequences, hidden and cell are tensors from the last element in the sequence, which will most probably be a pad token, however when using packed padded sequences they are both from the last non-padded element in the sequence. Note that the lengths argument of `packed_padded_sequence` must be a CPU tensor so we explicitly make it one by using `.to('cpu')`.\n",
        "- We then *unpack the output sequence*, with `nn.utils.rnn.pad_packed_sequence`, to transform it from a packed sequence to a tensor. The elements of output from padding tokens will be zero tensors. Usually, we only have to unpack output if we are going to use it later on in the model. \n",
        "- The final hidden state, `hidden`, has a shape of `[num layers * num directions, batch size, hid dim]`. As *we want the final (top) layer forward and backward hidden states*, we get the top two hidden layers from the first dimension, `hidden[-2,:,:]` and `hidden[-1,:,:]`, and concatenate them together before passing them to the linear layer (after applying dropout). "
      ]
    },
    {
      "cell_type": "markdown",
      "metadata": {
        "id": "Gu3Hcnrsa0sO"
      },
      "source": [
        "**Adding attention to the model**\n",
        "> The attention mechanism enables the neural network model to dynamically highlight relevant features of the input data."
      ]
    },
    {
      "cell_type": "code",
      "metadata": {
        "id": "0zw5q8kETGnq"
      },
      "source": [
        "# Utility functions for adding attention to the model\n",
        "# CODE REFERENCE: https://www.kaggle.com/robertke94/pytorch-bi-lstm-attention\n",
        "\n",
        "import torch.nn.functional as F\n",
        "\n",
        "NEG_INF = -10000\n",
        "TINY_FLOAT = 1e-6\n",
        "\n",
        "# Perform softmax on length dimension with masking\n",
        "def mask_softmax(matrix, mask=None):\n",
        "    if mask is None:\n",
        "        result = F.softmax(matrix, dim=-1)\n",
        "    else:\n",
        "        mask_norm = ((1 - mask) * NEG_INF).to(matrix)\n",
        "        for i in range(matrix.dim() - mask_norm.dim()):\n",
        "            mask_norm = mask_norm.unsqueeze(1)\n",
        "        result = F.softmax(matrix + mask_norm, dim=-1)\n",
        "    return result\n",
        "\n",
        "# Compute mask average on length dimension\n",
        "def mask_mean(seq, mask=None):\n",
        "    if mask is None:\n",
        "        return torch.mean(seq, dim=1)\n",
        "    mask_sum = torch.sum(seq * mask.unsqueeze(-1).float(), dim=1) # [b,msl,nc]->[b,nc]\n",
        "    seq_len = torch.sum(mask, dim=-1) # [b]\n",
        "    mask_mean = mask_sum / (seq_len.unsqueeze(-1).float() + TINY_FLOAT)\n",
        "\n",
        "    return mask_mean\n",
        "\n",
        "# Compute mask max on length dimension\n",
        "def mask_max(seq, mask=None):\n",
        "    if mask is None:\n",
        "        return torch.mean(seq, dim=1)\n",
        "    torch\n",
        "    mask_max, _ = torch.max(  # [b,msl,nc]->[b,nc]\n",
        "        seq + (1 - mask.unsqueeze(-1).float()) * NEG_INF,\n",
        "        dim=1)\n",
        "    return mask_max\n",
        "\n",
        "# Create sequence mask\n",
        "def seq_mask(seq_len, max_len):\n",
        "    idx = torch.arange(max_len).to(seq_len).repeat(seq_len.size(0), 1)\n",
        "    mask = torch.gt(seq_len.unsqueeze(1), idx).to(seq_len)\n",
        "    return mask"
      ],
      "execution_count": 21,
      "outputs": []
    },
    {
      "cell_type": "code",
      "metadata": {
        "id": "17-dzfERyteQ"
      },
      "source": [
        "import torch.nn as nn\n",
        "\n",
        "class BiRNN(nn.Module):\n",
        "    def __init__(self, cell_type, vocab_size, embedding_dim, hidden_dim, \n",
        "                 output_dim, n_layers, dropout, pad_idx, attention = False):\n",
        "      \n",
        "        super(BiRNN, self).__init__()\n",
        "        \n",
        "        cells = {\n",
        "            \"RNN\"  : nn.RNN, \n",
        "            \"LSTM\" : nn.LSTM,\n",
        "            \"GRU\"  : nn.GRU\n",
        "        }\n",
        "        \n",
        "        self.cell_type = cell_type\n",
        "        self.input_dim = vocab_size \n",
        "        self.embedding_dim = embedding_dim\n",
        "        self.hidden_dim = hidden_dim\n",
        "        self.n_layers = n_layers\n",
        "        self.attention = attention\n",
        "\n",
        "        # Embedding layer\n",
        "        self.embedding = nn.Embedding(vocab_size, embedding_dim, padding_idx = pad_idx)\n",
        "        \n",
        "        # RNN layer\n",
        "        self.rnn = cells[cell_type](embedding_dim, \n",
        "                                    hidden_dim, \n",
        "                                    num_layers = n_layers, \n",
        "                                    bidirectional = True, \n",
        "                                    dropout = dropout)\n",
        "        \n",
        "        # Dropout layer\n",
        "        self.dropout = nn.Dropout(dropout)\n",
        "        \n",
        "        # Output layer\n",
        "        self.out = nn.Linear(hidden_dim * 2, output_dim)\n",
        "        \n",
        "        # Attention layer\n",
        "        self.attention = nn.Linear(hidden_dim * 2, output_dim)\n",
        "\n",
        "        # Sigmoid activation function layer\n",
        "        self.sigmoid = nn.Sigmoid()\n",
        "\n",
        "    def forward(self, text, text_lengths):\n",
        "        \n",
        "        # text = [sent len, batch size]\n",
        "        \n",
        "        embedded = self.dropout(self.embedding(text))\n",
        "        # embedded = [sent len, batch size, emb dim]\n",
        "        \n",
        "        # pack sequence, lengths need to be on CPU!\n",
        "        packed_embedded = nn.utils.rnn.pack_padded_sequence(embedded, text_lengths.to('cpu'))\n",
        "        \n",
        "        if self.cell_type == 'LSTM':\n",
        "          packed_output, (hidden, cell) = self.rnn(packed_embedded)\n",
        "        else:\n",
        "          packed_output, hidden = self.rnn(packed_embedded)\n",
        "\n",
        "        # hidden = [num layers * num directions, batch size, hid dim]\n",
        "        # cell = [num layers * num directions, batch size, hid dim]\n",
        "        \n",
        "        # unpack sequence -- unnecessary if we don't use output after\n",
        "        output, output_lengths = nn.utils.rnn.pad_packed_sequence(packed_output)\n",
        "        # output = [sent len, batch size, hid dim * num directions]\n",
        "        # output over padding tokens are zero tensors\n",
        "        \n",
        "        # batch-size first in order to pass it into the attention util functions\n",
        "        output = output.permute(1,0,2)\n",
        "\n",
        "        # concat the final forward (hidden[-2,:,:]) and backward (hidden[-1,:,:]) hidden layers\n",
        "        hidden = torch.cat((hidden[-2,:,:], hidden[-1,:,:]), dim = 1)\n",
        "        # hidden = [batch size, hid dim * num directions]\n",
        "        if self.attention == True:\n",
        "          max_seq_len = torch.max(output_lengths)\n",
        "          mask = seq_mask(output_lengths, max_seq_len)\n",
        "          output = self.attention(output).squeeze(-1)\n",
        "          output = mask_softmax(output, mask)\n",
        "          output = torch.sum(output.unsqueeze(-1) * output, dim=1)\n",
        "          return self.sigmoid(self.out(self.dropout(output)))\n",
        "        else:\n",
        "          return self.sigmoid(self.out(self.dropout(hidden)))"
      ],
      "execution_count": 22,
      "outputs": []
    },
    {
      "cell_type": "code",
      "metadata": {
        "id": "Fl4lWIOHnR17"
      },
      "source": [
        "# Hyperparameters\n",
        "CELL_TYPE = 'LSTM'\n",
        "INPUT_DIM = len(TEXT.vocab)\n",
        "EMBEDDING_DIM = 50\n",
        "HIDDEN_DIM = 200\n",
        "OUTPUT_DIM = 1\n",
        "N_LAYERS = 2\n",
        "DROPOUT = 0.5\n",
        "PAD_IDX = TEXT.vocab.stoi[TEXT.pad_token]\n",
        "ATTENTION = True\n",
        "\n",
        "model = BiRNN(CELL_TYPE, \n",
        "              INPUT_DIM, \n",
        "              EMBEDDING_DIM, \n",
        "              HIDDEN_DIM, \n",
        "              OUTPUT_DIM, \n",
        "              N_LAYERS, \n",
        "              DROPOUT, \n",
        "              PAD_IDX,\n",
        "              ATTENTION)"
      ],
      "execution_count": 31,
      "outputs": []
    },
    {
      "cell_type": "markdown",
      "metadata": {
        "id": "mRGVgFiO3EwM"
      },
      "source": [
        "We retrieve the embeddings from the field's vocab, and check they're the correct size, [vocab size, embedding dim].\n",
        "\n",
        "We then replace the initial weights of the embedding layer with the GloVe pre-trained embeddings.\n",
        "\n",
        "As our `<unk>` and `<pad>` tokens aren't in the pre-trained vocabulary they have been initialized using `unk_init` (an $\\mathcal{N}(0,1)$ distribution) when building our vocab. It is preferable to *initialize them both to all zeros* to explicitly tell our model that, *initially*, they are irrelevant for determining sentiment. \n",
        "We do this by manually setting their row in the embedding weights matrix to zeros. We get their row by finding the index of the tokens, which we have already done for the padding index."
      ]
    },
    {
      "cell_type": "code",
      "metadata": {
        "colab": {
          "base_uri": "https://localhost:8080/"
        },
        "id": "TTredfkMecFn",
        "outputId": "265288f3-f7b4-4793-a896-cb9de2261669"
      },
      "source": [
        "pretrained_embeddings = TEXT.vocab.vectors\n",
        "print(f'Pretrained embeddings shape: {pretrained_embeddings.shape}\\n')\n",
        "\n",
        "# replace the initial weights of the embedding layer with the GloVe pre-trained embeddings.\n",
        "model.embedding.weight.data.copy_(pretrained_embeddings)\n",
        "\n",
        "# find the index of <unk> token in our vocabulary\n",
        "UNK_IDX = TEXT.vocab.stoi[TEXT.unk_token]\n",
        "\n",
        "# initialize the <unk> and <pad> tokens to zero\n",
        "model.embedding.weight.data[UNK_IDX] = torch.zeros(EMBEDDING_DIM)\n",
        "model.embedding.weight.data[PAD_IDX] = torch.zeros(EMBEDDING_DIM)\n",
        "\n",
        "print('Embedding weights matrix:')\n",
        "print(model.embedding.weight.data)"
      ],
      "execution_count": 32,
      "outputs": [
        {
          "output_type": "stream",
          "name": "stdout",
          "text": [
            "Pretrained embeddings shape: torch.Size([25002, 50])\n",
            "\n",
            "Embedding weights matrix:\n",
            "tensor([[ 0.0000,  0.0000,  0.0000,  ...,  0.0000,  0.0000,  0.0000],\n",
            "        [ 0.0000,  0.0000,  0.0000,  ...,  0.0000,  0.0000,  0.0000],\n",
            "        [-0.0431,  0.5039,  0.2709,  ..., -0.2238, -0.6603, -0.7065],\n",
            "        ...,\n",
            "        [-0.7294,  0.3905,  0.2119,  ...,  0.2466, -1.3200, -0.1017],\n",
            "        [-0.5691,  0.1716, -0.1829,  ..., -0.3321,  0.0159,  0.8214],\n",
            "        [-0.0542, -0.7096, -0.7794,  ...,  0.4766,  0.0831,  0.6808]])\n"
          ]
        }
      ]
    },
    {
      "cell_type": "markdown",
      "metadata": {
        "id": "p4mw2Uxe4BTt"
      },
      "source": [
        "We can see the first two rows of the embedding weights matrix have been set to zeros. As we passed the index of the `<pad>` token to the `padding_idx` of the embedding layer it will remain zeros throughout training, however *the `<unk>` token embedding will be learned*."
      ]
    },
    {
      "cell_type": "markdown",
      "metadata": {
        "id": "qxkFol_BG8a8"
      },
      "source": [
        "**Note:** I do not specify the value for the **learning rate**, as the Adam optimizer adjusts the learning rate for each parameter by giving parameters that are updated more frequently lower learning rates and parameters that are updated infrequently higher learning rates."
      ]
    },
    {
      "cell_type": "code",
      "metadata": {
        "id": "gFdHY5T1elrs"
      },
      "source": [
        "optimizer = optim.Adam(model.parameters())\n",
        "criterion = nn.BCELoss()\n",
        "model = model.to(device)\n",
        "criterion = criterion.to(device)"
      ],
      "execution_count": 33,
      "outputs": []
    },
    {
      "cell_type": "code",
      "metadata": {
        "id": "p3aIYtooe2_C"
      },
      "source": [
        "def calculate_accuracy(predictions, true_labels):\n",
        "    \"\"\"\n",
        "    Returns accuracy per batch in decimal form. \n",
        "    i.e., if we get 9/10 right will return 0.9. \n",
        "    \"\"\"\n",
        "    # Round predictions to the closest integer\n",
        "    rounded_predictions = torch.round(predictions)\n",
        "    # Convert into float for division \n",
        "    correct = (rounded_predictions == true_labels).float() \n",
        "    acc = correct.sum() / len(correct)\n",
        "    return acc"
      ],
      "execution_count": 34,
      "outputs": []
    },
    {
      "cell_type": "markdown",
      "metadata": {
        "id": "LI_lv5OrnEjd"
      },
      "source": [
        "### **Training** 🏋️‍♂️"
      ]
    },
    {
      "cell_type": "markdown",
      "metadata": {
        "id": "XlS-f6XO4nbr"
      },
      "source": [
        "For `N_EPOCHS` train the model on the *training dataset* and then evaluate on the *validation dataset*.\n",
        "\n",
        "Notice that as we have set `include_lengths = True`, our `batch.text` is now a tuple with the first element being the numericalized tensor and the second element being the actual length of each sequence. We separate these into their own variables, `text` and `text_lengths`, before passing them to the model."
      ]
    },
    {
      "cell_type": "code",
      "metadata": {
        "id": "fHZRg955e5Ac"
      },
      "source": [
        "# Trains the model on the training dataset using the optimizer and the loss \n",
        "# function given by as parameters\n",
        "def train(model, iterator, optimizer, criterion, clip_value = 5):\n",
        "    \n",
        "    epoch_loss = 0\n",
        "    epoch_acc = 0\n",
        "    counter = 0\n",
        "\n",
        "    model.train()\n",
        "    \n",
        "    for batch in iterator:\n",
        "        counter += 1\n",
        "\n",
        "        optimizer.zero_grad()\n",
        "        \n",
        "        text, text_lengths = batch.text\n",
        "        \n",
        "        predictions = model(text, text_lengths).squeeze(1)\n",
        "        \n",
        "        loss = criterion(predictions, batch.label)\n",
        "        \n",
        "        acc = calculate_accuracy(predictions, batch.label)\n",
        "        \n",
        "        loss.backward()\n",
        "\n",
        "        # Clip gradients\n",
        "        torch.nn.utils.clip_grad_norm_(model.parameters(), clip_value)\n",
        "\n",
        "        optimizer.step()\n",
        "        \n",
        "        epoch_loss += loss.item()\n",
        "        epoch_acc += acc.item()\n",
        "        \n",
        "    return epoch_loss / counter, epoch_acc / counter"
      ],
      "execution_count": 35,
      "outputs": []
    },
    {
      "cell_type": "code",
      "metadata": {
        "id": "yje8p8Xce7S5"
      },
      "source": [
        "# Evaluates the model on the validation dataset\n",
        "def evaluate(model, iterator, criterion):\n",
        "\n",
        "    epoch_loss = 0\n",
        "    epoch_acc = 0\n",
        "    counter = 0\n",
        "\n",
        "    model.eval()\n",
        "    \n",
        "    with torch.no_grad():\n",
        "        for batch in iterator:\n",
        "            counter += 1\n",
        "            text, text_lengths = batch.text\n",
        "            predictions = model(text, text_lengths).squeeze(1)\n",
        "            loss = criterion(predictions, batch.label)\n",
        "            acc = calculate_accuracy(predictions, batch.label)\n",
        "\n",
        "            epoch_loss += loss.item()\n",
        "            epoch_acc += acc.item()\n",
        "        \n",
        "    return epoch_loss / counter, epoch_acc / counter"
      ],
      "execution_count": 36,
      "outputs": []
    },
    {
      "cell_type": "code",
      "metadata": {
        "id": "QL444-Ohe9Qz"
      },
      "source": [
        "# A function for measuring the time between epochs\n",
        "import time\n",
        "\n",
        "def epoch_time(start_time, end_time):\n",
        "    \"\"\"\n",
        "    Returns time elapsed for an epoch, \n",
        "    i.e. 1, 23 which means 1 minute and 23 seconds.\n",
        "    \"\"\"\n",
        "    elapsed_time = end_time - start_time\n",
        "    elapsed_mins = int(elapsed_time / 60)\n",
        "    elapsed_secs = int(elapsed_time - (elapsed_mins * 60))\n",
        "    return elapsed_mins, elapsed_secs"
      ],
      "execution_count": 37,
      "outputs": []
    },
    {
      "cell_type": "code",
      "metadata": {
        "colab": {
          "base_uri": "https://localhost:8080/"
        },
        "id": "iB_9wi_6e_D3",
        "outputId": "079445df-0698-46bd-bfc3-6e6bf254fb44"
      },
      "source": [
        "# For N_EPOCHS train the model and test on the validation set\n",
        "\n",
        "N_EPOCHS = 10\n",
        "CLIP_VALUE = 5\n",
        "\n",
        "total_train_loss = []\n",
        "total_train_acc = []\n",
        "total_valid_loss = []\n",
        "total_valid_acc = []\n",
        "\n",
        "for epoch in range(N_EPOCHS):\n",
        "    start_time = time.time()\n",
        "\n",
        "    train_loss, train_acc = train(model, train_iterator, optimizer, criterion, CLIP_VALUE)\n",
        "    valid_loss, valid_acc = evaluate(model, valid_iterator, criterion)\n",
        "    \n",
        "    end_time = time.time()\n",
        "\n",
        "    epoch_mins, epoch_secs = epoch_time(start_time, end_time)\n",
        "    \n",
        "    total_train_loss.append(train_loss)\n",
        "    total_train_acc.append(train_acc)\n",
        "    total_valid_loss.append(valid_loss)\n",
        "    total_valid_acc.append(valid_acc)\n",
        "\n",
        "    print(f'Epoch: {epoch+1:02} | Epoch Time: {epoch_mins}m {epoch_secs}s')\n",
        "    print(f'\\tTrain Loss: {train_loss:.3f} | Train Acc: {train_acc*100:.2f}%')\n",
        "    print(f'\\t Val. Loss: {valid_loss:.3f} |  Val. Acc: {valid_acc*100:.2f}%')"
      ],
      "execution_count": 38,
      "outputs": [
        {
          "output_type": "stream",
          "name": "stdout",
          "text": [
            "Epoch: 01 | Epoch Time: 3m 49s\n",
            "\tTrain Loss: 0.453 | Train Acc: 78.51%\n",
            "\t Val. Loss: 0.399 |  Val. Acc: 81.99%\n",
            "Epoch: 02 | Epoch Time: 3m 49s\n",
            "\tTrain Loss: 0.405 | Train Acc: 81.52%\n",
            "\t Val. Loss: 0.382 |  Val. Acc: 82.74%\n",
            "Epoch: 03 | Epoch Time: 3m 49s\n",
            "\tTrain Loss: 0.389 | Train Acc: 82.43%\n",
            "\t Val. Loss: 0.374 |  Val. Acc: 83.16%\n",
            "Epoch: 04 | Epoch Time: 3m 48s\n",
            "\tTrain Loss: 0.380 | Train Acc: 82.90%\n",
            "\t Val. Loss: 0.371 |  Val. Acc: 83.53%\n",
            "Epoch: 05 | Epoch Time: 3m 49s\n",
            "\tTrain Loss: 0.373 | Train Acc: 83.32%\n",
            "\t Val. Loss: 0.368 |  Val. Acc: 83.59%\n",
            "Epoch: 06 | Epoch Time: 3m 48s\n",
            "\tTrain Loss: 0.368 | Train Acc: 83.59%\n",
            "\t Val. Loss: 0.367 |  Val. Acc: 83.69%\n",
            "Epoch: 07 | Epoch Time: 3m 49s\n",
            "\tTrain Loss: 0.363 | Train Acc: 83.83%\n",
            "\t Val. Loss: 0.365 |  Val. Acc: 83.68%\n",
            "Epoch: 08 | Epoch Time: 3m 48s\n",
            "\tTrain Loss: 0.359 | Train Acc: 84.03%\n",
            "\t Val. Loss: 0.366 |  Val. Acc: 83.74%\n",
            "Epoch: 09 | Epoch Time: 3m 48s\n",
            "\tTrain Loss: 0.356 | Train Acc: 84.21%\n",
            "\t Val. Loss: 0.365 |  Val. Acc: 83.86%\n",
            "Epoch: 10 | Epoch Time: 3m 49s\n",
            "\tTrain Loss: 0.354 | Train Acc: 84.34%\n",
            "\t Val. Loss: 0.365 |  Val. Acc: 83.85%\n"
          ]
        }
      ]
    },
    {
      "cell_type": "markdown",
      "metadata": {
        "id": "1wng8bxbf54F"
      },
      "source": [
        "### **Testing ✅**\n",
        "\n",
        "Testing (evaluating) the model on the *test dataset*."
      ]
    },
    {
      "cell_type": "code",
      "metadata": {
        "id": "kSosG23YjjVQ",
        "colab": {
          "base_uri": "https://localhost:8080/"
        },
        "outputId": "e2cde8e8-d8dc-4ca7-e695-adba18fb7d7e"
      },
      "source": [
        "test_loss, test_acc = evaluate(model, test_iterator, criterion)\n",
        "print(f'Test Loss: {test_loss:.3f} | Test Acc: {test_acc*100:.2f}%')"
      ],
      "execution_count": 39,
      "outputs": [
        {
          "output_type": "stream",
          "name": "stdout",
          "text": [
            "Test Loss: 0.366 | Test Acc: 83.73%\n"
          ]
        }
      ]
    },
    {
      "cell_type": "markdown",
      "metadata": {
        "id": "Jo3P4LWrnqAf"
      },
      "source": [
        "### **Metrics** 📈"
      ]
    },
    {
      "cell_type": "code",
      "metadata": {
        "id": "P56jvy9Aoyn5"
      },
      "source": [
        "def get_predictions(model, iterator):\n",
        "  \"\"\"\n",
        "  A function for getting the predictions for each tweet along with the true label\n",
        "  in order to have them in a list form for the classification report, ROC curve, etc.\n",
        "  Returns a list of predictions and a list of the corresponding true label values.\n",
        "  i.e., returns [prediction1, prediction2, .., predictionN], \n",
        "  [TrueLabel1, TrueLabel2, .., TrueLabelN]\n",
        "  \"\"\"\n",
        "  test_predictions = []\n",
        "  test_labels = []\n",
        "\n",
        "  model.eval()\n",
        "  with torch.no_grad():\n",
        "      for batch in iterator:\n",
        "          text, lengths = batch.text\n",
        "          true_label = batch.label.reshape(-1, 1)\n",
        "          prediction = model(text, lengths)\n",
        "\n",
        "          test_predictions.append(prediction)\n",
        "          test_labels.append(true_label)\n",
        "  \n",
        "  test_predictions = torch.cat(test_predictions, dim=0).cpu()\n",
        "  test_labels = torch.cat(test_labels, dim=0).cpu()\n",
        "\n",
        "  return test_predictions, test_labels"
      ],
      "execution_count": 40,
      "outputs": []
    },
    {
      "cell_type": "code",
      "metadata": {
        "id": "MhQz_fiMpeSd"
      },
      "source": [
        "# For the test dataset, get our predictions and the corresponding true labels\n",
        "test_predictions, test_labels = get_predictions(model, test_iterator)"
      ],
      "execution_count": 41,
      "outputs": []
    },
    {
      "cell_type": "markdown",
      "metadata": {
        "id": "l9mi3PWioEpY"
      },
      "source": [
        "**Classification Report**\n",
        "\n",
        "A Classification report is used to measure the quality of predictions from our  classification model.  \n",
        "More specifically, it gives us the **precision**, **recall** and **F1-score**."
      ]
    },
    {
      "cell_type": "code",
      "metadata": {
        "id": "XLCOa7XvnzC9",
        "colab": {
          "base_uri": "https://localhost:8080/"
        },
        "outputId": "185f8b34-e5c9-49f8-dac2-8053a8a3b25a"
      },
      "source": [
        "from sklearn.metrics import classification_report\n",
        "\n",
        "test_predictions = test_predictions.ge(.5).view(-1).cpu()\n",
        "test_labels = test_labels.cpu()\n",
        "\n",
        "print(classification_report(test_labels, test_predictions))"
      ],
      "execution_count": 42,
      "outputs": [
        {
          "output_type": "stream",
          "name": "stdout",
          "text": [
            "              precision    recall  f1-score   support\n",
            "\n",
            "         0.0       0.84      0.83      0.84     63835\n",
            "         1.0       0.83      0.84      0.84     64165\n",
            "\n",
            "    accuracy                           0.84    128000\n",
            "   macro avg       0.84      0.84      0.84    128000\n",
            "weighted avg       0.84      0.84      0.84    128000\n",
            "\n"
          ]
        }
      ]
    },
    {
      "cell_type": "markdown",
      "metadata": {
        "id": "IKOJNaLUoHQR"
      },
      "source": [
        "**Graphs**\n",
        "\n",
        "Plotting the **loss per epoch** and **accuracy per epoch** on the training and the validation datasets."
      ]
    },
    {
      "cell_type": "code",
      "metadata": {
        "id": "jQbyUO0on-6y"
      },
      "source": [
        "plt.style.use('seaborn-whitegrid') # plot style\n",
        "\n",
        "def plot_loss_accuracy(train_loss, train_acc, val_loss, val_acc, epochs):\n",
        "  fig, (ax1, ax2) = plt.subplots(1,2,figsize=(14,6))\n",
        "\n",
        "  ax1.plot(range(epochs), train_loss, 'bo-', label = 'Training loss')\n",
        "  ax1.plot(range(epochs), val_loss , 'ro-', label = 'Validation loss')\n",
        "  ax1.set_ylabel('Loss')\n",
        "  ax1.set_xlabel('Epoch')\n",
        "  ax1.set_title('Loss/Epoch', y = 1.03, fontsize = 15)\n",
        "  ax1.set_xlim([-1,epochs])\n",
        "  ax1.legend(loc=\"best\")\n",
        "\n",
        "  ax2.plot(range(epochs), train_acc, 'bo-', label = 'Training accuracy')\n",
        "  ax2.plot(range(epochs), val_acc , 'ro-', label = 'Validation accuracy')\n",
        "  ax2.set_ylabel('Accuracy')\n",
        "  ax2.set_xlabel('Epoch')\n",
        "  ax2.set_title('Accuracy/Epoch', y = 1.03, fontsize = 15)\n",
        "  ax2.set_xlim([-1,epochs])\n",
        "  ax2.legend(loc=\"best\")\n",
        "\n",
        "  plt.show()"
      ],
      "execution_count": 43,
      "outputs": []
    },
    {
      "cell_type": "code",
      "metadata": {
        "id": "lp8bLg8Jb3mL",
        "colab": {
          "base_uri": "https://localhost:8080/",
          "height": 411
        },
        "outputId": "c71cd0d1-e456-45de-a222-bb736ae6415c"
      },
      "source": [
        "plot_loss_accuracy(total_train_loss, total_train_acc, total_valid_loss, total_valid_acc, N_EPOCHS)"
      ],
      "execution_count": 44,
      "outputs": [
        {
          "output_type": "display_data",
          "data": {
            "image/png": "[encoded data removed]",
            "text/plain": [
              "<Figure size 1008x432 with 2 Axes>"
            ]
          },
          "metadata": {}
        }
      ]
    },
    {
      "cell_type": "markdown",
      "metadata": {
        "id": "7GfWvRMOcfRr"
      },
      "source": [
        "**ROC curve**\n",
        "\n",
        "The ROC curve shows the trade-off between `True Positive Rate` and `1 – False Positive Rate`. Classifiers that give curves closer to the top-left corner indicate a better performance. AUC stands for \"Area Under the ROC Curve\" and with value of 0.7 to 0.8 is considered acceptable, 0.8 to 0.9 is considered excellent, and more than 0.9 is considered outstanding.  \n",
        "We can see that our classifier is in the range of 0.8 to 0.9 which is considered *excellent* 😀"
      ]
    },
    {
      "cell_type": "code",
      "metadata": {
        "id": "PgVTqEUvckFT",
        "colab": {
          "base_uri": "https://localhost:8080/",
          "height": 514
        },
        "outputId": "080d9d81-18ae-4593-9472-9bf8aced0fd0"
      },
      "source": [
        "from sklearn.metrics import roc_curve, auc\n",
        "from sklearn.preprocessing import label_binarize\n",
        "\n",
        "# Convert tensors to numpy arrays after we pass them to cpu\n",
        "test_predictions = test_predictions.cpu().detach().numpy()\n",
        "test_labels = test_labels.cpu().detach().numpy()\n",
        "\n",
        "# Label binarization and store num of classes\n",
        "test_labels = label_binarize(test_labels, classes=[0, 1])\n",
        "n_classes = test_labels.shape[1]\n",
        "\n",
        "# Calculate false positive rate (fpr) and true positive rate (tpr)\n",
        "fpr = dict()\n",
        "tpr = dict()\n",
        "roc_auc = dict()\n",
        "fpr, tpr, _ = roc_curve(test_labels[:], test_predictions[:])\n",
        "roc_auc = auc(fpr, tpr)\n",
        "\n",
        "plt.figure(figsize=(8,8))\n",
        "lw = 2\n",
        "plt.plot(fpr, tpr, color='darkorange',lw=lw, label='ROC curve (area = %0.2f)' % roc_auc)\n",
        "plt.plot([0, 1], [0, 1], color='navy', lw=lw, linestyle='--')\n",
        "plt.xlim([0.0, 1.0])\n",
        "plt.ylim([0.0, 1.05])\n",
        "plt.xlabel('False Positive Rate',fontsize=15)\n",
        "plt.ylabel('True Positive Rate',fontsize=15)\n",
        "plt.title('Receiver Operating Characteristic example', fontsize=15)\n",
        "plt.legend(loc=\"lower right\",fontsize=15)\n",
        "plt.show()"
      ],
      "execution_count": 45,
      "outputs": [
        {
          "output_type": "display_data",
          "data": {
            "image/png": "[encoded data removed]",
            "text/plain": [
              "<Figure size 576x576 with 1 Axes>"
            ]
          },
          "metadata": {}
        }
      ]
    },
    {
      "cell_type": "markdown",
      "metadata": {
        "id": "F1v6otWjd6aP"
      },
      "source": [
        "**Confusion matrix**\n",
        "\n",
        "A confusion matrix is a summary of prediction results on a classification problem. The number of correct and incorrect predictions are summarized with count values and broken down by each class. In other words, *the confusion matrix shows the ways in which our classification model is confused when it makes predictions.*\n",
        "\n",
        "\n"
      ]
    },
    {
      "cell_type": "code",
      "metadata": {
        "id": "7iCgx5_Nd_WZ",
        "colab": {
          "base_uri": "https://localhost:8080/",
          "height": 453
        },
        "outputId": "6f0422fc-8a08-4121-c3ff-60993312d9e6"
      },
      "source": [
        "from sklearn.metrics import confusion_matrix\n",
        "import seaborn as sn\n",
        "\n",
        "df_cf_matrix = pd.DataFrame(confusion_matrix(test_predictions, test_labels.round()))\n",
        "plt.figure(figsize=(10,7))\n",
        "sn.set(font_scale=1.4)\n",
        "\n",
        "group_labels = ['True Neg','False Pos','False Neg','True Pos']\n",
        "group_counts = ['{0:0.0f}'.format(value) for value in df_cf_matrix.values.flatten()]\n",
        "group_percentages = ['{0:.2%}'.format(value) for value in df_cf_matrix.values.flatten()/np.sum(df_cf_matrix.values.flatten())]\n",
        "\n",
        "box_labels = [f\"{v1}\\n{v2}\\n{v3}\".strip() for v1, v2, v3 in zip(group_labels,group_counts,group_percentages)]\n",
        "box_labels = np.asarray(box_labels).reshape(df_cf_matrix.shape[0],df_cf_matrix.shape[1])\n",
        "\n",
        "sn.heatmap(df_cf_matrix, annot=box_labels, fmt='', cmap='Blues')"
      ],
      "execution_count": 46,
      "outputs": [
        {
          "output_type": "execute_result",
          "data": {
            "text/plain": [
              "<matplotlib.axes._subplots.AxesSubplot at 0x7f266368a950>"
            ]
          },
          "metadata": {},
          "execution_count": 46
        },
        {
          "output_type": "display_data",
          "data": {
            "image/png": "[encoded data removed]",
            "text/plain": [
              "<Figure size 720x504 with 2 Axes>"
            ]
          },
          "metadata": {}
        }
      ]
    },
    {
      "cell_type": "markdown",
      "metadata": {
        "id": "yAll7tiYik1U"
      },
      "source": [
        "## **Summary** (some numbers) 📊\n",
        "\n",
        "I have built a Bidirectional Stacked Reccurrent Neural Network model with LSTM & GRU cells, which uses the GloVe pre-trained word embeddings for vectorizing the data (i.e., convert the words into numbers). \n",
        "\n",
        "My best model got accuracy of ***84%*** and was having the following properties:\n",
        "\n",
        "- Batch-size = $2^{7}$ = 128\n",
        "- Cell type: LSTM\n",
        "- Number of epochs = 10\n",
        "- GloVe twitter word embeddings of *50 dimensions*\n",
        "- A hidden layer of size 200 \n",
        "- A *dropout* probability of 50%\n",
        "- *Gradient clipping* value of 5\n",
        "- Sigmoid function at the output\n",
        "\n",
        "**Note:** Having experimented with different models by changing the hyperparameters, I must mention that *whether we use GRU or LSTM, the accuracy is almost the same*, and as GRU cells are simpler and faster, we can prefer them, as the difference in accuracy is negligible in this case. In addition, after testing my model with and without attention, I notice that *using attention we get slightly better accuracy of the model*. Finally, we can *(early) stop* training after 5 epochs as the model only slightly increases its accuracy after that time. I use 10 epochs in order to have sufficient data for the graphs.\n",
        "\n",
        "**Comments:** We can see that RNNs are much better than FFNNs, as in our [FFNN with GloVe](https://colab.research.google.com/drive/1PbAQPiyTpwWAeKV5LC9bNCERwPZn1qC3?usp=sharing) we had *70% accuracy in 70 epochs* and now we have (again using GloVe) *84% accuracy in just 10 epochs*! Also, in [FFNN with TF-IDF](https://colab.research.google.com/drive/12Yh2X91JOkYBEG3yXfcBRjORjHh1KTPy?usp=sharing), we had *80% accuracy but again in 70 epochs* and now our accuracy is *84% in just 10 epochs* which is obviously better."
      ]
    }
  ]
}