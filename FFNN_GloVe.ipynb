{
  "nbformat": 4,
  "nbformat_minor": 0,
  "metadata": {
    "colab": {
      "name": "FFNN_GloVe.ipynb",
      "provenance": [],
      "collapsed_sections": [],
      "toc_visible": true
    },
    "kernelspec": {
      "name": "python3",
      "display_name": "Python 3"
    },
    "language_info": {
      "name": "python"
    },
    "accelerator": "GPU"
  },
  "cells": [
    {
      "cell_type": "markdown",
      "metadata": {
        "id": "BTDgGR0hPP-q"
      },
      "source": [
        "# **Twitter Sentiment Classifier** 👍👎\n",
        "*using* **Feed-Forward Neural Networks** *and the* **GloVe** model."
      ]
    },
    {
      "cell_type": "markdown",
      "metadata": {
        "id": "geTb4429PZmr"
      },
      "source": [
        "Let's import some essential libraries."
      ]
    },
    {
      "cell_type": "code",
      "metadata": {
        "colab": {
          "base_uri": "https://localhost:8080/"
        },
        "id": "4t95k1wjPW_C",
        "outputId": "e9b474bc-a909-4d4a-8055-59bdc694c3f1"
      },
      "source": [
        "import numpy as np\n",
        "import matplotlib.pyplot as plt\n",
        "import pandas as pd\n",
        "import nltk\n",
        "import torch\n",
        "import torch.nn as nn\n",
        "import torch.optim as optim\n",
        "from nltk.corpus import stopwords\n",
        "import string\n",
        "import re\n",
        "from textblob import TextBlob\n",
        "\n",
        "nltk.download('wordnet')\n",
        "nltk.download('stopwords')\n",
        "nltk.download('punkt')"
      ],
      "execution_count": null,
      "outputs": [
        {
          "output_type": "stream",
          "text": [
            "[nltk_data] Downloading package wordnet to /root/nltk_data...\n",
            "[nltk_data]   Unzipping corpora/wordnet.zip.\n",
            "[nltk_data] Downloading package stopwords to /root/nltk_data...\n",
            "[nltk_data]   Unzipping corpora/stopwords.zip.\n",
            "[nltk_data] Downloading package punkt to /root/nltk_data...\n",
            "[nltk_data]   Unzipping tokenizers/punkt.zip.\n"
          ],
          "name": "stdout"
        },
        {
          "output_type": "execute_result",
          "data": {
            "text/plain": [
              "True"
            ]
          },
          "metadata": {
            "tags": []
          },
          "execution_count": 1
        }
      ]
    },
    {
      "cell_type": "markdown",
      "metadata": {
        "id": "WjFeHbkkPerT"
      },
      "source": [
        "## **Load the dataset** 🗂\n",
        "\n",
        "We have to mount (connect) Google Drive where I keep the dataset.\n",
        "\n",
        "Then, we can import the data in csv format using the pandas `read_csv` method.  \n",
        "I load 0.65M out of ~1M data from the SentimentTweets.csv dataset because getting more I have memory crashes on google colaborator."
      ]
    },
    {
      "cell_type": "code",
      "metadata": {
        "colab": {
          "base_uri": "https://localhost:8080/",
          "height": 221
        },
        "id": "mJH3A2sIPhos",
        "outputId": "458228cc-b228-46a0-9102-a0aaf9e63036"
      },
      "source": [
        "from google.colab import drive\n",
        "drive.mount('/content/drive')\n",
        "DATA_PATH = '/content/drive/My Drive/SentimentTweets.csv'\n",
        "data_csv = pd.read_csv(DATA_PATH, nrows=650000)\n",
        "data_csv = data_csv.dropna()\n",
        "data_csv.head()"
      ],
      "execution_count": null,
      "outputs": [
        {
          "output_type": "stream",
          "text": [
            "Mounted at /content/drive\n"
          ],
          "name": "stdout"
        },
        {
          "output_type": "execute_result",
          "data": {
            "text/html": [
              "<div>\n",
              "<style scoped>\n",
              "    .dataframe tbody tr th:only-of-type {\n",
              "        vertical-align: middle;\n",
              "    }\n",
              "\n",
              "    .dataframe tbody tr th {\n",
              "        vertical-align: top;\n",
              "    }\n",
              "\n",
              "    .dataframe thead th {\n",
              "        text-align: right;\n",
              "    }\n",
              "</style>\n",
              "<table border=\"1\" class=\"dataframe\">\n",
              "  <thead>\n",
              "    <tr style=\"text-align: right;\">\n",
              "      <th></th>\n",
              "      <th>Unnamed: 0</th>\n",
              "      <th>target</th>\n",
              "      <th>id</th>\n",
              "      <th>date</th>\n",
              "      <th>flag</th>\n",
              "      <th>user</th>\n",
              "      <th>text</th>\n",
              "    </tr>\n",
              "  </thead>\n",
              "  <tbody>\n",
              "    <tr>\n",
              "      <th>0</th>\n",
              "      <td>680949</td>\n",
              "      <td>0</td>\n",
              "      <td>2249621587</td>\n",
              "      <td>Fri Jun 19 22:41:08 PDT 2009</td>\n",
              "      <td>NO_QUERY</td>\n",
              "      <td>sukumarpant</td>\n",
              "      <td>#brokenpromises...</td>\n",
              "    </tr>\n",
              "    <tr>\n",
              "      <th>1</th>\n",
              "      <td>406741</td>\n",
              "      <td>0</td>\n",
              "      <td>2059003515</td>\n",
              "      <td>Sat Jun 06 16:03:21 PDT 2009</td>\n",
              "      <td>NO_QUERY</td>\n",
              "      <td>MTMSparrow</td>\n",
              "      <td>David Carradine  so sad. Thai's law not sure i...</td>\n",
              "    </tr>\n",
              "    <tr>\n",
              "      <th>2</th>\n",
              "      <td>1337108</td>\n",
              "      <td>4</td>\n",
              "      <td>2017466467</td>\n",
              "      <td>Wed Jun 03 08:26:14 PDT 2009</td>\n",
              "      <td>NO_QUERY</td>\n",
              "      <td>itsmemcee</td>\n",
              "      <td>A @ 415 B @ 425. Tell your bro i say congrats!</td>\n",
              "    </tr>\n",
              "    <tr>\n",
              "      <th>3</th>\n",
              "      <td>1560887</td>\n",
              "      <td>4</td>\n",
              "      <td>2186457254</td>\n",
              "      <td>Mon Jun 15 18:52:04 PDT 2009</td>\n",
              "      <td>NO_QUERY</td>\n",
              "      <td>jdfreivald</td>\n",
              "      <td>@littlefluffycat  Indeed.</td>\n",
              "    </tr>\n",
              "    <tr>\n",
              "      <th>4</th>\n",
              "      <td>1466295</td>\n",
              "      <td>4</td>\n",
              "      <td>2064458395</td>\n",
              "      <td>Sun Jun 07 06:19:20 PDT 2009</td>\n",
              "      <td>NO_QUERY</td>\n",
              "      <td>CrazyHan</td>\n",
              "      <td>Completed Race 4 Life in 58mins with girlies f...</td>\n",
              "    </tr>\n",
              "  </tbody>\n",
              "</table>\n",
              "</div>"
            ],
            "text/plain": [
              "   Unnamed: 0  ...                                               text\n",
              "0      680949  ...                                #brokenpromises... \n",
              "1      406741  ...  David Carradine  so sad. Thai's law not sure i...\n",
              "2     1337108  ...    A @ 415 B @ 425. Tell your bro i say congrats! \n",
              "3     1560887  ...                          @littlefluffycat  Indeed.\n",
              "4     1466295  ...  Completed Race 4 Life in 58mins with girlies f...\n",
              "\n",
              "[5 rows x 7 columns]"
            ]
          },
          "metadata": {
            "tags": []
          },
          "execution_count": 2
        }
      ]
    },
    {
      "cell_type": "markdown",
      "metadata": {
        "id": "y3bLDFg0PmzO"
      },
      "source": [
        "## **Data pre-processing** 💽"
      ]
    },
    {
      "cell_type": "markdown",
      "metadata": {
        "id": "FNDXUTXMPund"
      },
      "source": [
        "Converting the csv file data into Pandas DataFrame data structure."
      ]
    },
    {
      "cell_type": "code",
      "metadata": {
        "colab": {
          "base_uri": "https://localhost:8080/",
          "height": 427
        },
        "id": "soaxOQp2Pwvw",
        "outputId": "01123548-a252-4121-bd17-fb3a43e11f00"
      },
      "source": [
        "# Convert the data (from csv type) into dataframe data structure\n",
        "df = pd.DataFrame(data=data_csv) \n",
        "df.head(10)"
      ],
      "execution_count": null,
      "outputs": [
        {
          "output_type": "execute_result",
          "data": {
            "text/html": [
              "<div>\n",
              "<style scoped>\n",
              "    .dataframe tbody tr th:only-of-type {\n",
              "        vertical-align: middle;\n",
              "    }\n",
              "\n",
              "    .dataframe tbody tr th {\n",
              "        vertical-align: top;\n",
              "    }\n",
              "\n",
              "    .dataframe thead th {\n",
              "        text-align: right;\n",
              "    }\n",
              "</style>\n",
              "<table border=\"1\" class=\"dataframe\">\n",
              "  <thead>\n",
              "    <tr style=\"text-align: right;\">\n",
              "      <th></th>\n",
              "      <th>Unnamed: 0</th>\n",
              "      <th>target</th>\n",
              "      <th>id</th>\n",
              "      <th>date</th>\n",
              "      <th>flag</th>\n",
              "      <th>user</th>\n",
              "      <th>text</th>\n",
              "    </tr>\n",
              "  </thead>\n",
              "  <tbody>\n",
              "    <tr>\n",
              "      <th>0</th>\n",
              "      <td>680949</td>\n",
              "      <td>0</td>\n",
              "      <td>2249621587</td>\n",
              "      <td>Fri Jun 19 22:41:08 PDT 2009</td>\n",
              "      <td>NO_QUERY</td>\n",
              "      <td>sukumarpant</td>\n",
              "      <td>#brokenpromises...</td>\n",
              "    </tr>\n",
              "    <tr>\n",
              "      <th>1</th>\n",
              "      <td>406741</td>\n",
              "      <td>0</td>\n",
              "      <td>2059003515</td>\n",
              "      <td>Sat Jun 06 16:03:21 PDT 2009</td>\n",
              "      <td>NO_QUERY</td>\n",
              "      <td>MTMSparrow</td>\n",
              "      <td>David Carradine  so sad. Thai's law not sure i...</td>\n",
              "    </tr>\n",
              "    <tr>\n",
              "      <th>2</th>\n",
              "      <td>1337108</td>\n",
              "      <td>4</td>\n",
              "      <td>2017466467</td>\n",
              "      <td>Wed Jun 03 08:26:14 PDT 2009</td>\n",
              "      <td>NO_QUERY</td>\n",
              "      <td>itsmemcee</td>\n",
              "      <td>A @ 415 B @ 425. Tell your bro i say congrats!</td>\n",
              "    </tr>\n",
              "    <tr>\n",
              "      <th>3</th>\n",
              "      <td>1560887</td>\n",
              "      <td>4</td>\n",
              "      <td>2186457254</td>\n",
              "      <td>Mon Jun 15 18:52:04 PDT 2009</td>\n",
              "      <td>NO_QUERY</td>\n",
              "      <td>jdfreivald</td>\n",
              "      <td>@littlefluffycat  Indeed.</td>\n",
              "    </tr>\n",
              "    <tr>\n",
              "      <th>4</th>\n",
              "      <td>1466295</td>\n",
              "      <td>4</td>\n",
              "      <td>2064458395</td>\n",
              "      <td>Sun Jun 07 06:19:20 PDT 2009</td>\n",
              "      <td>NO_QUERY</td>\n",
              "      <td>CrazyHan</td>\n",
              "      <td>Completed Race 4 Life in 58mins with girlies f...</td>\n",
              "    </tr>\n",
              "    <tr>\n",
              "      <th>5</th>\n",
              "      <td>725609</td>\n",
              "      <td>0</td>\n",
              "      <td>2262367427</td>\n",
              "      <td>Sat Jun 20 22:22:34 PDT 2009</td>\n",
              "      <td>NO_QUERY</td>\n",
              "      <td>farmtrain</td>\n",
              "      <td>Woot truck fixed!!! Now workin  http://myloc.m...</td>\n",
              "    </tr>\n",
              "    <tr>\n",
              "      <th>6</th>\n",
              "      <td>1361765</td>\n",
              "      <td>4</td>\n",
              "      <td>2049183514</td>\n",
              "      <td>Fri Jun 05 16:26:26 PDT 2009</td>\n",
              "      <td>NO_QUERY</td>\n",
              "      <td>tinadallasfla</td>\n",
              "      <td>@BLAQSHEEPCEO   yea I melt at that lol</td>\n",
              "    </tr>\n",
              "    <tr>\n",
              "      <th>7</th>\n",
              "      <td>114606</td>\n",
              "      <td>0</td>\n",
              "      <td>1826379900</td>\n",
              "      <td>Sun May 17 08:22:16 PDT 2009</td>\n",
              "      <td>NO_QUERY</td>\n",
              "      <td>Isoebelle</td>\n",
              "      <td>wants to do something radical...but not sure w...</td>\n",
              "    </tr>\n",
              "    <tr>\n",
              "      <th>8</th>\n",
              "      <td>620064</td>\n",
              "      <td>0</td>\n",
              "      <td>2228196366</td>\n",
              "      <td>Thu Jun 18 14:08:18 PDT 2009</td>\n",
              "      <td>NO_QUERY</td>\n",
              "      <td>alox</td>\n",
              "      <td>@brlamb scratch that, @bgilgoff tweeted it. Ch...</td>\n",
              "    </tr>\n",
              "    <tr>\n",
              "      <th>9</th>\n",
              "      <td>564150</td>\n",
              "      <td>0</td>\n",
              "      <td>2206118765</td>\n",
              "      <td>Wed Jun 17 06:02:05 PDT 2009</td>\n",
              "      <td>NO_QUERY</td>\n",
              "      <td>asimpleparadox</td>\n",
              "      <td>I am sore everywhere. Also found out an assess...</td>\n",
              "    </tr>\n",
              "  </tbody>\n",
              "</table>\n",
              "</div>"
            ],
            "text/plain": [
              "   Unnamed: 0  ...                                               text\n",
              "0      680949  ...                                #brokenpromises... \n",
              "1      406741  ...  David Carradine  so sad. Thai's law not sure i...\n",
              "2     1337108  ...    A @ 415 B @ 425. Tell your bro i say congrats! \n",
              "3     1560887  ...                          @littlefluffycat  Indeed.\n",
              "4     1466295  ...  Completed Race 4 Life in 58mins with girlies f...\n",
              "5      725609  ...  Woot truck fixed!!! Now workin  http://myloc.m...\n",
              "6     1361765  ...            @BLAQSHEEPCEO   yea I melt at that lol \n",
              "7      114606  ...  wants to do something radical...but not sure w...\n",
              "8      620064  ...  @brlamb scratch that, @bgilgoff tweeted it. Ch...\n",
              "9      564150  ...  I am sore everywhere. Also found out an assess...\n",
              "\n",
              "[10 rows x 7 columns]"
            ]
          },
          "metadata": {
            "tags": []
          },
          "execution_count": 3
        }
      ]
    },
    {
      "cell_type": "markdown",
      "metadata": {
        "id": "BloafDAFPzqj"
      },
      "source": [
        "As we can see from above, the target column has 0s and 4s denoting the negative and the positive class respectively. We are going to change the *4s into 1s* using the `replace` method and hence we have:\n",
        "\n",
        "0 $\\rightarrow$ negative tweet 👎\n",
        "\n",
        "1 $\\rightarrow$ positive tweet 👍"
      ]
    },
    {
      "cell_type": "code",
      "metadata": {
        "colab": {
          "base_uri": "https://localhost:8080/",
          "height": 427
        },
        "id": "Jt6-Zle_P1pZ",
        "outputId": "f9b133be-922b-48c8-9a2a-8cc273394837"
      },
      "source": [
        "df['target'] = df['target'].replace(4,1)\n",
        "df.head(10)"
      ],
      "execution_count": null,
      "outputs": [
        {
          "output_type": "execute_result",
          "data": {
            "text/html": [
              "<div>\n",
              "<style scoped>\n",
              "    .dataframe tbody tr th:only-of-type {\n",
              "        vertical-align: middle;\n",
              "    }\n",
              "\n",
              "    .dataframe tbody tr th {\n",
              "        vertical-align: top;\n",
              "    }\n",
              "\n",
              "    .dataframe thead th {\n",
              "        text-align: right;\n",
              "    }\n",
              "</style>\n",
              "<table border=\"1\" class=\"dataframe\">\n",
              "  <thead>\n",
              "    <tr style=\"text-align: right;\">\n",
              "      <th></th>\n",
              "      <th>Unnamed: 0</th>\n",
              "      <th>target</th>\n",
              "      <th>id</th>\n",
              "      <th>date</th>\n",
              "      <th>flag</th>\n",
              "      <th>user</th>\n",
              "      <th>text</th>\n",
              "    </tr>\n",
              "  </thead>\n",
              "  <tbody>\n",
              "    <tr>\n",
              "      <th>0</th>\n",
              "      <td>680949</td>\n",
              "      <td>0</td>\n",
              "      <td>2249621587</td>\n",
              "      <td>Fri Jun 19 22:41:08 PDT 2009</td>\n",
              "      <td>NO_QUERY</td>\n",
              "      <td>sukumarpant</td>\n",
              "      <td>#brokenpromises...</td>\n",
              "    </tr>\n",
              "    <tr>\n",
              "      <th>1</th>\n",
              "      <td>406741</td>\n",
              "      <td>0</td>\n",
              "      <td>2059003515</td>\n",
              "      <td>Sat Jun 06 16:03:21 PDT 2009</td>\n",
              "      <td>NO_QUERY</td>\n",
              "      <td>MTMSparrow</td>\n",
              "      <td>David Carradine  so sad. Thai's law not sure i...</td>\n",
              "    </tr>\n",
              "    <tr>\n",
              "      <th>2</th>\n",
              "      <td>1337108</td>\n",
              "      <td>1</td>\n",
              "      <td>2017466467</td>\n",
              "      <td>Wed Jun 03 08:26:14 PDT 2009</td>\n",
              "      <td>NO_QUERY</td>\n",
              "      <td>itsmemcee</td>\n",
              "      <td>A @ 415 B @ 425. Tell your bro i say congrats!</td>\n",
              "    </tr>\n",
              "    <tr>\n",
              "      <th>3</th>\n",
              "      <td>1560887</td>\n",
              "      <td>1</td>\n",
              "      <td>2186457254</td>\n",
              "      <td>Mon Jun 15 18:52:04 PDT 2009</td>\n",
              "      <td>NO_QUERY</td>\n",
              "      <td>jdfreivald</td>\n",
              "      <td>@littlefluffycat  Indeed.</td>\n",
              "    </tr>\n",
              "    <tr>\n",
              "      <th>4</th>\n",
              "      <td>1466295</td>\n",
              "      <td>1</td>\n",
              "      <td>2064458395</td>\n",
              "      <td>Sun Jun 07 06:19:20 PDT 2009</td>\n",
              "      <td>NO_QUERY</td>\n",
              "      <td>CrazyHan</td>\n",
              "      <td>Completed Race 4 Life in 58mins with girlies f...</td>\n",
              "    </tr>\n",
              "    <tr>\n",
              "      <th>5</th>\n",
              "      <td>725609</td>\n",
              "      <td>0</td>\n",
              "      <td>2262367427</td>\n",
              "      <td>Sat Jun 20 22:22:34 PDT 2009</td>\n",
              "      <td>NO_QUERY</td>\n",
              "      <td>farmtrain</td>\n",
              "      <td>Woot truck fixed!!! Now workin  http://myloc.m...</td>\n",
              "    </tr>\n",
              "    <tr>\n",
              "      <th>6</th>\n",
              "      <td>1361765</td>\n",
              "      <td>1</td>\n",
              "      <td>2049183514</td>\n",
              "      <td>Fri Jun 05 16:26:26 PDT 2009</td>\n",
              "      <td>NO_QUERY</td>\n",
              "      <td>tinadallasfla</td>\n",
              "      <td>@BLAQSHEEPCEO   yea I melt at that lol</td>\n",
              "    </tr>\n",
              "    <tr>\n",
              "      <th>7</th>\n",
              "      <td>114606</td>\n",
              "      <td>0</td>\n",
              "      <td>1826379900</td>\n",
              "      <td>Sun May 17 08:22:16 PDT 2009</td>\n",
              "      <td>NO_QUERY</td>\n",
              "      <td>Isoebelle</td>\n",
              "      <td>wants to do something radical...but not sure w...</td>\n",
              "    </tr>\n",
              "    <tr>\n",
              "      <th>8</th>\n",
              "      <td>620064</td>\n",
              "      <td>0</td>\n",
              "      <td>2228196366</td>\n",
              "      <td>Thu Jun 18 14:08:18 PDT 2009</td>\n",
              "      <td>NO_QUERY</td>\n",
              "      <td>alox</td>\n",
              "      <td>@brlamb scratch that, @bgilgoff tweeted it. Ch...</td>\n",
              "    </tr>\n",
              "    <tr>\n",
              "      <th>9</th>\n",
              "      <td>564150</td>\n",
              "      <td>0</td>\n",
              "      <td>2206118765</td>\n",
              "      <td>Wed Jun 17 06:02:05 PDT 2009</td>\n",
              "      <td>NO_QUERY</td>\n",
              "      <td>asimpleparadox</td>\n",
              "      <td>I am sore everywhere. Also found out an assess...</td>\n",
              "    </tr>\n",
              "  </tbody>\n",
              "</table>\n",
              "</div>"
            ],
            "text/plain": [
              "   Unnamed: 0  ...                                               text\n",
              "0      680949  ...                                #brokenpromises... \n",
              "1      406741  ...  David Carradine  so sad. Thai's law not sure i...\n",
              "2     1337108  ...    A @ 415 B @ 425. Tell your bro i say congrats! \n",
              "3     1560887  ...                          @littlefluffycat  Indeed.\n",
              "4     1466295  ...  Completed Race 4 Life in 58mins with girlies f...\n",
              "5      725609  ...  Woot truck fixed!!! Now workin  http://myloc.m...\n",
              "6     1361765  ...            @BLAQSHEEPCEO   yea I melt at that lol \n",
              "7      114606  ...  wants to do something radical...but not sure w...\n",
              "8      620064  ...  @brlamb scratch that, @bgilgoff tweeted it. Ch...\n",
              "9      564150  ...  I am sore everywhere. Also found out an assess...\n",
              "\n",
              "[10 rows x 7 columns]"
            ]
          },
          "metadata": {
            "tags": []
          },
          "execution_count": 4
        }
      ]
    },
    {
      "cell_type": "markdown",
      "metadata": {
        "id": "cKZLPzxjP4UL"
      },
      "source": [
        "### **Data cleaning** 🧹\n",
        "\n",
        "In the following code snippet we \"clean\" the data by doing the following:\n",
        "\n",
        "We are going to classify tweets. As we all know, twitter users use the symbols # and @ a lot. This may cause problem to the classifier, thus we are going to remove them, using TextBlob. We are also going to lemmatize the data in order to avoid multiple representations of the same word\n",
        "* **Drop the uneseccary columns** such as \"Unnamed: 0\", \"id\", etc\n",
        "* **Lower** the characers using the string method `lower` \n",
        "* **Remove special characters** such as punctuation points, links, weird characters, etc."
      ]
    },
    {
      "cell_type": "code",
      "metadata": {
        "colab": {
          "base_uri": "https://localhost:8080/",
          "height": 204
        },
        "id": "2ew-dPWGP6Tt",
        "outputId": "ad56dc44-5886-4df7-e171-43bef2c8522f"
      },
      "source": [
        "# Drop the unescessary columns\n",
        "df.drop(columns = ['Unnamed: 0', 'id', 'date', 'flag', 'user'], inplace = True)\n",
        "df.head()"
      ],
      "execution_count": null,
      "outputs": [
        {
          "output_type": "execute_result",
          "data": {
            "text/html": [
              "<div>\n",
              "<style scoped>\n",
              "    .dataframe tbody tr th:only-of-type {\n",
              "        vertical-align: middle;\n",
              "    }\n",
              "\n",
              "    .dataframe tbody tr th {\n",
              "        vertical-align: top;\n",
              "    }\n",
              "\n",
              "    .dataframe thead th {\n",
              "        text-align: right;\n",
              "    }\n",
              "</style>\n",
              "<table border=\"1\" class=\"dataframe\">\n",
              "  <thead>\n",
              "    <tr style=\"text-align: right;\">\n",
              "      <th></th>\n",
              "      <th>target</th>\n",
              "      <th>text</th>\n",
              "    </tr>\n",
              "  </thead>\n",
              "  <tbody>\n",
              "    <tr>\n",
              "      <th>0</th>\n",
              "      <td>0</td>\n",
              "      <td>#brokenpromises...</td>\n",
              "    </tr>\n",
              "    <tr>\n",
              "      <th>1</th>\n",
              "      <td>0</td>\n",
              "      <td>David Carradine  so sad. Thai's law not sure i...</td>\n",
              "    </tr>\n",
              "    <tr>\n",
              "      <th>2</th>\n",
              "      <td>1</td>\n",
              "      <td>A @ 415 B @ 425. Tell your bro i say congrats!</td>\n",
              "    </tr>\n",
              "    <tr>\n",
              "      <th>3</th>\n",
              "      <td>1</td>\n",
              "      <td>@littlefluffycat  Indeed.</td>\n",
              "    </tr>\n",
              "    <tr>\n",
              "      <th>4</th>\n",
              "      <td>1</td>\n",
              "      <td>Completed Race 4 Life in 58mins with girlies f...</td>\n",
              "    </tr>\n",
              "  </tbody>\n",
              "</table>\n",
              "</div>"
            ],
            "text/plain": [
              "   target                                               text\n",
              "0       0                                #brokenpromises... \n",
              "1       0  David Carradine  so sad. Thai's law not sure i...\n",
              "2       1    A @ 415 B @ 425. Tell your bro i say congrats! \n",
              "3       1                          @littlefluffycat  Indeed.\n",
              "4       1  Completed Race 4 Life in 58mins with girlies f..."
            ]
          },
          "metadata": {
            "tags": []
          },
          "execution_count": 5
        }
      ]
    },
    {
      "cell_type": "code",
      "metadata": {
        "colab": {
          "base_uri": "https://localhost:8080/",
          "height": 359
        },
        "id": "zge4KxukP8TF",
        "outputId": "0fdf577a-a9f1-4ebe-9ac7-8d487a4a0971"
      },
      "source": [
        "# Define the function for text cleaning\n",
        "def text_cleaning(text):\n",
        "  text = text.lower()\n",
        "  # Remove non alphanumeric characters\n",
        "  text = re.sub(r'[^A-Za-z0-9]+', ' ', text)\n",
        "  # Remove links\n",
        "  text = re.sub(r'https?:/\\/\\S+', ' ', text)\n",
        "  # Remove punctuation\n",
        "  text = text.translate(str.maketrans('', '', string.punctuation))\n",
        "  return text\n",
        "\n",
        "df['text']=df['text'].apply(text_cleaning)\n",
        "df.head(10)"
      ],
      "execution_count": null,
      "outputs": [
        {
          "output_type": "execute_result",
          "data": {
            "text/html": [
              "<div>\n",
              "<style scoped>\n",
              "    .dataframe tbody tr th:only-of-type {\n",
              "        vertical-align: middle;\n",
              "    }\n",
              "\n",
              "    .dataframe tbody tr th {\n",
              "        vertical-align: top;\n",
              "    }\n",
              "\n",
              "    .dataframe thead th {\n",
              "        text-align: right;\n",
              "    }\n",
              "</style>\n",
              "<table border=\"1\" class=\"dataframe\">\n",
              "  <thead>\n",
              "    <tr style=\"text-align: right;\">\n",
              "      <th></th>\n",
              "      <th>target</th>\n",
              "      <th>text</th>\n",
              "    </tr>\n",
              "  </thead>\n",
              "  <tbody>\n",
              "    <tr>\n",
              "      <th>0</th>\n",
              "      <td>0</td>\n",
              "      <td>brokenpromises</td>\n",
              "    </tr>\n",
              "    <tr>\n",
              "      <th>1</th>\n",
              "      <td>0</td>\n",
              "      <td>david carradine so sad thai s law not sure if ...</td>\n",
              "    </tr>\n",
              "    <tr>\n",
              "      <th>2</th>\n",
              "      <td>1</td>\n",
              "      <td>a 415 b 425 tell your bro i say congrats</td>\n",
              "    </tr>\n",
              "    <tr>\n",
              "      <th>3</th>\n",
              "      <td>1</td>\n",
              "      <td>littlefluffycat indeed</td>\n",
              "    </tr>\n",
              "    <tr>\n",
              "      <th>4</th>\n",
              "      <td>1</td>\n",
              "      <td>completed race 4 life in 58mins with girlies f...</td>\n",
              "    </tr>\n",
              "    <tr>\n",
              "      <th>5</th>\n",
              "      <td>0</td>\n",
              "      <td>woot truck fixed now workin http myloc me 4nif</td>\n",
              "    </tr>\n",
              "    <tr>\n",
              "      <th>6</th>\n",
              "      <td>1</td>\n",
              "      <td>blaqsheepceo yea i melt at that lol</td>\n",
              "    </tr>\n",
              "    <tr>\n",
              "      <th>7</th>\n",
              "      <td>0</td>\n",
              "      <td>wants to do something radical but not sure wha...</td>\n",
              "    </tr>\n",
              "    <tr>\n",
              "      <th>8</th>\n",
              "      <td>0</td>\n",
              "      <td>brlamb scratch that bgilgoff tweeted it chann...</td>\n",
              "    </tr>\n",
              "    <tr>\n",
              "      <th>9</th>\n",
              "      <td>0</td>\n",
              "      <td>i am sore everywhere also found out an assessm...</td>\n",
              "    </tr>\n",
              "  </tbody>\n",
              "</table>\n",
              "</div>"
            ],
            "text/plain": [
              "   target                                               text\n",
              "0       0                                    brokenpromises \n",
              "1       0  david carradine so sad thai s law not sure if ...\n",
              "2       1          a 415 b 425 tell your bro i say congrats \n",
              "3       1                            littlefluffycat indeed \n",
              "4       1  completed race 4 life in 58mins with girlies f...\n",
              "5       0     woot truck fixed now workin http myloc me 4nif\n",
              "6       1               blaqsheepceo yea i melt at that lol \n",
              "7       0  wants to do something radical but not sure wha...\n",
              "8       0   brlamb scratch that bgilgoff tweeted it chann...\n",
              "9       0  i am sore everywhere also found out an assessm..."
            ]
          },
          "metadata": {
            "tags": []
          },
          "execution_count": 6
        }
      ]
    },
    {
      "cell_type": "markdown",
      "metadata": {
        "id": "MjQ8rTbZQAJr"
      },
      "source": [
        "### **Tokenization and Lemmatization** 🔑\n",
        "\n",
        "**Tokenization** is necessary to prepare the data in order to vectorize them using the TF-IDF scheme.  \n",
        "The goal of **Lemmatization** (or Stemming) is to reduce inflectional forms and sometimes derivationally related forms of a word to a common base form.  \n",
        "For instance, Lemmatization or Stemming will do the following:   \n",
        "am, are, is $\\Rightarrow$ be  \n",
        "car, cars, car's, cars' $\\Rightarrow$ car"
      ]
    },
    {
      "cell_type": "code",
      "metadata": {
        "colab": {
          "base_uri": "https://localhost:8080/",
          "height": 359
        },
        "id": "Znf7v8FDQCtu",
        "outputId": "8935ef09-8388-46e8-f4a9-3e6e666e113c"
      },
      "source": [
        "w_tokenizer = nltk.tokenize.WhitespaceTokenizer()\n",
        "lemmatizer = nltk.stem.WordNetLemmatizer()\n",
        "\n",
        "# Function that lemmatizes the tokenized text\n",
        "# text is being tokenized and passed immidiately into the lemmatizer \n",
        "def lemmatize_text(text):\n",
        "    return \" \".join([lemmatizer.lemmatize(w, pos=\"v\") for w in w_tokenizer.tokenize(text)])\n",
        "\n",
        "df['text'] = df.text.apply(lemmatize_text).copy()\n",
        "\n",
        "df.head(10)"
      ],
      "execution_count": null,
      "outputs": [
        {
          "output_type": "execute_result",
          "data": {
            "text/html": [
              "<div>\n",
              "<style scoped>\n",
              "    .dataframe tbody tr th:only-of-type {\n",
              "        vertical-align: middle;\n",
              "    }\n",
              "\n",
              "    .dataframe tbody tr th {\n",
              "        vertical-align: top;\n",
              "    }\n",
              "\n",
              "    .dataframe thead th {\n",
              "        text-align: right;\n",
              "    }\n",
              "</style>\n",
              "<table border=\"1\" class=\"dataframe\">\n",
              "  <thead>\n",
              "    <tr style=\"text-align: right;\">\n",
              "      <th></th>\n",
              "      <th>target</th>\n",
              "      <th>text</th>\n",
              "    </tr>\n",
              "  </thead>\n",
              "  <tbody>\n",
              "    <tr>\n",
              "      <th>0</th>\n",
              "      <td>0</td>\n",
              "      <td>brokenpromises</td>\n",
              "    </tr>\n",
              "    <tr>\n",
              "      <th>1</th>\n",
              "      <td>0</td>\n",
              "      <td>david carradine so sad thai s law not sure if ...</td>\n",
              "    </tr>\n",
              "    <tr>\n",
              "      <th>2</th>\n",
              "      <td>1</td>\n",
              "      <td>a 415 b 425 tell your bro i say congrats</td>\n",
              "    </tr>\n",
              "    <tr>\n",
              "      <th>3</th>\n",
              "      <td>1</td>\n",
              "      <td>littlefluffycat indeed</td>\n",
              "    </tr>\n",
              "    <tr>\n",
              "      <th>4</th>\n",
              "      <td>1</td>\n",
              "      <td>complete race 4 life in 58mins with girlies fr...</td>\n",
              "    </tr>\n",
              "    <tr>\n",
              "      <th>5</th>\n",
              "      <td>0</td>\n",
              "      <td>woot truck fix now workin http myloc me 4nif</td>\n",
              "    </tr>\n",
              "    <tr>\n",
              "      <th>6</th>\n",
              "      <td>1</td>\n",
              "      <td>blaqsheepceo yea i melt at that lol</td>\n",
              "    </tr>\n",
              "    <tr>\n",
              "      <th>7</th>\n",
              "      <td>0</td>\n",
              "      <td>want to do something radical but not sure what...</td>\n",
              "    </tr>\n",
              "    <tr>\n",
              "      <th>8</th>\n",
              "      <td>0</td>\n",
              "      <td>brlamb scratch that bgilgoff tweet it channel ...</td>\n",
              "    </tr>\n",
              "    <tr>\n",
              "      <th>9</th>\n",
              "      <td>0</td>\n",
              "      <td>i be sore everywhere also find out an assessme...</td>\n",
              "    </tr>\n",
              "  </tbody>\n",
              "</table>\n",
              "</div>"
            ],
            "text/plain": [
              "   target                                               text\n",
              "0       0                                     brokenpromises\n",
              "1       0  david carradine so sad thai s law not sure if ...\n",
              "2       1           a 415 b 425 tell your bro i say congrats\n",
              "3       1                             littlefluffycat indeed\n",
              "4       1  complete race 4 life in 58mins with girlies fr...\n",
              "5       0       woot truck fix now workin http myloc me 4nif\n",
              "6       1                blaqsheepceo yea i melt at that lol\n",
              "7       0  want to do something radical but not sure what...\n",
              "8       0  brlamb scratch that bgilgoff tweet it channel ...\n",
              "9       0  i be sore everywhere also find out an assessme..."
            ]
          },
          "metadata": {
            "tags": []
          },
          "execution_count": 7
        }
      ]
    },
    {
      "cell_type": "markdown",
      "metadata": {
        "id": "aic6k7p6QJ1O"
      },
      "source": [
        "### **Split the dataset** 🖇\n",
        "into *training, validation* and *testing* sets."
      ]
    },
    {
      "cell_type": "code",
      "metadata": {
        "colab": {
          "base_uri": "https://localhost:8080/",
          "height": 69
        },
        "id": "10wS1EZcQOEO",
        "outputId": "6aa5ee27-fc57-4c13-8008-15cbefc0b673"
      },
      "source": [
        "from sklearn.model_selection import train_test_split\n",
        "\n",
        "X = pd.DataFrame(df, columns = ['text'])\n",
        "Y = pd.DataFrame(df, columns = ['target'])\n",
        "\n",
        "trainX, testX, trainY, testY = train_test_split(X, Y, test_size=0.05, random_state=123)\n",
        "trainX, valX, trainY, valY = train_test_split(trainX, trainY, test_size=0.05, random_state=123)\n",
        "'''\n",
        "print(\"Shape of trainX: \", trainX.shape)\n",
        "print(\"Shape of trainY: \", trainY.shape)\n",
        "print(\"Shape of testX:  \", testX.shape)\n",
        "print(\"Shape of testY:  \", testY.shape)\n",
        "print(\"Shape of valX:   \", valX.shape)\n",
        "print(\"Shape of valY:   \", valY.shape)\n",
        "'''"
      ],
      "execution_count": null,
      "outputs": [
        {
          "output_type": "execute_result",
          "data": {
            "application/vnd.google.colaboratory.intrinsic+json": {
              "type": "string"
            },
            "text/plain": [
              "'\\nprint(\"Shape of trainX: \", trainX.shape)\\nprint(\"Shape of trainY: \", trainY.shape)\\nprint(\"Shape of testX:  \", testX.shape)\\nprint(\"Shape of testY:  \", testY.shape)\\nprint(\"Shape of valX:   \", valX.shape)\\nprint(\"Shape of valY:   \", valY.shape)\\n'"
            ]
          },
          "metadata": {
            "tags": []
          },
          "execution_count": 8
        }
      ]
    },
    {
      "cell_type": "code",
      "metadata": {
        "colab": {
          "base_uri": "https://localhost:8080/"
        },
        "id": "7cMREEjaQQTI",
        "outputId": "ea5fdad1-44ab-4288-970d-54df220fd0a0"
      },
      "source": [
        "print(trainX.head())"
      ],
      "execution_count": null,
      "outputs": [
        {
          "output_type": "stream",
          "text": [
            "                                                     text\n",
            "252794  and they be back within hear distance with win...\n",
            "591124  3 majorettes show tomorrow fuck me i m gonna b...\n",
            "4804                      choebe guess what i m dling now\n",
            "230626  i break my hello kitty mobile charm it be one ...\n",
            "81794   just get do watch some buffy hurray it s bryan...\n"
          ],
          "name": "stdout"
        }
      ]
    },
    {
      "cell_type": "markdown",
      "metadata": {
        "id": "IBrY0HgoQ0br"
      },
      "source": [
        "## **Vectorization with the GloVe pre-trained word embeddings** 🔢\n",
        "\n",
        "Now, we need to ***convert the text into numbers using the GloVe model.*** "
      ]
    },
    {
      "cell_type": "markdown",
      "metadata": {
        "id": "_vsoFIHxe-9Q"
      },
      "source": [
        "We will use the pre-trained **_glove.twitter.27B.25d.txt_** file which provides *27 billion tokens* extracted from tweets and vectorized using the GloVe model in *25 dimensions*. The .zip file from [GloVe](https://nlp.stanford.edu/projects/glove/) also contains encodings in 50, 100 and 200 dimensions. For the sake of speed I chose to use the 25-dimensions file."
      ]
    },
    {
      "cell_type": "markdown",
      "metadata": {
        "id": "88k2KFE7faF_"
      },
      "source": [
        "First of all we download the `glove.twitter.27B.zip` archive which contains the GloVe word embeddings."
      ]
    },
    {
      "cell_type": "code",
      "metadata": {
        "colab": {
          "base_uri": "https://localhost:8080/"
        },
        "id": "pfnVSQPTjrFy",
        "outputId": "e0484268-0b0d-4707-819c-ea2d3f54c16c"
      },
      "source": [
        "!wget -nc https://nlp.stanford.edu/data/glove.twitter.27B.zip\n",
        "!unzip -n -q glove.twitter.27B.zip"
      ],
      "execution_count": null,
      "outputs": [
        {
          "output_type": "stream",
          "text": [
            "--2021-08-02 07:49:00--  https://nlp.stanford.edu/data/glove.twitter.27B.zip\n",
            "Resolving nlp.stanford.edu (nlp.stanford.edu)... 171.64.67.140\n",
            "Connecting to nlp.stanford.edu (nlp.stanford.edu)|171.64.67.140|:443... connected.\n",
            "HTTP request sent, awaiting response... 301 Moved Permanently\n",
            "Location: http://downloads.cs.stanford.edu/nlp/data/glove.twitter.27B.zip [following]\n",
            "--2021-08-02 07:49:00--  http://downloads.cs.stanford.edu/nlp/data/glove.twitter.27B.zip\n",
            "Resolving downloads.cs.stanford.edu (downloads.cs.stanford.edu)... 171.64.64.22\n",
            "Connecting to downloads.cs.stanford.edu (downloads.cs.stanford.edu)|171.64.64.22|:80... connected.\n",
            "HTTP request sent, awaiting response... 200 OK\n",
            "Length: 1520408563 (1.4G) [application/zip]\n",
            "Saving to: ‘glove.twitter.27B.zip’\n",
            "\n",
            "glove.twitter.27B.z 100%[===================>]   1.42G  4.98MB/s    in 4m 50s  \n",
            "\n",
            "2021-08-02 07:53:51 (5.00 MB/s) - ‘glove.twitter.27B.zip’ saved [1520408563/1520408563]\n",
            "\n"
          ],
          "name": "stdout"
        }
      ]
    },
    {
      "cell_type": "markdown",
      "metadata": {
        "id": "Vqf2gebaO6Q6"
      },
      "source": [
        "The `glove.twitter.27B.25d.txt` file has the following format: Each word is followed by 25 coefficients that define that specific word. We want to build a vocabulary of these words that map each one of them to their corresponding 25-dimensional vector that defines them. So, we go through the file and split each line to get the word and the 25 coefficients that are associated with it. The following code does that."
      ]
    },
    {
      "cell_type": "code",
      "metadata": {
        "colab": {
          "base_uri": "https://localhost:8080/"
        },
        "id": "X6vyrZqAkVqW",
        "outputId": "06df5222-4236-4edf-f8dd-ad71525b4be2"
      },
      "source": [
        "import os\n",
        "GloVe_path = '/content/glove.twitter.27B.25d.txt'\n",
        "GloVe_vocab = {}\n",
        "with open(GloVe_path) as f:\n",
        "    for line in f:\n",
        "        word, coefs = line.split(maxsplit=1)\n",
        "        coefs = np.fromstring(coefs, \"f\", sep=\" \")\n",
        "        GloVe_vocab[word] = coefs\n",
        "\n",
        "print(\"Found %s word vectors on the GloVe file.\" % len(GloVe_vocab))"
      ],
      "execution_count": null,
      "outputs": [
        {
          "output_type": "stream",
          "text": [
            "Found 1193514 word vectors on the GloVe file.\n"
          ],
          "name": "stdout"
        }
      ]
    },
    {
      "cell_type": "markdown",
      "metadata": {
        "id": "7F5CcoEfHI6P"
      },
      "source": [
        "Now that we have the vocabulary with all the words from the GloVe model, we have to build a *word_coeffs*  matrix in order to know for each word in the dataset `(TwitterSentiment.csv)` how to represent it with numbers.  \n",
        "Hence, the word coefficients matrix will have dimensions of `[Vocabulary Size] x [Word Vectors  Dimension]`.  \n",
        "But how can we handle the words that are *not* encoded by the GloVe model?  \n",
        "=>  We just fill their word vector with zeros (we kinda ignore them 😁)  \n",
        "So, the idea is simple:\n",
        "\n",
        "```\n",
        "If a word from the dataset is also present in the GloVe vocabulary then \n",
        "  this word is represented by the 25-dimensional GloVe vector containing the 25 coefficients that represent this word\n",
        "else (this word is not present in the GloVe vocabulary)\n",
        "  this word is represented by a 25-diemensional vector filled with zeros\n",
        "```\n",
        "\n"
      ]
    },
    {
      "cell_type": "markdown",
      "metadata": {
        "id": "oC1ekOuESomd"
      },
      "source": [
        "The following function, given a dataset returns the NumPy array/vector with the associated numbers for each word, and, how many _words_found_ and also the _matrix_len_. "
      ]
    },
    {
      "cell_type": "code",
      "metadata": {
        "id": "X1LYNwNmhg1a"
      },
      "source": [
        "def GloVe_WordVectors(dataset):\n",
        "  matrix_len = dataset['text'].str.split().str.len().sum()\n",
        "  words = 0\n",
        "  words_found = 0\n",
        "  mean_tweets = []\n",
        "\n",
        "  for i, row in enumerate(dataset['text']):\n",
        "    splitted_words = str(row).split(' ')\n",
        "    word_coeffs = np.zeros((len(splitted_words), 25))\n",
        "    for j, word in enumerate(splitted_words):\n",
        "      words += 1\n",
        "      if word in GloVe_vocab:\n",
        "        word_coeffs[j] = GloVe_vocab[word]\n",
        "        words_found += 1\n",
        "    mean_tweets.append(np.mean(word_coeffs, axis=0))\n",
        "  return np.array(mean_tweets), words_found, matrix_len"
      ],
      "execution_count": null,
      "outputs": []
    },
    {
      "cell_type": "markdown",
      "metadata": {
        "id": "VoKywabsiggQ"
      },
      "source": [
        "Let's see how many of the words from our dataset are presented by the GloVe word embeddings.🤔\n",
        "\n",
        "We get a ratio of 94% which is acceptable for our model."
      ]
    },
    {
      "cell_type": "code",
      "metadata": {
        "colab": {
          "base_uri": "https://localhost:8080/"
        },
        "id": "ayWV0LkOivK1",
        "outputId": "c6f55bc1-47dd-42e5-d7d7-f6e489054e73"
      },
      "source": [
        "glove_trainX, words_found, matrix_len = GloVe_WordVectors(pd.DataFrame(trainX))\n",
        "print(glove_trainX.shape)\n",
        "print('Training Set match with GloVe embeddings (ratio): ', round(words_found/matrix_len, 2))\n",
        "\n",
        "glove_valX, words_found, matrix_len = GloVe_WordVectors(pd.DataFrame(valX))\n",
        "print('Validation Set match with GloVe embeddings (ratio):', round(words_found/matrix_len,2))\n",
        "\n",
        "glove_testX, words_found, matrix_len = GloVe_WordVectors(pd.DataFrame(testX))\n",
        "print('Test Set match with GloVe embeddings (ratio): ', round(words_found/matrix_len,2))\n"
      ],
      "execution_count": null,
      "outputs": [
        {
          "output_type": "stream",
          "text": [
            "(586625, 25)\n",
            "Training Set match with GloVe embeddings (ratio):  0.94\n",
            "Validation Set match with GloVe embeddings (ratio): 0.94\n",
            "Test Set match with GloVe embeddings (ratio):  0.94\n"
          ],
          "name": "stdout"
        }
      ]
    },
    {
      "cell_type": "code",
      "metadata": {
        "id": "WyRkKi0im75W"
      },
      "source": [
        "# Convert X datasets to tensors with function convert_to_tensor.\n",
        "glove_trainX = torch.tensor(glove_trainX)\n",
        "glove_valX = torch.tensor(glove_valX)\n",
        "glove_testX = torch.tensor(glove_testX)"
      ],
      "execution_count": null,
      "outputs": []
    },
    {
      "cell_type": "code",
      "metadata": {
        "id": "SzWfLJG3nCc1"
      },
      "source": [
        "# Convert Y labels to tensors with torch.squeeze.\n",
        "trainY = torch.squeeze(torch.from_numpy(trainY.to_numpy()).float())\n",
        "valY = torch.squeeze(torch.from_numpy(valY.to_numpy()).float())\n",
        "testY = torch.squeeze(torch.from_numpy(testY.to_numpy()).float())"
      ],
      "execution_count": null,
      "outputs": []
    },
    {
      "cell_type": "code",
      "metadata": {
        "colab": {
          "base_uri": "https://localhost:8080/"
        },
        "id": "syCo2ffOkxKF",
        "outputId": "043992f1-e9df-4170-b20b-1e68fe1350c0"
      },
      "source": [
        "device = torch.device(\"cuda\" if torch.cuda.is_available() else \"cpu\")\n",
        "print(\"Device available for running: \")\n",
        "print(device)"
      ],
      "execution_count": null,
      "outputs": [
        {
          "output_type": "stream",
          "text": [
            "Device available for running: \n",
            "cuda\n"
          ],
          "name": "stdout"
        }
      ]
    },
    {
      "cell_type": "markdown",
      "metadata": {
        "id": "ltL8InpvyDiu"
      },
      "source": [
        "## **Feed-Forward Neural Network** 🧠\n",
        "\n",
        "I chose a structure of *three hidden layers*, hence *four functions* in total with each one having the ReLU activation function, plus the sigmoid activation function at the output.\n",
        "\n",
        "The *structure* of the network is as follows:\n",
        "\n",
        "Input $\\rightarrow$  \n",
        "  Linear Layer $\\rightarrow$ ReLU  \n",
        "  Linear Layer $\\rightarrow$ ReLU   \n",
        "  Linear Layer $\\rightarrow$ ReLU  \n",
        "  Linear Layer $\\rightarrow$ Sigmoid  \n",
        "$\\rightarrow$ Output"
      ]
    },
    {
      "cell_type": "markdown",
      "metadata": {
        "id": "iStO_XpSyhrE"
      },
      "source": [
        "### **Building the network** 🔨"
      ]
    },
    {
      "cell_type": "code",
      "metadata": {
        "colab": {
          "base_uri": "https://localhost:8080/"
        },
        "id": "SCeXEmqMlTar",
        "outputId": "9db0f036-6d05-41ab-fd1c-281dae666053"
      },
      "source": [
        "class FeedForwardNeuralNetwork(nn.Module):\n",
        "  def __init__(self, input_dim, hidden_dim_1, hidden_dim_2, hidden_dim_3, output_dim):\n",
        "    super(FeedForwardNeuralNetwork, self).__init__()\n",
        "\n",
        "    self.f_1 = nn.Linear(input_dim, hidden_dim_1)\n",
        "    self.relu_1 = nn.ReLU()\n",
        "\n",
        "    self.f_2 = nn.Linear(hidden_dim_1, hidden_dim_2)\n",
        "    self.relu_2 = nn.ReLU()\n",
        "\n",
        "    self.f_3 = nn.Linear(hidden_dim_2, hidden_dim_3)\n",
        "    self.relu_3 = nn.ReLU()\n",
        "\n",
        "    self.f_4 = nn.Linear(hidden_dim_3, output_dim)\n",
        "\n",
        "    self.sigmoid = nn.Sigmoid()\n",
        "\n",
        "  def forward(self, x):\n",
        "    out = self.f_1(x)\n",
        "    out = self.relu_1(out)\n",
        "    out = self.f_2(out)\n",
        "    out = self.relu_2(out)\n",
        "    out = self.f_3(out)\n",
        "    out = self.relu_3(out)\n",
        "    out = self.f_4(out)\n",
        "    out = self.sigmoid(out)\n",
        "    return out\n",
        "\n",
        "# Initializing the model's parameters\n",
        "input_dim = glove_trainX.shape[1]\n",
        "hidden_dim_1 = 1024\n",
        "hidden_dim_2 = 512\n",
        "hidden_dim_3 = 256\n",
        "\n",
        "output_dim = 1\n",
        "\n",
        "n_epochs = 70\n",
        "\n",
        "# Define the model in the nn_model variable\n",
        "nn_model = FeedForwardNeuralNetwork(input_dim, hidden_dim_1, hidden_dim_2, hidden_dim_3, output_dim)\n",
        "loss_function = nn.BCELoss() # the loss function: Binary Cross Entropy Loss\n",
        "optimizer = optim.Adam(nn_model.parameters(), lr=1e-4, weight_decay=1e-3)\n",
        "\n",
        "# Send the computation to the selected device (cpu/gpu)\n",
        "nn_model.to(device)\n",
        "loss_function.to(device)"
      ],
      "execution_count": null,
      "outputs": [
        {
          "output_type": "execute_result",
          "data": {
            "text/plain": [
              "BCELoss()"
            ]
          },
          "metadata": {
            "tags": []
          },
          "execution_count": 59
        }
      ]
    },
    {
      "cell_type": "code",
      "metadata": {
        "id": "j1Zrj0uxlchE"
      },
      "source": [
        "import torch\n",
        "batch_size = 32768 # 2^15\n",
        "\n",
        "trainX_batches = torch.split(glove_trainX, batch_size)\n",
        "trainY_batches = torch.split(trainY, batch_size)"
      ],
      "execution_count": null,
      "outputs": []
    },
    {
      "cell_type": "code",
      "metadata": {
        "id": "l1VNxGfIlfP3"
      },
      "source": [
        "def calculate_accuracy(y_prediction, y_true):\n",
        "  y_prediction = torch.round(y_prediction)\n",
        "  correct = (y_true == y_prediction).float() # is it correct? i.e. loss == 0?\n",
        "  accuracy = correct.sum() / len(correct)\n",
        "  return accuracy"
      ],
      "execution_count": null,
      "outputs": []
    },
    {
      "cell_type": "code",
      "metadata": {
        "id": "tftwJrtRlhMT"
      },
      "source": [
        "plt.style.use('seaborn-whitegrid') # plot style\n",
        "\n",
        "def plot_loss_accuracy(train_loss, train_acc, val_loss, val_acc, epochs):\n",
        "  fig, (ax1, ax2) = plt.subplots(1,2,figsize=(14,6))\n",
        "\n",
        "  ax1.plot(range(epochs), train_loss, 'bo-' , label = 'Training loss')\n",
        "  ax1.plot(range(epochs), val_loss , 'ro-', label = 'Validation loss')\n",
        "  ax1.set_ylabel('Loss')\n",
        "  ax1.set_xlabel('Epoch')\n",
        "  ax1.set_title('Loss/Epoch', y = 1.03, fontsize = 15)\n",
        "  ax1.set_xlim([-1,epochs])\n",
        "  ax1.legend(loc=\"best\")\n",
        "\n",
        "  ax2.plot(range(epochs), train_acc, 'bo-' , label = 'Training accuracy')\n",
        "  ax2.plot(range(epochs), val_acc , 'ro-', label = 'Validation accuracy')\n",
        "  ax2.set_ylabel('Accuracy')\n",
        "  ax2.set_xlabel('Epoch')\n",
        "  ax2.set_title('Accuracy/Epoch', y = 1.03, fontsize = 15)\n",
        "  ax2.set_xlim([-1,epochs])\n",
        "  ax2.legend(loc=\"best\")\n",
        "\n",
        "  plt.show()"
      ],
      "execution_count": null,
      "outputs": []
    },
    {
      "cell_type": "markdown",
      "metadata": {
        "id": "Clvox8NwynLk"
      },
      "source": [
        "### **Training** 🏋️‍♂️"
      ]
    },
    {
      "cell_type": "code",
      "metadata": {
        "id": "WLkM3wBzljiW",
        "colab": {
          "base_uri": "https://localhost:8080/"
        },
        "outputId": "f9202418-7b2f-4b37-fd3c-59a4c0f51972"
      },
      "source": [
        "train_losses, train_accuracies, val_losses, val_accuracies = [], [], [], []\n",
        "\n",
        "for epoch in range(n_epochs):\n",
        "  epoch_loss = epoch_accuracy = 0\n",
        "  val_loss = val_accuracy = 0\n",
        "\n",
        "  for trainX_mini_batch, trainY_mini_batch in zip(trainX_batches, trainY_batches):\n",
        "    trainX_mini_batch = trainX_mini_batch.to(device)\n",
        "    trainY_mini_batch = trainY_mini_batch.to(device)\n",
        "\n",
        "    # Forward pass to get prediction\n",
        "    train_prediction = nn_model.forward(trainX_mini_batch.float())\n",
        "    train_prediction = torch.squeeze(train_prediction)\n",
        "\n",
        "    # Calculate loss\n",
        "    train_loss = loss_function(train_prediction, trainY_mini_batch)\n",
        "\n",
        "    # Clearing up accumulated gradients whyyyyyyyyy!?\n",
        "    optimizer.zero_grad()\n",
        "\n",
        "    # Get the gradients using backpropagation power!!\n",
        "    train_loss.backward()\n",
        "\n",
        "    # Update parameters, or \"learn\" :)\n",
        "    optimizer.step()\n",
        "\n",
        "    epoch_loss += train_loss.item()\n",
        "    epoch_accuracy += calculate_accuracy(train_prediction, trainY_mini_batch)\n",
        "  \n",
        "  # For each epoch print loss and accucary on train and validation sets.\n",
        "  glove_valX = glove_valX.to(device)\n",
        "  valY = valY.to(device)\n",
        "\n",
        "  # Forward pass to get output\n",
        "  val_prediction = nn_model.forward(glove_valX.float())\n",
        "  val_prediction = torch.squeeze(val_prediction)\n",
        "  \n",
        "  # Calculate loss\n",
        "  val_loss = loss_function(val_prediction, valY)\n",
        "\n",
        "  # Add each mini batch's loss\n",
        "  validation_loss = val_loss.item()\n",
        "\n",
        "  # Add each mini batch's accuracy\n",
        "  val_accuracy = calculate_accuracy(val_prediction, valY)\n",
        "\n",
        "  epoch_loss /= len(trainX_batches)\n",
        "  epoch_accuracy /= len(trainX_batches)\n",
        "  val_losses.append(validation_loss)\n",
        "  train_losses.append(epoch_loss)\n",
        "  train_accuracies.append(epoch_accuracy)\n",
        "  val_accuracies.append(val_accuracy)\n",
        "  print(\"Epoch:\", epoch, \"\\n\"\n",
        "          \"Train Loss:     \\t\", round(epoch_loss, 4),      \"\\tTrain Accuracy:      \\t\", round(epoch_accuracy.item(), 4), \"\\n\"\n",
        "          \"Validation Loss:\\t\", round(validation_loss, 4), \"\\tValidation Accuracy: \\t\", round(val_accuracy.item(), 4),   \"\\n\")"
      ],
      "execution_count": null,
      "outputs": [
        {
          "output_type": "stream",
          "text": [
            "Epoch: 0 \n",
            "Train Loss:     \t 0.6867 \tTrain Accuracy:      \t 0.5776 \n",
            "Validation Loss:\t 0.6781 \tValidation Accuracy: \t 0.633 \n",
            "\n",
            "Epoch: 1 \n",
            "Train Loss:     \t 0.6668 \tTrain Accuracy:      \t 0.644 \n",
            "Validation Loss:\t 0.6509 \tValidation Accuracy: \t 0.6534 \n",
            "\n",
            "Epoch: 2 \n",
            "Train Loss:     \t 0.6352 \tTrain Accuracy:      \t 0.6554 \n",
            "Validation Loss:\t 0.6195 \tValidation Accuracy: \t 0.6622 \n",
            "\n",
            "Epoch: 3 \n",
            "Train Loss:     \t 0.6118 \tTrain Accuracy:      \t 0.6616 \n",
            "Validation Loss:\t 0.6059 \tValidation Accuracy: \t 0.667 \n",
            "\n",
            "Epoch: 4 \n",
            "Train Loss:     \t 0.6045 \tTrain Accuracy:      \t 0.6661 \n",
            "Validation Loss:\t 0.6021 \tValidation Accuracy: \t 0.6701 \n",
            "\n",
            "Epoch: 5 \n",
            "Train Loss:     \t 0.6019 \tTrain Accuracy:      \t 0.6684 \n",
            "Validation Loss:\t 0.5999 \tValidation Accuracy: \t 0.6716 \n",
            "\n",
            "Epoch: 6 \n",
            "Train Loss:     \t 0.6002 \tTrain Accuracy:      \t 0.6696 \n",
            "Validation Loss:\t 0.5985 \tValidation Accuracy: \t 0.6736 \n",
            "\n",
            "Epoch: 7 \n",
            "Train Loss:     \t 0.5988 \tTrain Accuracy:      \t 0.6709 \n",
            "Validation Loss:\t 0.5974 \tValidation Accuracy: \t 0.6737 \n",
            "\n",
            "Epoch: 8 \n",
            "Train Loss:     \t 0.5976 \tTrain Accuracy:      \t 0.672 \n",
            "Validation Loss:\t 0.5964 \tValidation Accuracy: \t 0.6746 \n",
            "\n",
            "Epoch: 9 \n",
            "Train Loss:     \t 0.5965 \tTrain Accuracy:      \t 0.673 \n",
            "Validation Loss:\t 0.5952 \tValidation Accuracy: \t 0.676 \n",
            "\n",
            "Epoch: 10 \n",
            "Train Loss:     \t 0.5954 \tTrain Accuracy:      \t 0.674 \n",
            "Validation Loss:\t 0.594 \tValidation Accuracy: \t 0.6774 \n",
            "\n",
            "Epoch: 11 \n",
            "Train Loss:     \t 0.5943 \tTrain Accuracy:      \t 0.6749 \n",
            "Validation Loss:\t 0.5928 \tValidation Accuracy: \t 0.6787 \n",
            "\n",
            "Epoch: 12 \n",
            "Train Loss:     \t 0.5933 \tTrain Accuracy:      \t 0.6758 \n",
            "Validation Loss:\t 0.5916 \tValidation Accuracy: \t 0.6805 \n",
            "\n",
            "Epoch: 13 \n",
            "Train Loss:     \t 0.5923 \tTrain Accuracy:      \t 0.6767 \n",
            "Validation Loss:\t 0.5903 \tValidation Accuracy: \t 0.6816 \n",
            "\n",
            "Epoch: 14 \n",
            "Train Loss:     \t 0.5913 \tTrain Accuracy:      \t 0.6777 \n",
            "Validation Loss:\t 0.5892 \tValidation Accuracy: \t 0.6826 \n",
            "\n",
            "Epoch: 15 \n",
            "Train Loss:     \t 0.5902 \tTrain Accuracy:      \t 0.6788 \n",
            "Validation Loss:\t 0.5883 \tValidation Accuracy: \t 0.6827 \n",
            "\n",
            "Epoch: 16 \n",
            "Train Loss:     \t 0.5891 \tTrain Accuracy:      \t 0.6799 \n",
            "Validation Loss:\t 0.5874 \tValidation Accuracy: \t 0.6828 \n",
            "\n",
            "Epoch: 17 \n",
            "Train Loss:     \t 0.588 \tTrain Accuracy:      \t 0.6811 \n",
            "Validation Loss:\t 0.5863 \tValidation Accuracy: \t 0.6835 \n",
            "\n",
            "Epoch: 18 \n",
            "Train Loss:     \t 0.5869 \tTrain Accuracy:      \t 0.682 \n",
            "Validation Loss:\t 0.5853 \tValidation Accuracy: \t 0.6843 \n",
            "\n",
            "Epoch: 19 \n",
            "Train Loss:     \t 0.586 \tTrain Accuracy:      \t 0.6828 \n",
            "Validation Loss:\t 0.5844 \tValidation Accuracy: \t 0.6852 \n",
            "\n",
            "Epoch: 20 \n",
            "Train Loss:     \t 0.5852 \tTrain Accuracy:      \t 0.6836 \n",
            "Validation Loss:\t 0.5837 \tValidation Accuracy: \t 0.6854 \n",
            "\n",
            "Epoch: 21 \n",
            "Train Loss:     \t 0.5844 \tTrain Accuracy:      \t 0.6842 \n",
            "Validation Loss:\t 0.5828 \tValidation Accuracy: \t 0.6868 \n",
            "\n",
            "Epoch: 22 \n",
            "Train Loss:     \t 0.5837 \tTrain Accuracy:      \t 0.6848 \n",
            "Validation Loss:\t 0.5818 \tValidation Accuracy: \t 0.6866 \n",
            "\n",
            "Epoch: 23 \n",
            "Train Loss:     \t 0.583 \tTrain Accuracy:      \t 0.6853 \n",
            "Validation Loss:\t 0.581 \tValidation Accuracy: \t 0.6879 \n",
            "\n",
            "Epoch: 24 \n",
            "Train Loss:     \t 0.5823 \tTrain Accuracy:      \t 0.6859 \n",
            "Validation Loss:\t 0.5803 \tValidation Accuracy: \t 0.6885 \n",
            "\n",
            "Epoch: 25 \n",
            "Train Loss:     \t 0.5817 \tTrain Accuracy:      \t 0.6864 \n",
            "Validation Loss:\t 0.5797 \tValidation Accuracy: \t 0.6889 \n",
            "\n",
            "Epoch: 26 \n",
            "Train Loss:     \t 0.5812 \tTrain Accuracy:      \t 0.6868 \n",
            "Validation Loss:\t 0.5792 \tValidation Accuracy: \t 0.6893 \n",
            "\n",
            "Epoch: 27 \n",
            "Train Loss:     \t 0.5807 \tTrain Accuracy:      \t 0.6872 \n",
            "Validation Loss:\t 0.5787 \tValidation Accuracy: \t 0.6892 \n",
            "\n",
            "Epoch: 28 \n",
            "Train Loss:     \t 0.5803 \tTrain Accuracy:      \t 0.6876 \n",
            "Validation Loss:\t 0.5782 \tValidation Accuracy: \t 0.6896 \n",
            "\n",
            "Epoch: 29 \n",
            "Train Loss:     \t 0.5799 \tTrain Accuracy:      \t 0.6879 \n",
            "Validation Loss:\t 0.5778 \tValidation Accuracy: \t 0.6902 \n",
            "\n",
            "Epoch: 30 \n",
            "Train Loss:     \t 0.5796 \tTrain Accuracy:      \t 0.6882 \n",
            "Validation Loss:\t 0.5774 \tValidation Accuracy: \t 0.6906 \n",
            "\n",
            "Epoch: 31 \n",
            "Train Loss:     \t 0.5792 \tTrain Accuracy:      \t 0.6885 \n",
            "Validation Loss:\t 0.577 \tValidation Accuracy: \t 0.691 \n",
            "\n",
            "Epoch: 32 \n",
            "Train Loss:     \t 0.5789 \tTrain Accuracy:      \t 0.6889 \n",
            "Validation Loss:\t 0.5767 \tValidation Accuracy: \t 0.6915 \n",
            "\n",
            "Epoch: 33 \n",
            "Train Loss:     \t 0.5786 \tTrain Accuracy:      \t 0.6892 \n",
            "Validation Loss:\t 0.5764 \tValidation Accuracy: \t 0.6915 \n",
            "\n",
            "Epoch: 34 \n",
            "Train Loss:     \t 0.5783 \tTrain Accuracy:      \t 0.6895 \n",
            "Validation Loss:\t 0.5761 \tValidation Accuracy: \t 0.692 \n",
            "\n",
            "Epoch: 35 \n",
            "Train Loss:     \t 0.578 \tTrain Accuracy:      \t 0.6897 \n",
            "Validation Loss:\t 0.5758 \tValidation Accuracy: \t 0.692 \n",
            "\n",
            "Epoch: 36 \n",
            "Train Loss:     \t 0.5777 \tTrain Accuracy:      \t 0.6899 \n",
            "Validation Loss:\t 0.5755 \tValidation Accuracy: \t 0.692 \n",
            "\n",
            "Epoch: 37 \n",
            "Train Loss:     \t 0.5775 \tTrain Accuracy:      \t 0.6902 \n",
            "Validation Loss:\t 0.5753 \tValidation Accuracy: \t 0.6924 \n",
            "\n",
            "Epoch: 38 \n",
            "Train Loss:     \t 0.5772 \tTrain Accuracy:      \t 0.6905 \n",
            "Validation Loss:\t 0.575 \tValidation Accuracy: \t 0.6928 \n",
            "\n",
            "Epoch: 39 \n",
            "Train Loss:     \t 0.577 \tTrain Accuracy:      \t 0.6906 \n",
            "Validation Loss:\t 0.5748 \tValidation Accuracy: \t 0.6931 \n",
            "\n",
            "Epoch: 40 \n",
            "Train Loss:     \t 0.5767 \tTrain Accuracy:      \t 0.6908 \n",
            "Validation Loss:\t 0.5746 \tValidation Accuracy: \t 0.6931 \n",
            "\n",
            "Epoch: 41 \n",
            "Train Loss:     \t 0.5765 \tTrain Accuracy:      \t 0.691 \n",
            "Validation Loss:\t 0.5743 \tValidation Accuracy: \t 0.6933 \n",
            "\n",
            "Epoch: 42 \n",
            "Train Loss:     \t 0.5763 \tTrain Accuracy:      \t 0.6913 \n",
            "Validation Loss:\t 0.5741 \tValidation Accuracy: \t 0.6935 \n",
            "\n",
            "Epoch: 43 \n",
            "Train Loss:     \t 0.5761 \tTrain Accuracy:      \t 0.6914 \n",
            "Validation Loss:\t 0.5739 \tValidation Accuracy: \t 0.6938 \n",
            "\n",
            "Epoch: 44 \n",
            "Train Loss:     \t 0.5759 \tTrain Accuracy:      \t 0.6915 \n",
            "Validation Loss:\t 0.5737 \tValidation Accuracy: \t 0.694 \n",
            "\n",
            "Epoch: 45 \n",
            "Train Loss:     \t 0.5757 \tTrain Accuracy:      \t 0.6917 \n",
            "Validation Loss:\t 0.5736 \tValidation Accuracy: \t 0.694 \n",
            "\n",
            "Epoch: 46 \n",
            "Train Loss:     \t 0.5755 \tTrain Accuracy:      \t 0.6917 \n",
            "Validation Loss:\t 0.5734 \tValidation Accuracy: \t 0.6939 \n",
            "\n",
            "Epoch: 47 \n",
            "Train Loss:     \t 0.5754 \tTrain Accuracy:      \t 0.6919 \n",
            "Validation Loss:\t 0.5732 \tValidation Accuracy: \t 0.6938 \n",
            "\n",
            "Epoch: 48 \n",
            "Train Loss:     \t 0.5752 \tTrain Accuracy:      \t 0.692 \n",
            "Validation Loss:\t 0.573 \tValidation Accuracy: \t 0.6939 \n",
            "\n",
            "Epoch: 49 \n",
            "Train Loss:     \t 0.575 \tTrain Accuracy:      \t 0.6922 \n",
            "Validation Loss:\t 0.5729 \tValidation Accuracy: \t 0.6942 \n",
            "\n",
            "Epoch: 50 \n",
            "Train Loss:     \t 0.5749 \tTrain Accuracy:      \t 0.6924 \n",
            "Validation Loss:\t 0.5727 \tValidation Accuracy: \t 0.6943 \n",
            "\n",
            "Epoch: 51 \n",
            "Train Loss:     \t 0.5747 \tTrain Accuracy:      \t 0.6925 \n",
            "Validation Loss:\t 0.5725 \tValidation Accuracy: \t 0.695 \n",
            "\n",
            "Epoch: 52 \n",
            "Train Loss:     \t 0.5745 \tTrain Accuracy:      \t 0.6927 \n",
            "Validation Loss:\t 0.5724 \tValidation Accuracy: \t 0.6952 \n",
            "\n",
            "Epoch: 53 \n",
            "Train Loss:     \t 0.5744 \tTrain Accuracy:      \t 0.6928 \n",
            "Validation Loss:\t 0.5722 \tValidation Accuracy: \t 0.6955 \n",
            "\n",
            "Epoch: 54 \n",
            "Train Loss:     \t 0.5742 \tTrain Accuracy:      \t 0.6929 \n",
            "Validation Loss:\t 0.5721 \tValidation Accuracy: \t 0.6959 \n",
            "\n",
            "Epoch: 55 \n",
            "Train Loss:     \t 0.5741 \tTrain Accuracy:      \t 0.693 \n",
            "Validation Loss:\t 0.5719 \tValidation Accuracy: \t 0.6957 \n",
            "\n",
            "Epoch: 56 \n",
            "Train Loss:     \t 0.574 \tTrain Accuracy:      \t 0.6931 \n",
            "Validation Loss:\t 0.5718 \tValidation Accuracy: \t 0.6961 \n",
            "\n",
            "Epoch: 57 \n",
            "Train Loss:     \t 0.5738 \tTrain Accuracy:      \t 0.6932 \n",
            "Validation Loss:\t 0.5717 \tValidation Accuracy: \t 0.6963 \n",
            "\n",
            "Epoch: 58 \n",
            "Train Loss:     \t 0.5737 \tTrain Accuracy:      \t 0.6933 \n",
            "Validation Loss:\t 0.5716 \tValidation Accuracy: \t 0.6965 \n",
            "\n",
            "Epoch: 59 \n",
            "Train Loss:     \t 0.5736 \tTrain Accuracy:      \t 0.6934 \n",
            "Validation Loss:\t 0.5714 \tValidation Accuracy: \t 0.6965 \n",
            "\n",
            "Epoch: 60 \n",
            "Train Loss:     \t 0.5734 \tTrain Accuracy:      \t 0.6935 \n",
            "Validation Loss:\t 0.5713 \tValidation Accuracy: \t 0.6967 \n",
            "\n",
            "Epoch: 61 \n",
            "Train Loss:     \t 0.5733 \tTrain Accuracy:      \t 0.6935 \n",
            "Validation Loss:\t 0.5712 \tValidation Accuracy: \t 0.6965 \n",
            "\n",
            "Epoch: 62 \n",
            "Train Loss:     \t 0.5732 \tTrain Accuracy:      \t 0.6936 \n",
            "Validation Loss:\t 0.5711 \tValidation Accuracy: \t 0.6966 \n",
            "\n",
            "Epoch: 63 \n",
            "Train Loss:     \t 0.5731 \tTrain Accuracy:      \t 0.6937 \n",
            "Validation Loss:\t 0.571 \tValidation Accuracy: \t 0.6967 \n",
            "\n",
            "Epoch: 64 \n",
            "Train Loss:     \t 0.573 \tTrain Accuracy:      \t 0.6939 \n",
            "Validation Loss:\t 0.5709 \tValidation Accuracy: \t 0.6966 \n",
            "\n",
            "Epoch: 65 \n",
            "Train Loss:     \t 0.5729 \tTrain Accuracy:      \t 0.6939 \n",
            "Validation Loss:\t 0.5708 \tValidation Accuracy: \t 0.6967 \n",
            "\n",
            "Epoch: 66 \n",
            "Train Loss:     \t 0.5728 \tTrain Accuracy:      \t 0.6939 \n",
            "Validation Loss:\t 0.5707 \tValidation Accuracy: \t 0.6972 \n",
            "\n",
            "Epoch: 67 \n",
            "Train Loss:     \t 0.5727 \tTrain Accuracy:      \t 0.694 \n",
            "Validation Loss:\t 0.5706 \tValidation Accuracy: \t 0.6973 \n",
            "\n",
            "Epoch: 68 \n",
            "Train Loss:     \t 0.5726 \tTrain Accuracy:      \t 0.6941 \n",
            "Validation Loss:\t 0.5705 \tValidation Accuracy: \t 0.6971 \n",
            "\n",
            "Epoch: 69 \n",
            "Train Loss:     \t 0.5725 \tTrain Accuracy:      \t 0.6943 \n",
            "Validation Loss:\t 0.5704 \tValidation Accuracy: \t 0.6973 \n",
            "\n"
          ],
          "name": "stdout"
        }
      ]
    },
    {
      "cell_type": "markdown",
      "metadata": {
        "id": "CqfrKJhbyrIk"
      },
      "source": [
        "### **Testing** ✅"
      ]
    },
    {
      "cell_type": "code",
      "metadata": {
        "id": "BMWmcJ1rlqz1",
        "colab": {
          "base_uri": "https://localhost:8080/"
        },
        "outputId": "004f00af-1423-464c-b806-93ce1541cc27"
      },
      "source": [
        "glove_testX = glove_testX.to(device)\n",
        "testY = testY.to(device)\n",
        "\n",
        "# Forward pass to get the prediction\n",
        "test_prediction = nn_model.forward(glove_testX.float())\n",
        "test_prediction = torch.squeeze(test_prediction)\n",
        "\n",
        "test_accuracy = calculate_accuracy(test_prediction, testY)\n",
        "print('Model accuracy on test dataset:', round(test_accuracy.item(), 2), \"\\n\")"
      ],
      "execution_count": null,
      "outputs": [
        {
          "output_type": "stream",
          "text": [
            "Model accuracy on test dataset: 0.7 \n",
            "\n"
          ],
          "name": "stdout"
        }
      ]
    },
    {
      "cell_type": "markdown",
      "metadata": {
        "id": "QkKMniQg0nbo"
      },
      "source": [
        "### **Metrics** 📈"
      ]
    },
    {
      "cell_type": "markdown",
      "metadata": {
        "id": "Wo7DnUb80ugW"
      },
      "source": [
        "**Classification Report**"
      ]
    },
    {
      "cell_type": "code",
      "metadata": {
        "id": "fZU81U4rluse",
        "colab": {
          "base_uri": "https://localhost:8080/"
        },
        "outputId": "ab8dc54e-819c-4bd1-c162-64e8e1b1c267"
      },
      "source": [
        "# Get the classification report\n",
        "from sklearn.metrics import classification_report\n",
        "\n",
        "test_prediction = test_prediction.to(device)\n",
        "test_prediction = test_prediction.ge(.5).view(-1).cpu()\n",
        "testY = testY.cpu()\n",
        "\n",
        "print(classification_report(testY, test_prediction))"
      ],
      "execution_count": null,
      "outputs": [
        {
          "output_type": "stream",
          "text": [
            "              precision    recall  f1-score   support\n",
            "\n",
            "         0.0       0.69      0.72      0.70     16264\n",
            "         1.0       0.71      0.67      0.69     16236\n",
            "\n",
            "    accuracy                           0.70     32500\n",
            "   macro avg       0.70      0.70      0.70     32500\n",
            "weighted avg       0.70      0.70      0.70     32500\n",
            "\n"
          ],
          "name": "stdout"
        }
      ]
    },
    {
      "cell_type": "markdown",
      "metadata": {
        "id": "QGnatgn30w6s"
      },
      "source": [
        "**Plots for *Loss* and *Accuracy* per epoch**\n"
      ]
    },
    {
      "cell_type": "code",
      "metadata": {
        "id": "xbGCQTLuln-R",
        "colab": {
          "base_uri": "https://localhost:8080/",
          "height": 420
        },
        "outputId": "5d963972-8352-45b9-ee1d-0f4582270974"
      },
      "source": [
        "plot_loss_accuracy(train_losses, train_accuracies, val_losses, val_accuracies, n_epochs)"
      ],
      "execution_count": null,
      "outputs": [
        {
          "output_type": "display_data",
          "data": {
            "image/png": "[encoded data removed]",
            "text/plain": [
              "<Figure size 1008x432 with 2 Axes>"
            ]
          },
          "metadata": {
            "tags": []
          }
        }
      ]
    },
    {
      "cell_type": "markdown",
      "metadata": {
        "id": "0-uQt3YUFFJb"
      },
      "source": [
        "**ROC curve**"
      ]
    },
    {
      "cell_type": "code",
      "metadata": {
        "colab": {
          "base_uri": "https://localhost:8080/",
          "height": 518
        },
        "id": "khSeeM4BFHna",
        "outputId": "45080e44-56c0-4f79-b00b-e3bbb0a50e68"
      },
      "source": [
        "from sklearn.preprocessing import label_binarize\n",
        "from sklearn.metrics import roc_curve, auc, classification_report\n",
        "\n",
        "# Get predictions of our best model.\n",
        "y_score = nn_model.forward(glove_testX.float())\n",
        "\n",
        "# Convert tensors to numpy arrays after we pass them to cpu.\n",
        "y_score = y_score.cpu().detach().numpy()\n",
        "y = testY.cpu().detach().numpy()\n",
        "\n",
        "# Label binarization and store num of classes.\n",
        "y_test = label_binarize(y, classes=[0, 1])\n",
        "n_classes = y_test.shape[1]\n",
        "\n",
        "# Compute ROC curve and ROC area for each class\n",
        "fpr = dict()\n",
        "tpr = dict()\n",
        "roc_auc = dict()\n",
        "for i in range(n_classes):\n",
        "    fpr[i], tpr[i], _ = roc_curve(y_test[:,i], y_score[:,i])\n",
        "    roc_auc[i] = auc(fpr[i], tpr[i])\n",
        "\n",
        "plt.figure(figsize=(8,8))\n",
        "lw = 2\n",
        "plt.plot(fpr[0], tpr[0], color='darkorange',lw=lw, label='ROC curve (area = %0.2f)' % roc_auc[0])\n",
        "plt.plot([0, 1], [0, 1], color='navy', lw=lw, linestyle='--')\n",
        "plt.xlim([0.0, 1.0])\n",
        "plt.ylim([0.0, 1.05])\n",
        "plt.xlabel('False Positive Rate',fontsize=15)\n",
        "plt.ylabel('True Positive Rate',fontsize=15)\n",
        "plt.title('Receiver Operating Characteristic example', fontsize=15)\n",
        "plt.legend(loc=\"lower right\",fontsize=15)\n",
        "plt.show()"
      ],
      "execution_count": null,
      "outputs": [
        {
          "output_type": "display_data",
          "data": {
            "image/png": "[encoded data removed]",
            "text/plain": [
              "<Figure size 576x576 with 1 Axes>"
            ]
          },
          "metadata": {
            "tags": []
          }
        }
      ]
    },
    {
      "cell_type": "markdown",
      "metadata": {
        "id": "8DC6_7oJ0g9d"
      },
      "source": [
        "**Confusion Matrix**"
      ]
    },
    {
      "cell_type": "code",
      "metadata": {
        "colab": {
          "base_uri": "https://localhost:8080/",
          "height": 453
        },
        "id": "Ur-gVeb90eMj",
        "outputId": "19e3659a-6910-4ddf-8a91-f94737643479"
      },
      "source": [
        "from sklearn.metrics import confusion_matrix\n",
        "import seaborn as sn\n",
        "\n",
        "df_cf_matrix = pd.DataFrame(confusion_matrix(testY,y_score.round()))\n",
        "plt.figure(figsize=(10,7))\n",
        "sn.set(font_scale=1.4)\n",
        "\n",
        "group_labels = ['True Neg','False Pos','False Neg','True Pos']\n",
        "group_counts = ['{0:0.0f}'.format(value) for value in df_cf_matrix.values.flatten()]\n",
        "group_percentages = ['{0:.2%}'.format(value) for value in df_cf_matrix.values.flatten()/np.sum(df_cf_matrix.values.flatten())]\n",
        "\n",
        "box_labels = [f\"{v1}\\n{v2}\\n{v3}\".strip() for v1, v2, v3 in zip(group_labels,group_counts,group_percentages)]\n",
        "box_labels = np.asarray(box_labels).reshape(df_cf_matrix.shape[0],df_cf_matrix.shape[1])\n",
        "\n",
        "sn.heatmap(df_cf_matrix, annot=box_labels, fmt='', cmap='Blues')"
      ],
      "execution_count": null,
      "outputs": [
        {
          "output_type": "execute_result",
          "data": {
            "text/plain": [
              "<matplotlib.axes._subplots.AxesSubplot at 0x7f76ada76710>"
            ]
          },
          "metadata": {
            "tags": []
          },
          "execution_count": 68
        },
        {
          "output_type": "display_data",
          "data": {
            "image/png": "[encoded data removed]",
            "text/plain": [
              "<Figure size 720x504 with 2 Axes>"
            ]
          },
          "metadata": {
            "tags": []
          }
        }
      ]
    },
    {
      "cell_type": "markdown",
      "metadata": {
        "id": "BgfAnHgOyusK"
      },
      "source": [
        "## **Summary** (some numbers) 📊\n",
        "\n",
        "I have built a Feed-Forward Neural Network model which uses the GloVe pre-trained word embeddings for vectorizing the data (i.e., convert the words into numbers). \n",
        "\n",
        "My model got accuracy of ***70%*** and was having the following properties:\n",
        "\n",
        "- Batch-size = $2^{15}$ = 32768\n",
        "- Number of epochs = 70\n",
        "- 3 hidden layers of size 1024, 512, and 256 respectively\n",
        "- ReLU activation function for each layer\n",
        "- Sigmoid function at the output\n",
        "\n",
        "*I use the **early stopping** technique to stop at the epoch 70 because after that the model progresses very slowly and stays at the same accuracy of 70%. I have tried using 500 epochs but the model got again 70% accuracy.*"
      ]
    }
  ]
}