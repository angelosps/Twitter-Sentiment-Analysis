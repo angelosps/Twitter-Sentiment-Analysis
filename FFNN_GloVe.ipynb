{
  "nbformat": 4,
  "nbformat_minor": 0,
  "metadata": {
    "colab": {
      "provenance": [],
      "toc_visible": true
    },
    "kernelspec": {
      "name": "python3",
      "display_name": "Python 3"
    },
    "language_info": {
      "name": "python"
    },
    "accelerator": "GPU"
  },
  "cells": [
    {
      "cell_type": "markdown",
      "metadata": {
        "id": "BTDgGR0hPP-q"
      },
      "source": [
        "# **Twitter Sentiment Classifier** 👍👎\n",
        "*using* **Feed-Forward Neural Networks** *and the* **GloVe** model."
      ]
    },
    {
      "cell_type": "markdown",
      "metadata": {
        "id": "geTb4429PZmr"
      },
      "source": [
        "Let's import some essential libraries."
      ]
    },
    {
      "cell_type": "code",
      "metadata": {
        "colab": {
          "base_uri": "https://localhost:8080/"
        },
        "id": "4t95k1wjPW_C",
        "outputId": "daa4cc66-52f4-4e13-c2cd-02f9e13ced36"
      },
      "source": [
        "import numpy as np\n",
        "import matplotlib.pyplot as plt\n",
        "import pandas as pd\n",
        "import nltk\n",
        "import torch\n",
        "import torch.nn as nn\n",
        "import torch.optim as optim\n",
        "from nltk.corpus import stopwords\n",
        "import string\n",
        "import re\n",
        "from textblob import TextBlob\n",
        "\n",
        "nltk.download('wordnet')\n",
        "nltk.download('stopwords')\n",
        "nltk.download('punkt')"
      ],
      "execution_count": null,
      "outputs": [
        {
          "output_type": "stream",
          "name": "stdout",
          "text": [
            "[nltk_data] Downloading package wordnet to /root/nltk_data...\n",
            "[nltk_data]   Unzipping corpora/wordnet.zip.\n",
            "[nltk_data] Downloading package stopwords to /root/nltk_data...\n",
            "[nltk_data]   Unzipping corpora/stopwords.zip.\n",
            "[nltk_data] Downloading package punkt to /root/nltk_data...\n",
            "[nltk_data]   Unzipping tokenizers/punkt.zip.\n"
          ]
        },
        {
          "output_type": "execute_result",
          "data": {
            "text/plain": [
              "True"
            ]
          },
          "metadata": {},
          "execution_count": 1
        }
      ]
    },
    {
      "cell_type": "markdown",
      "metadata": {
        "id": "WjFeHbkkPerT"
      },
      "source": [
        "## **Load the dataset** 🗂\n",
        "\n",
        "We have to mount (connect) Google Drive where I keep the dataset.\n",
        "\n",
        "Then, we can import the data in csv format using the pandas `read_csv` method.  \n",
        "I load 0.65M out of ~1M data from the SentimentTweets.csv dataset because more data lead to memory crashes on google colab."
      ]
    },
    {
      "cell_type": "code",
      "metadata": {
        "colab": {
          "base_uri": "https://localhost:8080/",
          "height": 221
        },
        "id": "mJH3A2sIPhos",
        "outputId": "ad16fe48-f297-42b8-f307-cd1172268282"
      },
      "source": [
        "from google.colab import drive\n",
        "drive.mount('/content/drive')\n",
        "DATA_PATH = '/content/drive/My Drive/SentimentTweets.csv'\n",
        "data_csv = pd.read_csv(DATA_PATH, nrows=650000)\n",
        "data_csv = data_csv.dropna()\n",
        "data_csv.head()"
      ],
      "execution_count": null,
      "outputs": [
        {
          "output_type": "stream",
          "name": "stdout",
          "text": [
            "Mounted at /content/drive\n"
          ]
        },
        {
          "output_type": "execute_result",
          "data": {
            "text/html": [
              "<div>\n",
              "<style scoped>\n",
              "    .dataframe tbody tr th:only-of-type {\n",
              "        vertical-align: middle;\n",
              "    }\n",
              "\n",
              "    .dataframe tbody tr th {\n",
              "        vertical-align: top;\n",
              "    }\n",
              "\n",
              "    .dataframe thead th {\n",
              "        text-align: right;\n",
              "    }\n",
              "</style>\n",
              "<table border=\"1\" class=\"dataframe\">\n",
              "  <thead>\n",
              "    <tr style=\"text-align: right;\">\n",
              "      <th></th>\n",
              "      <th>Unnamed: 0</th>\n",
              "      <th>target</th>\n",
              "      <th>id</th>\n",
              "      <th>date</th>\n",
              "      <th>flag</th>\n",
              "      <th>user</th>\n",
              "      <th>text</th>\n",
              "    </tr>\n",
              "  </thead>\n",
              "  <tbody>\n",
              "    <tr>\n",
              "      <th>0</th>\n",
              "      <td>680949</td>\n",
              "      <td>0</td>\n",
              "      <td>2249621587</td>\n",
              "      <td>Fri Jun 19 22:41:08 PDT 2009</td>\n",
              "      <td>NO_QUERY</td>\n",
              "      <td>sukumarpant</td>\n",
              "      <td>#brokenpromises...</td>\n",
              "    </tr>\n",
              "    <tr>\n",
              "      <th>1</th>\n",
              "      <td>406741</td>\n",
              "      <td>0</td>\n",
              "      <td>2059003515</td>\n",
              "      <td>Sat Jun 06 16:03:21 PDT 2009</td>\n",
              "      <td>NO_QUERY</td>\n",
              "      <td>MTMSparrow</td>\n",
              "      <td>David Carradine  so sad. Thai's law not sure i...</td>\n",
              "    </tr>\n",
              "    <tr>\n",
              "      <th>2</th>\n",
              "      <td>1337108</td>\n",
              "      <td>4</td>\n",
              "      <td>2017466467</td>\n",
              "      <td>Wed Jun 03 08:26:14 PDT 2009</td>\n",
              "      <td>NO_QUERY</td>\n",
              "      <td>itsmemcee</td>\n",
              "      <td>A @ 415 B @ 425. Tell your bro i say congrats!</td>\n",
              "    </tr>\n",
              "    <tr>\n",
              "      <th>3</th>\n",
              "      <td>1560887</td>\n",
              "      <td>4</td>\n",
              "      <td>2186457254</td>\n",
              "      <td>Mon Jun 15 18:52:04 PDT 2009</td>\n",
              "      <td>NO_QUERY</td>\n",
              "      <td>jdfreivald</td>\n",
              "      <td>@littlefluffycat  Indeed.</td>\n",
              "    </tr>\n",
              "    <tr>\n",
              "      <th>4</th>\n",
              "      <td>1466295</td>\n",
              "      <td>4</td>\n",
              "      <td>2064458395</td>\n",
              "      <td>Sun Jun 07 06:19:20 PDT 2009</td>\n",
              "      <td>NO_QUERY</td>\n",
              "      <td>CrazyHan</td>\n",
              "      <td>Completed Race 4 Life in 58mins with girlies f...</td>\n",
              "    </tr>\n",
              "  </tbody>\n",
              "</table>\n",
              "</div>"
            ],
            "text/plain": [
              "   Unnamed: 0  ...                                               text\n",
              "0      680949  ...                                #brokenpromises... \n",
              "1      406741  ...  David Carradine  so sad. Thai's law not sure i...\n",
              "2     1337108  ...    A @ 415 B @ 425. Tell your bro i say congrats! \n",
              "3     1560887  ...                          @littlefluffycat  Indeed.\n",
              "4     1466295  ...  Completed Race 4 Life in 58mins with girlies f...\n",
              "\n",
              "[5 rows x 7 columns]"
            ]
          },
          "metadata": {},
          "execution_count": 2
        }
      ]
    },
    {
      "cell_type": "markdown",
      "metadata": {
        "id": "y3bLDFg0PmzO"
      },
      "source": [
        "## **Data pre-processing** 💽"
      ]
    },
    {
      "cell_type": "markdown",
      "metadata": {
        "id": "FNDXUTXMPund"
      },
      "source": [
        "Converting the csv file data into Pandas DataFrame data structure."
      ]
    },
    {
      "cell_type": "code",
      "metadata": {
        "colab": {
          "base_uri": "https://localhost:8080/",
          "height": 359
        },
        "id": "soaxOQp2Pwvw",
        "outputId": "d6f13508-da97-4d72-be8e-30bf1c37c60b"
      },
      "source": [
        "# Convert the data (from csv type) into dataframe data structure\n",
        "df = pd.DataFrame(data=data_csv) \n",
        "df.head(10)"
      ],
      "execution_count": null,
      "outputs": [
        {
          "output_type": "execute_result",
          "data": {
            "text/html": [
              "<div>\n",
              "<style scoped>\n",
              "    .dataframe tbody tr th:only-of-type {\n",
              "        vertical-align: middle;\n",
              "    }\n",
              "\n",
              "    .dataframe tbody tr th {\n",
              "        vertical-align: top;\n",
              "    }\n",
              "\n",
              "    .dataframe thead th {\n",
              "        text-align: right;\n",
              "    }\n",
              "</style>\n",
              "<table border=\"1\" class=\"dataframe\">\n",
              "  <thead>\n",
              "    <tr style=\"text-align: right;\">\n",
              "      <th></th>\n",
              "      <th>Unnamed: 0</th>\n",
              "      <th>target</th>\n",
              "      <th>id</th>\n",
              "      <th>date</th>\n",
              "      <th>flag</th>\n",
              "      <th>user</th>\n",
              "      <th>text</th>\n",
              "    </tr>\n",
              "  </thead>\n",
              "  <tbody>\n",
              "    <tr>\n",
              "      <th>0</th>\n",
              "      <td>680949</td>\n",
              "      <td>0</td>\n",
              "      <td>2249621587</td>\n",
              "      <td>Fri Jun 19 22:41:08 PDT 2009</td>\n",
              "      <td>NO_QUERY</td>\n",
              "      <td>sukumarpant</td>\n",
              "      <td>#brokenpromises...</td>\n",
              "    </tr>\n",
              "    <tr>\n",
              "      <th>1</th>\n",
              "      <td>406741</td>\n",
              "      <td>0</td>\n",
              "      <td>2059003515</td>\n",
              "      <td>Sat Jun 06 16:03:21 PDT 2009</td>\n",
              "      <td>NO_QUERY</td>\n",
              "      <td>MTMSparrow</td>\n",
              "      <td>David Carradine  so sad. Thai's law not sure i...</td>\n",
              "    </tr>\n",
              "    <tr>\n",
              "      <th>2</th>\n",
              "      <td>1337108</td>\n",
              "      <td>4</td>\n",
              "      <td>2017466467</td>\n",
              "      <td>Wed Jun 03 08:26:14 PDT 2009</td>\n",
              "      <td>NO_QUERY</td>\n",
              "      <td>itsmemcee</td>\n",
              "      <td>A @ 415 B @ 425. Tell your bro i say congrats!</td>\n",
              "    </tr>\n",
              "    <tr>\n",
              "      <th>3</th>\n",
              "      <td>1560887</td>\n",
              "      <td>4</td>\n",
              "      <td>2186457254</td>\n",
              "      <td>Mon Jun 15 18:52:04 PDT 2009</td>\n",
              "      <td>NO_QUERY</td>\n",
              "      <td>jdfreivald</td>\n",
              "      <td>@littlefluffycat  Indeed.</td>\n",
              "    </tr>\n",
              "    <tr>\n",
              "      <th>4</th>\n",
              "      <td>1466295</td>\n",
              "      <td>4</td>\n",
              "      <td>2064458395</td>\n",
              "      <td>Sun Jun 07 06:19:20 PDT 2009</td>\n",
              "      <td>NO_QUERY</td>\n",
              "      <td>CrazyHan</td>\n",
              "      <td>Completed Race 4 Life in 58mins with girlies f...</td>\n",
              "    </tr>\n",
              "    <tr>\n",
              "      <th>5</th>\n",
              "      <td>725609</td>\n",
              "      <td>0</td>\n",
              "      <td>2262367427</td>\n",
              "      <td>Sat Jun 20 22:22:34 PDT 2009</td>\n",
              "      <td>NO_QUERY</td>\n",
              "      <td>farmtrain</td>\n",
              "      <td>Woot truck fixed!!! Now workin  http://myloc.m...</td>\n",
              "    </tr>\n",
              "    <tr>\n",
              "      <th>6</th>\n",
              "      <td>1361765</td>\n",
              "      <td>4</td>\n",
              "      <td>2049183514</td>\n",
              "      <td>Fri Jun 05 16:26:26 PDT 2009</td>\n",
              "      <td>NO_QUERY</td>\n",
              "      <td>tinadallasfla</td>\n",
              "      <td>@BLAQSHEEPCEO   yea I melt at that lol</td>\n",
              "    </tr>\n",
              "    <tr>\n",
              "      <th>7</th>\n",
              "      <td>114606</td>\n",
              "      <td>0</td>\n",
              "      <td>1826379900</td>\n",
              "      <td>Sun May 17 08:22:16 PDT 2009</td>\n",
              "      <td>NO_QUERY</td>\n",
              "      <td>Isoebelle</td>\n",
              "      <td>wants to do something radical...but not sure w...</td>\n",
              "    </tr>\n",
              "    <tr>\n",
              "      <th>8</th>\n",
              "      <td>620064</td>\n",
              "      <td>0</td>\n",
              "      <td>2228196366</td>\n",
              "      <td>Thu Jun 18 14:08:18 PDT 2009</td>\n",
              "      <td>NO_QUERY</td>\n",
              "      <td>alox</td>\n",
              "      <td>@brlamb scratch that, @bgilgoff tweeted it. Ch...</td>\n",
              "    </tr>\n",
              "    <tr>\n",
              "      <th>9</th>\n",
              "      <td>564150</td>\n",
              "      <td>0</td>\n",
              "      <td>2206118765</td>\n",
              "      <td>Wed Jun 17 06:02:05 PDT 2009</td>\n",
              "      <td>NO_QUERY</td>\n",
              "      <td>asimpleparadox</td>\n",
              "      <td>I am sore everywhere. Also found out an assess...</td>\n",
              "    </tr>\n",
              "  </tbody>\n",
              "</table>\n",
              "</div>"
            ],
            "text/plain": [
              "   Unnamed: 0  ...                                               text\n",
              "0      680949  ...                                #brokenpromises... \n",
              "1      406741  ...  David Carradine  so sad. Thai's law not sure i...\n",
              "2     1337108  ...    A @ 415 B @ 425. Tell your bro i say congrats! \n",
              "3     1560887  ...                          @littlefluffycat  Indeed.\n",
              "4     1466295  ...  Completed Race 4 Life in 58mins with girlies f...\n",
              "5      725609  ...  Woot truck fixed!!! Now workin  http://myloc.m...\n",
              "6     1361765  ...            @BLAQSHEEPCEO   yea I melt at that lol \n",
              "7      114606  ...  wants to do something radical...but not sure w...\n",
              "8      620064  ...  @brlamb scratch that, @bgilgoff tweeted it. Ch...\n",
              "9      564150  ...  I am sore everywhere. Also found out an assess...\n",
              "\n",
              "[10 rows x 7 columns]"
            ]
          },
          "metadata": {},
          "execution_count": 3
        }
      ]
    },
    {
      "cell_type": "markdown",
      "metadata": {
        "id": "BloafDAFPzqj"
      },
      "source": [
        "As we can see from above, the target column has 0s and 4s denoting the negative and the positive class respectively. We are going to change the *4s into 1s* using the `replace` method and hence we have:\n",
        "\n",
        "0 $\\rightarrow$ negative tweet 👎\n",
        "\n",
        "1 $\\rightarrow$ positive tweet 👍"
      ]
    },
    {
      "cell_type": "code",
      "metadata": {
        "colab": {
          "base_uri": "https://localhost:8080/",
          "height": 359
        },
        "id": "Jt6-Zle_P1pZ",
        "outputId": "d32ca541-24c6-48ac-aa1b-992ca5c7c7e0"
      },
      "source": [
        "df['target'] = df['target'].replace(4,1)\n",
        "df.head(10)"
      ],
      "execution_count": null,
      "outputs": [
        {
          "output_type": "execute_result",
          "data": {
            "text/html": [
              "<div>\n",
              "<style scoped>\n",
              "    .dataframe tbody tr th:only-of-type {\n",
              "        vertical-align: middle;\n",
              "    }\n",
              "\n",
              "    .dataframe tbody tr th {\n",
              "        vertical-align: top;\n",
              "    }\n",
              "\n",
              "    .dataframe thead th {\n",
              "        text-align: right;\n",
              "    }\n",
              "</style>\n",
              "<table border=\"1\" class=\"dataframe\">\n",
              "  <thead>\n",
              "    <tr style=\"text-align: right;\">\n",
              "      <th></th>\n",
              "      <th>Unnamed: 0</th>\n",
              "      <th>target</th>\n",
              "      <th>id</th>\n",
              "      <th>date</th>\n",
              "      <th>flag</th>\n",
              "      <th>user</th>\n",
              "      <th>text</th>\n",
              "    </tr>\n",
              "  </thead>\n",
              "  <tbody>\n",
              "    <tr>\n",
              "      <th>0</th>\n",
              "      <td>680949</td>\n",
              "      <td>0</td>\n",
              "      <td>2249621587</td>\n",
              "      <td>Fri Jun 19 22:41:08 PDT 2009</td>\n",
              "      <td>NO_QUERY</td>\n",
              "      <td>sukumarpant</td>\n",
              "      <td>#brokenpromises...</td>\n",
              "    </tr>\n",
              "    <tr>\n",
              "      <th>1</th>\n",
              "      <td>406741</td>\n",
              "      <td>0</td>\n",
              "      <td>2059003515</td>\n",
              "      <td>Sat Jun 06 16:03:21 PDT 2009</td>\n",
              "      <td>NO_QUERY</td>\n",
              "      <td>MTMSparrow</td>\n",
              "      <td>David Carradine  so sad. Thai's law not sure i...</td>\n",
              "    </tr>\n",
              "    <tr>\n",
              "      <th>2</th>\n",
              "      <td>1337108</td>\n",
              "      <td>1</td>\n",
              "      <td>2017466467</td>\n",
              "      <td>Wed Jun 03 08:26:14 PDT 2009</td>\n",
              "      <td>NO_QUERY</td>\n",
              "      <td>itsmemcee</td>\n",
              "      <td>A @ 415 B @ 425. Tell your bro i say congrats!</td>\n",
              "    </tr>\n",
              "    <tr>\n",
              "      <th>3</th>\n",
              "      <td>1560887</td>\n",
              "      <td>1</td>\n",
              "      <td>2186457254</td>\n",
              "      <td>Mon Jun 15 18:52:04 PDT 2009</td>\n",
              "      <td>NO_QUERY</td>\n",
              "      <td>jdfreivald</td>\n",
              "      <td>@littlefluffycat  Indeed.</td>\n",
              "    </tr>\n",
              "    <tr>\n",
              "      <th>4</th>\n",
              "      <td>1466295</td>\n",
              "      <td>1</td>\n",
              "      <td>2064458395</td>\n",
              "      <td>Sun Jun 07 06:19:20 PDT 2009</td>\n",
              "      <td>NO_QUERY</td>\n",
              "      <td>CrazyHan</td>\n",
              "      <td>Completed Race 4 Life in 58mins with girlies f...</td>\n",
              "    </tr>\n",
              "    <tr>\n",
              "      <th>5</th>\n",
              "      <td>725609</td>\n",
              "      <td>0</td>\n",
              "      <td>2262367427</td>\n",
              "      <td>Sat Jun 20 22:22:34 PDT 2009</td>\n",
              "      <td>NO_QUERY</td>\n",
              "      <td>farmtrain</td>\n",
              "      <td>Woot truck fixed!!! Now workin  http://myloc.m...</td>\n",
              "    </tr>\n",
              "    <tr>\n",
              "      <th>6</th>\n",
              "      <td>1361765</td>\n",
              "      <td>1</td>\n",
              "      <td>2049183514</td>\n",
              "      <td>Fri Jun 05 16:26:26 PDT 2009</td>\n",
              "      <td>NO_QUERY</td>\n",
              "      <td>tinadallasfla</td>\n",
              "      <td>@BLAQSHEEPCEO   yea I melt at that lol</td>\n",
              "    </tr>\n",
              "    <tr>\n",
              "      <th>7</th>\n",
              "      <td>114606</td>\n",
              "      <td>0</td>\n",
              "      <td>1826379900</td>\n",
              "      <td>Sun May 17 08:22:16 PDT 2009</td>\n",
              "      <td>NO_QUERY</td>\n",
              "      <td>Isoebelle</td>\n",
              "      <td>wants to do something radical...but not sure w...</td>\n",
              "    </tr>\n",
              "    <tr>\n",
              "      <th>8</th>\n",
              "      <td>620064</td>\n",
              "      <td>0</td>\n",
              "      <td>2228196366</td>\n",
              "      <td>Thu Jun 18 14:08:18 PDT 2009</td>\n",
              "      <td>NO_QUERY</td>\n",
              "      <td>alox</td>\n",
              "      <td>@brlamb scratch that, @bgilgoff tweeted it. Ch...</td>\n",
              "    </tr>\n",
              "    <tr>\n",
              "      <th>9</th>\n",
              "      <td>564150</td>\n",
              "      <td>0</td>\n",
              "      <td>2206118765</td>\n",
              "      <td>Wed Jun 17 06:02:05 PDT 2009</td>\n",
              "      <td>NO_QUERY</td>\n",
              "      <td>asimpleparadox</td>\n",
              "      <td>I am sore everywhere. Also found out an assess...</td>\n",
              "    </tr>\n",
              "  </tbody>\n",
              "</table>\n",
              "</div>"
            ],
            "text/plain": [
              "   Unnamed: 0  ...                                               text\n",
              "0      680949  ...                                #brokenpromises... \n",
              "1      406741  ...  David Carradine  so sad. Thai's law not sure i...\n",
              "2     1337108  ...    A @ 415 B @ 425. Tell your bro i say congrats! \n",
              "3     1560887  ...                          @littlefluffycat  Indeed.\n",
              "4     1466295  ...  Completed Race 4 Life in 58mins with girlies f...\n",
              "5      725609  ...  Woot truck fixed!!! Now workin  http://myloc.m...\n",
              "6     1361765  ...            @BLAQSHEEPCEO   yea I melt at that lol \n",
              "7      114606  ...  wants to do something radical...but not sure w...\n",
              "8      620064  ...  @brlamb scratch that, @bgilgoff tweeted it. Ch...\n",
              "9      564150  ...  I am sore everywhere. Also found out an assess...\n",
              "\n",
              "[10 rows x 7 columns]"
            ]
          },
          "metadata": {},
          "execution_count": 4
        }
      ]
    },
    {
      "cell_type": "markdown",
      "metadata": {
        "id": "cKZLPzxjP4UL"
      },
      "source": [
        "### **Data cleaning** 🧹\n",
        "\n",
        "In the following code snippet we \"clean\" the data by doing the following:\n",
        "\n",
        "We are going to classify tweets. As we all know, twitter users use the symbols # and @ a lot. This may cause problem to the classifier, thus we are going to remove them, using TextBlob. We are also going to lemmatize the data in order to avoid multiple representations of the same word\n",
        "* **Drop the uneseccary columns** such as \"Unnamed: 0\", \"id\", etc\n",
        "* **Lower** the characers using the string method `lower` \n",
        "* **Remove special characters** such as punctuation points, links, weird characters, etc."
      ]
    },
    {
      "cell_type": "code",
      "metadata": {
        "colab": {
          "base_uri": "https://localhost:8080/",
          "height": 204
        },
        "id": "2ew-dPWGP6Tt",
        "outputId": "c24ede8f-c556-4324-9357-64e924815033"
      },
      "source": [
        "# Drop the unescessary columns\n",
        "df.drop(columns = ['Unnamed: 0', 'id', 'date', 'flag', 'user'], inplace = True)\n",
        "df.head()"
      ],
      "execution_count": null,
      "outputs": [
        {
          "output_type": "execute_result",
          "data": {
            "text/html": [
              "<div>\n",
              "<style scoped>\n",
              "    .dataframe tbody tr th:only-of-type {\n",
              "        vertical-align: middle;\n",
              "    }\n",
              "\n",
              "    .dataframe tbody tr th {\n",
              "        vertical-align: top;\n",
              "    }\n",
              "\n",
              "    .dataframe thead th {\n",
              "        text-align: right;\n",
              "    }\n",
              "</style>\n",
              "<table border=\"1\" class=\"dataframe\">\n",
              "  <thead>\n",
              "    <tr style=\"text-align: right;\">\n",
              "      <th></th>\n",
              "      <th>target</th>\n",
              "      <th>text</th>\n",
              "    </tr>\n",
              "  </thead>\n",
              "  <tbody>\n",
              "    <tr>\n",
              "      <th>0</th>\n",
              "      <td>0</td>\n",
              "      <td>#brokenpromises...</td>\n",
              "    </tr>\n",
              "    <tr>\n",
              "      <th>1</th>\n",
              "      <td>0</td>\n",
              "      <td>David Carradine  so sad. Thai's law not sure i...</td>\n",
              "    </tr>\n",
              "    <tr>\n",
              "      <th>2</th>\n",
              "      <td>1</td>\n",
              "      <td>A @ 415 B @ 425. Tell your bro i say congrats!</td>\n",
              "    </tr>\n",
              "    <tr>\n",
              "      <th>3</th>\n",
              "      <td>1</td>\n",
              "      <td>@littlefluffycat  Indeed.</td>\n",
              "    </tr>\n",
              "    <tr>\n",
              "      <th>4</th>\n",
              "      <td>1</td>\n",
              "      <td>Completed Race 4 Life in 58mins with girlies f...</td>\n",
              "    </tr>\n",
              "  </tbody>\n",
              "</table>\n",
              "</div>"
            ],
            "text/plain": [
              "   target                                               text\n",
              "0       0                                #brokenpromises... \n",
              "1       0  David Carradine  so sad. Thai's law not sure i...\n",
              "2       1    A @ 415 B @ 425. Tell your bro i say congrats! \n",
              "3       1                          @littlefluffycat  Indeed.\n",
              "4       1  Completed Race 4 Life in 58mins with girlies f..."
            ]
          },
          "metadata": {},
          "execution_count": 5
        }
      ]
    },
    {
      "cell_type": "code",
      "metadata": {
        "colab": {
          "base_uri": "https://localhost:8080/",
          "height": 359
        },
        "id": "zge4KxukP8TF",
        "outputId": "cd90f703-325e-4178-9aad-7f4e51925edd"
      },
      "source": [
        "# Define the function for text cleaning\n",
        "def text_cleaning(text):\n",
        "  # Lower characters\n",
        "  text = text.lower()\n",
        "  # Remove links\n",
        "  text = re.sub('http://\\S+|https://\\S+', '', text)\n",
        "  # Remove non alphanumeric characters\n",
        "  text = re.sub(r'[^A-Za-z0-9]+', ' ', text)\n",
        "  # Remove punctuation\n",
        "  text = text.translate(str.maketrans('', '', string.punctuation))\n",
        "  # Remove stopwords\n",
        "  #StopWords = stopwords.words(\"english\")\n",
        "  #text = ' '.join([word for word in text.split() if word not in StopWords])\n",
        "  return text\n",
        "\n",
        "df['text']=df['text'].apply(text_cleaning)\n",
        "df.head(10)"
      ],
      "execution_count": null,
      "outputs": [
        {
          "output_type": "execute_result",
          "data": {
            "text/html": [
              "<div>\n",
              "<style scoped>\n",
              "    .dataframe tbody tr th:only-of-type {\n",
              "        vertical-align: middle;\n",
              "    }\n",
              "\n",
              "    .dataframe tbody tr th {\n",
              "        vertical-align: top;\n",
              "    }\n",
              "\n",
              "    .dataframe thead th {\n",
              "        text-align: right;\n",
              "    }\n",
              "</style>\n",
              "<table border=\"1\" class=\"dataframe\">\n",
              "  <thead>\n",
              "    <tr style=\"text-align: right;\">\n",
              "      <th></th>\n",
              "      <th>target</th>\n",
              "      <th>text</th>\n",
              "    </tr>\n",
              "  </thead>\n",
              "  <tbody>\n",
              "    <tr>\n",
              "      <th>0</th>\n",
              "      <td>0</td>\n",
              "      <td>brokenpromises</td>\n",
              "    </tr>\n",
              "    <tr>\n",
              "      <th>1</th>\n",
              "      <td>0</td>\n",
              "      <td>david carradine so sad thai s law not sure if ...</td>\n",
              "    </tr>\n",
              "    <tr>\n",
              "      <th>2</th>\n",
              "      <td>1</td>\n",
              "      <td>a 415 b 425 tell your bro i say congrats</td>\n",
              "    </tr>\n",
              "    <tr>\n",
              "      <th>3</th>\n",
              "      <td>1</td>\n",
              "      <td>littlefluffycat indeed</td>\n",
              "    </tr>\n",
              "    <tr>\n",
              "      <th>4</th>\n",
              "      <td>1</td>\n",
              "      <td>completed race 4 life in 58mins with girlies f...</td>\n",
              "    </tr>\n",
              "    <tr>\n",
              "      <th>5</th>\n",
              "      <td>0</td>\n",
              "      <td>woot truck fixed now workin http myloc me 4nif</td>\n",
              "    </tr>\n",
              "    <tr>\n",
              "      <th>6</th>\n",
              "      <td>1</td>\n",
              "      <td>blaqsheepceo yea i melt at that lol</td>\n",
              "    </tr>\n",
              "    <tr>\n",
              "      <th>7</th>\n",
              "      <td>0</td>\n",
              "      <td>wants to do something radical but not sure wha...</td>\n",
              "    </tr>\n",
              "    <tr>\n",
              "      <th>8</th>\n",
              "      <td>0</td>\n",
              "      <td>brlamb scratch that bgilgoff tweeted it chann...</td>\n",
              "    </tr>\n",
              "    <tr>\n",
              "      <th>9</th>\n",
              "      <td>0</td>\n",
              "      <td>i am sore everywhere also found out an assessm...</td>\n",
              "    </tr>\n",
              "  </tbody>\n",
              "</table>\n",
              "</div>"
            ],
            "text/plain": [
              "   target                                               text\n",
              "0       0                                    brokenpromises \n",
              "1       0  david carradine so sad thai s law not sure if ...\n",
              "2       1          a 415 b 425 tell your bro i say congrats \n",
              "3       1                            littlefluffycat indeed \n",
              "4       1  completed race 4 life in 58mins with girlies f...\n",
              "5       0     woot truck fixed now workin http myloc me 4nif\n",
              "6       1               blaqsheepceo yea i melt at that lol \n",
              "7       0  wants to do something radical but not sure wha...\n",
              "8       0   brlamb scratch that bgilgoff tweeted it chann...\n",
              "9       0  i am sore everywhere also found out an assessm..."
            ]
          },
          "metadata": {},
          "execution_count": 6
        }
      ]
    },
    {
      "cell_type": "markdown",
      "metadata": {
        "id": "MjQ8rTbZQAJr"
      },
      "source": [
        "### **Tokenization and Lemmatization** 🔑\n",
        "\n",
        "**Tokenization** is necessary to prepare the data in order to vectorize them using the GloVe pre-trained word embeddings.  \n",
        "The goal of **Lemmatization** (or Stemming) is to reduce inflectional forms and sometimes derivationally related forms of a word to a common base form.  \n",
        "For instance, Lemmatization (or Stemming) will do the following:   \n",
        "am, are, is $\\Rightarrow$ be  \n",
        "car, cars, car's, cars' $\\Rightarrow$ car"
      ]
    },
    {
      "cell_type": "code",
      "metadata": {
        "colab": {
          "base_uri": "https://localhost:8080/",
          "height": 359
        },
        "id": "Znf7v8FDQCtu",
        "outputId": "d0bc3ab1-4503-4d58-c38b-c0282b77aee6"
      },
      "source": [
        "w_tokenizer = nltk.tokenize.WhitespaceTokenizer()\n",
        "lemmatizer = nltk.stem.WordNetLemmatizer()\n",
        "\n",
        "# Function that lemmatizes the tokenized text\n",
        "# text is being tokenized and passed immidiately into the lemmatizer \n",
        "def lemmatize_text(text):\n",
        "    return \" \".join([lemmatizer.lemmatize(w, pos=\"v\") for w in w_tokenizer.tokenize(text)])\n",
        "\n",
        "df['text'] = df.text.apply(lemmatize_text).copy()\n",
        "\n",
        "df.head(10)"
      ],
      "execution_count": null,
      "outputs": [
        {
          "output_type": "execute_result",
          "data": {
            "text/html": [
              "<div>\n",
              "<style scoped>\n",
              "    .dataframe tbody tr th:only-of-type {\n",
              "        vertical-align: middle;\n",
              "    }\n",
              "\n",
              "    .dataframe tbody tr th {\n",
              "        vertical-align: top;\n",
              "    }\n",
              "\n",
              "    .dataframe thead th {\n",
              "        text-align: right;\n",
              "    }\n",
              "</style>\n",
              "<table border=\"1\" class=\"dataframe\">\n",
              "  <thead>\n",
              "    <tr style=\"text-align: right;\">\n",
              "      <th></th>\n",
              "      <th>target</th>\n",
              "      <th>text</th>\n",
              "    </tr>\n",
              "  </thead>\n",
              "  <tbody>\n",
              "    <tr>\n",
              "      <th>0</th>\n",
              "      <td>0</td>\n",
              "      <td>brokenpromises</td>\n",
              "    </tr>\n",
              "    <tr>\n",
              "      <th>1</th>\n",
              "      <td>0</td>\n",
              "      <td>david carradine so sad thai s law not sure if ...</td>\n",
              "    </tr>\n",
              "    <tr>\n",
              "      <th>2</th>\n",
              "      <td>1</td>\n",
              "      <td>a 415 b 425 tell your bro i say congrats</td>\n",
              "    </tr>\n",
              "    <tr>\n",
              "      <th>3</th>\n",
              "      <td>1</td>\n",
              "      <td>littlefluffycat indeed</td>\n",
              "    </tr>\n",
              "    <tr>\n",
              "      <th>4</th>\n",
              "      <td>1</td>\n",
              "      <td>complete race 4 life in 58mins with girlies fr...</td>\n",
              "    </tr>\n",
              "    <tr>\n",
              "      <th>5</th>\n",
              "      <td>0</td>\n",
              "      <td>woot truck fix now workin http myloc me 4nif</td>\n",
              "    </tr>\n",
              "    <tr>\n",
              "      <th>6</th>\n",
              "      <td>1</td>\n",
              "      <td>blaqsheepceo yea i melt at that lol</td>\n",
              "    </tr>\n",
              "    <tr>\n",
              "      <th>7</th>\n",
              "      <td>0</td>\n",
              "      <td>want to do something radical but not sure what...</td>\n",
              "    </tr>\n",
              "    <tr>\n",
              "      <th>8</th>\n",
              "      <td>0</td>\n",
              "      <td>brlamb scratch that bgilgoff tweet it channel ...</td>\n",
              "    </tr>\n",
              "    <tr>\n",
              "      <th>9</th>\n",
              "      <td>0</td>\n",
              "      <td>i be sore everywhere also find out an assessme...</td>\n",
              "    </tr>\n",
              "  </tbody>\n",
              "</table>\n",
              "</div>"
            ],
            "text/plain": [
              "   target                                               text\n",
              "0       0                                     brokenpromises\n",
              "1       0  david carradine so sad thai s law not sure if ...\n",
              "2       1           a 415 b 425 tell your bro i say congrats\n",
              "3       1                             littlefluffycat indeed\n",
              "4       1  complete race 4 life in 58mins with girlies fr...\n",
              "5       0       woot truck fix now workin http myloc me 4nif\n",
              "6       1                blaqsheepceo yea i melt at that lol\n",
              "7       0  want to do something radical but not sure what...\n",
              "8       0  brlamb scratch that bgilgoff tweet it channel ...\n",
              "9       0  i be sore everywhere also find out an assessme..."
            ]
          },
          "metadata": {},
          "execution_count": 7
        }
      ]
    },
    {
      "cell_type": "markdown",
      "metadata": {
        "id": "aic6k7p6QJ1O"
      },
      "source": [
        "### **Split the dataset** 🖇\n",
        "into *training, validation* and *testing* sets."
      ]
    },
    {
      "cell_type": "code",
      "metadata": {
        "id": "10wS1EZcQOEO"
      },
      "source": [
        "from sklearn.model_selection import train_test_split\n",
        "\n",
        "X = pd.DataFrame(df, columns = ['text'])\n",
        "Y = pd.DataFrame(df, columns = ['target'])\n",
        "\n",
        "# Using the train_test_split method \n",
        "# we get from X -> trainX, testX and from Y -> trainY, testY\n",
        "trainX, testX, trainY, testY = train_test_split(X, Y, test_size=0.05, random_state=123)\n",
        "trainX, valX, trainY, valY = train_test_split(trainX, trainY, test_size=0.05, random_state=123)"
      ],
      "execution_count": null,
      "outputs": []
    },
    {
      "cell_type": "code",
      "metadata": {
        "colab": {
          "base_uri": "https://localhost:8080/"
        },
        "id": "7cMREEjaQQTI",
        "outputId": "92b25fdf-d3db-401c-a265-e57c6e93ed17"
      },
      "source": [
        "print(trainX.head())"
      ],
      "execution_count": null,
      "outputs": [
        {
          "output_type": "stream",
          "name": "stdout",
          "text": [
            "                                                     text\n",
            "252794  and they be back within hear distance with win...\n",
            "591124  3 majorettes show tomorrow fuck me i m gonna b...\n",
            "4804                      choebe guess what i m dling now\n",
            "230626  i break my hello kitty mobile charm it be one ...\n",
            "81794   just get do watch some buffy hurray it s bryan...\n"
          ]
        }
      ]
    },
    {
      "cell_type": "markdown",
      "metadata": {
        "id": "IBrY0HgoQ0br"
      },
      "source": [
        "## **Vectorization with the GloVe pre-trained word embeddings** 🔢\n",
        "\n",
        "Now, we need to ***convert the text into numbers using the GloVe model.*** \n",
        "\n",
        "We will use the pre-trained **_glove.twitter.27B.25d.txt_** file which provides *27 billion tokens* extracted from tweets and vectorized using the GloVe model in *25 dimensions*. The .zip file from [GloVe](https://nlp.stanford.edu/projects/glove/) also contains encodings in 50, 100 and 200 dimensions. For the sake of speed I chose to use the 25-dimensions file."
      ]
    },
    {
      "cell_type": "markdown",
      "metadata": {
        "id": "88k2KFE7faF_"
      },
      "source": [
        "### **Download the GloVe pre-trained word embeddings ⬇️**\n",
        "First of all we download the `glove.twitter.27B.zip` archive which contains the GloVe word embeddings."
      ]
    },
    {
      "cell_type": "code",
      "metadata": {
        "colab": {
          "base_uri": "https://localhost:8080/"
        },
        "id": "pfnVSQPTjrFy",
        "outputId": "49a5ec28-f166-46d3-9a21-79469f946795"
      },
      "source": [
        "!wget -nc https://nlp.stanford.edu/data/glove.twitter.27B.zip\n",
        "!unzip -n -q glove.twitter.27B.zip"
      ],
      "execution_count": null,
      "outputs": [
        {
          "output_type": "stream",
          "name": "stdout",
          "text": [
            "--2021-09-18 08:12:57--  https://nlp.stanford.edu/data/glove.twitter.27B.zip\n",
            "Resolving nlp.stanford.edu (nlp.stanford.edu)... 171.64.67.140\n",
            "Connecting to nlp.stanford.edu (nlp.stanford.edu)|171.64.67.140|:443... connected.\n",
            "HTTP request sent, awaiting response... 301 Moved Permanently\n",
            "Location: http://downloads.cs.stanford.edu/nlp/data/glove.twitter.27B.zip [following]\n",
            "--2021-09-18 08:12:58--  http://downloads.cs.stanford.edu/nlp/data/glove.twitter.27B.zip\n",
            "Resolving downloads.cs.stanford.edu (downloads.cs.stanford.edu)... 171.64.64.22\n",
            "Connecting to downloads.cs.stanford.edu (downloads.cs.stanford.edu)|171.64.64.22|:80... connected.\n",
            "HTTP request sent, awaiting response... 200 OK\n",
            "Length: 1520408563 (1.4G) [application/zip]\n",
            "Saving to: ‘glove.twitter.27B.zip’\n",
            "\n",
            "glove.twitter.27B.z 100%[===================>]   1.42G  5.29MB/s    in 4m 51s  \n",
            "\n",
            "2021-09-18 08:17:49 (4.98 MB/s) - ‘glove.twitter.27B.zip’ saved [1520408563/1520408563]\n",
            "\n"
          ]
        }
      ]
    },
    {
      "cell_type": "markdown",
      "metadata": {
        "id": "Vqf2gebaO6Q6"
      },
      "source": [
        "### **Build the GloVe vocabulary 📖** \n",
        "\n",
        "The `glove.twitter.27B.25d.txt` file has the following format: Each word is followed by 25 coefficients that define that specific word. We want to build a vocabulary of these words that map each one of them to their corresponding 25-dimensional vector that defines them. So, we go through the file and split each line to get the word and the 25 coefficients that are associated with it. The following code does that."
      ]
    },
    {
      "cell_type": "code",
      "metadata": {
        "colab": {
          "base_uri": "https://localhost:8080/"
        },
        "id": "X6vyrZqAkVqW",
        "outputId": "e7cf3f91-cff1-4d6a-ae40-982ffd7bff89"
      },
      "source": [
        "import os\n",
        "GloVe_path = '/content/glove.twitter.27B.25d.txt'\n",
        "GloVe_vocab = {}\n",
        "with open(GloVe_path) as f:\n",
        "    for line in f:\n",
        "        word, coefs = line.split(maxsplit=1)\n",
        "        coefs = np.fromstring(coefs, \"f\", sep=\" \")\n",
        "        GloVe_vocab[word] = coefs\n",
        "\n",
        "print(\"Found %s word vectors on the GloVe file.\" % len(GloVe_vocab))"
      ],
      "execution_count": null,
      "outputs": [
        {
          "output_type": "stream",
          "name": "stdout",
          "text": [
            "Found 1193514 word vectors on the GloVe file.\n"
          ]
        }
      ]
    },
    {
      "cell_type": "code",
      "metadata": {
        "colab": {
          "base_uri": "https://localhost:8080/"
        },
        "id": "SMxRz0YfHRzF",
        "outputId": "608f954e-67b1-46f7-c3af-12997feee610"
      },
      "source": [
        "# Let's play a bit with the GloVe word embeddings :)\n",
        "\n",
        "# This is the representation of the word \"hello\"\n",
        "# using the GloVe 25 dimensional encodings\n",
        "print(f'\"hello\" -> {GloVe_vocab[\"hello\"]}')\n",
        "\n",
        "# You can also see that this is a 25-dimensional vector\n",
        "print(f'Shape: {GloVe_vocab[\"hello\"].shape}')\n",
        "\n",
        "# We can also see that some words are not presented in the GloVe vocabulary\n",
        "# Let's test for the word \"asdfghjkldfgdfgdfgd\"\n",
        "# if you run the command below will get KeyError because there is no such key\n",
        "# in the dictionary\n",
        "# print(f'\"asdfghjkldfgdfgdfgd\" -> {GloVe_vocab[\"asdfghjkldfgdfgdfgd\"]}')"
      ],
      "execution_count": null,
      "outputs": [
        {
          "output_type": "stream",
          "name": "stdout",
          "text": [
            "\"hello\" -> [-0.77069    0.12827    0.33137    0.0050893 -0.47605   -0.50116\n",
            "  1.858      1.0624    -0.56511    0.13328   -0.41918   -0.14195\n",
            " -2.8555    -0.57131   -0.13418   -0.44922    0.48591   -0.6479\n",
            " -0.84238    0.61669   -0.19824   -0.57967   -0.65885    0.43928\n",
            " -0.50473  ]\n",
            "Shape: (25,)\n"
          ]
        }
      ]
    },
    {
      "cell_type": "markdown",
      "metadata": {
        "id": "7F5CcoEfHI6P"
      },
      "source": [
        "### **Word Vectors into Tweet Vectors ➡️**\n",
        "\n",
        "Now that we have the vocabulary with all the words from the GloVe model, we have to represent each tweet in the dataset with the word vectors for each word in the tweet. In other words, each tweet in the dataset has to be represented with numbers in order to be inputed into our Neural Network model.\n",
        "\n",
        "But, if each tweet consists of [tweet_len] words and each word as we know is represented by a 25-dimensional vector, then we will have a `[tweet_len] x [25]` matrix for each tweet. \n",
        "\n",
        "But how this `[tweet_len] x [25]` embeddings matrix will be passed as a single feature into a neuron of our model?   \n",
        "⇒ We have to represent the *whole* tweet (that consists of many words) with a *single* embedding vector. \n",
        "\n",
        "We are going to use a very simple, yet surprisingly effective technique:\n",
        "  \n",
        "```\n",
        "We are getting the mean vector of the vectors for each word presented in the tweet. \n",
        "This will be our representative 25 dimensional vector for the tweet.\n",
        "```\n",
        "\n",
        "So we are going to do the following:\n",
        "  1. Iterate through dataset and for each tweet,\n",
        "  2. Split the tweet into its tokens and,\n",
        "  3. For each token in the tweet get its word vector by the GloVe vocabulary we have built\n",
        "  4. Then for all the words in the tweet calculate the mean of their word vectors\n",
        "  5. This (mean) vector will be the representation of the whole tweet.\n",
        "\n",
        "Then, in total we will have `[dataset_size] x [25]` for representing the whole dataset's tweets.\n",
        "\n",
        "Another concern, now about representing each word we find in each tweet in the datset...\n",
        "\n",
        "How can we handle the words that are *not* encoded by the GloVe model (not presented in our GloVe vocabulary)?  \n",
        "=>  We just fill their word vector with zeros (we kinda ignore them 😁)  \n",
        "So, the idea is simple:\n",
        "\n",
        "```\n",
        "If a word from the dataset is also present in the GloVe vocabulary then \n",
        "  this word is represented by the 25-dimensional GloVe vector containing the 25 coefficients that represent this word\n",
        "else (this word is not present in the GloVe vocabulary)\n",
        "  this word is represented by a 25-diemensional vector filled with zeros\n",
        "```"
      ]
    },
    {
      "cell_type": "markdown",
      "metadata": {
        "id": "oC1ekOuESomd"
      },
      "source": [
        "The following function, given a dataset returns the NumPy **tweet vector** with the associated numbers for each tweet, and, how many _words_found_ and also the _matrix_len_. "
      ]
    },
    {
      "cell_type": "code",
      "metadata": {
        "id": "X1LYNwNmhg1a"
      },
      "source": [
        "def GloVe_TweetVectors(dataset):\n",
        "  matrix_len = dataset['text'].str.split().str.len().sum()\n",
        "  words = 0\n",
        "  words_found = 0\n",
        "  tweet_vectors = []\n",
        "\n",
        "  for i, row in enumerate(dataset['text']):\n",
        "    splitted_words = str(row).split(' ')\n",
        "    word_coeffs = np.zeros((len(splitted_words), 25))\n",
        "    for j, word in enumerate(splitted_words):\n",
        "      words += 1\n",
        "      if word in GloVe_vocab:\n",
        "        word_coeffs[j] = GloVe_vocab[word]\n",
        "        words_found += 1\n",
        "    # get the mean of all the words in each tweet \n",
        "    tweet_vector = np.mean(word_coeffs, axis=0)\n",
        "    tweet_vectors.append(tweet_vector)\n",
        "  return np.array(tweet_vectors), words_found, matrix_len"
      ],
      "execution_count": null,
      "outputs": []
    },
    {
      "cell_type": "markdown",
      "metadata": {
        "id": "OSlIKbaAXY-W"
      },
      "source": [
        "Let's see how looks the tweet vector of the first tweet in the `trainX` dataset."
      ]
    },
    {
      "cell_type": "code",
      "metadata": {
        "colab": {
          "base_uri": "https://localhost:8080/"
        },
        "id": "vqqCv23wKHxt",
        "outputId": "d80c22cf-7724-4b65-e8dd-8bfa1b6101b6"
      },
      "source": [
        "# Get the 1st tweet from train_X\n",
        "tweet1 = trainX.iloc[0] # iloc[0] is equivalent to trainX[0] for pd DataFrame\n",
        "# Get the text from tweet1 because now is in form \"text tweet1\"\n",
        "tweet1 = tweet1.iloc[0] \n",
        "print(tweet1)\n",
        "print(f'Length of the tweet: {len(tweet1)}')\n",
        "\n",
        "# Get it as a pd.DataFrame in order to pass it to our method below \n",
        "# which gets as input a dataset (pd.Dataframe)\n",
        "tweet1_df = trainX[:1]\n",
        "\n",
        "tweet1vector, _, _ = GloVe_TweetVectors(pd.DataFrame(tweet1_df))\n",
        "print(f'Tweet vector shape: {tweet1vector.shape}')"
      ],
      "execution_count": null,
      "outputs": [
        {
          "output_type": "stream",
          "name": "stdout",
          "text": [
            "and they be back within hear distance with windows close and headphones on\n",
            "Length of the tweet: 74\n",
            "Tweet vector shape: (1, 25)\n"
          ]
        }
      ]
    },
    {
      "cell_type": "markdown",
      "metadata": {
        "id": "VoKywabsiggQ"
      },
      "source": [
        "Let's see how many of the words from our dataset are presented by the GloVe word embeddings.🤔\n",
        "\n",
        "We get a ratio of 94% which is acceptable for our model."
      ]
    },
    {
      "cell_type": "code",
      "metadata": {
        "colab": {
          "base_uri": "https://localhost:8080/"
        },
        "id": "ayWV0LkOivK1",
        "outputId": "d454594e-44ba-428b-a564-0b9fec1a9de4"
      },
      "source": [
        "glove_trainX, words_found, matrix_len = GloVe_TweetVectors(pd.DataFrame(trainX))\n",
        "print(f'Train dataset shape: {glove_trainX.shape}')\n",
        "print('Training Set match with GloVe embeddings (ratio): ', round(words_found/matrix_len, 2))\n",
        "\n",
        "glove_valX, words_found, matrix_len = GloVe_TweetVectors(pd.DataFrame(valX))\n",
        "print('Validation Set match with GloVe embeddings (ratio):', round(words_found/matrix_len,2))\n",
        "\n",
        "glove_testX, words_found, matrix_len = GloVe_TweetVectors(pd.DataFrame(testX))\n",
        "print('Test Set match with GloVe embeddings (ratio): ', round(words_found/matrix_len,2))\n"
      ],
      "execution_count": null,
      "outputs": [
        {
          "output_type": "stream",
          "name": "stdout",
          "text": [
            "Train dataset shape: (586625, 25)\n",
            "Training Set match with GloVe embeddings (ratio):  0.94\n",
            "Validation Set match with GloVe embeddings (ratio): 0.94\n",
            "Test Set match with GloVe embeddings (ratio):  0.94\n"
          ]
        }
      ]
    },
    {
      "cell_type": "code",
      "metadata": {
        "id": "WyRkKi0im75W"
      },
      "source": [
        "# Convert X datasets to tensors with function convert_to_tensor.\n",
        "glove_trainX = torch.tensor(glove_trainX)\n",
        "glove_valX = torch.tensor(glove_valX)\n",
        "glove_testX = torch.tensor(glove_testX)"
      ],
      "execution_count": null,
      "outputs": []
    },
    {
      "cell_type": "code",
      "metadata": {
        "id": "SzWfLJG3nCc1"
      },
      "source": [
        "# Convert Y labels to tensors with torch.squeeze.\n",
        "trainY = torch.squeeze(torch.from_numpy(trainY.to_numpy()).float())\n",
        "valY = torch.squeeze(torch.from_numpy(valY.to_numpy()).float())\n",
        "testY = torch.squeeze(torch.from_numpy(testY.to_numpy()).float())"
      ],
      "execution_count": null,
      "outputs": []
    },
    {
      "cell_type": "code",
      "metadata": {
        "colab": {
          "base_uri": "https://localhost:8080/"
        },
        "id": "syCo2ffOkxKF",
        "outputId": "376b9972-12ac-4b03-ca21-2b42c3bad5a4"
      },
      "source": [
        "device = torch.device(\"cuda\" if torch.cuda.is_available() else \"cpu\")\n",
        "print(\"Device available for running: \")\n",
        "print(device)"
      ],
      "execution_count": null,
      "outputs": [
        {
          "output_type": "stream",
          "name": "stdout",
          "text": [
            "Device available for running: \n",
            "cuda\n"
          ]
        }
      ]
    },
    {
      "cell_type": "markdown",
      "metadata": {
        "id": "ltL8InpvyDiu"
      },
      "source": [
        "## **Feed-Forward Neural Network** 🧠\n",
        "\n",
        "I chose a structure of *three hidden layers*, hence *four functions* in total with each one having the ReLU activation function, plus the sigmoid activation function at the output.\n",
        "\n",
        "The *structure* of the network is as follows:\n",
        "\n",
        "Input $\\rightarrow$  \n",
        "  Linear Layer $\\rightarrow$ ReLU  \n",
        "  Linear Layer $\\rightarrow$ ReLU   \n",
        "  Linear Layer $\\rightarrow$ ReLU  \n",
        "  Linear Layer $\\rightarrow$ Sigmoid  \n",
        "$\\rightarrow$ Output"
      ]
    },
    {
      "cell_type": "markdown",
      "metadata": {
        "id": "iStO_XpSyhrE"
      },
      "source": [
        "### **Building the network** 🔨"
      ]
    },
    {
      "cell_type": "code",
      "metadata": {
        "colab": {
          "base_uri": "https://localhost:8080/"
        },
        "id": "SCeXEmqMlTar",
        "outputId": "32fd0b67-a46f-4de7-d226-d2fbabe66a63"
      },
      "source": [
        "class FeedForwardNeuralNetwork(nn.Module):\n",
        "  def __init__(self, input_dim, hidden_dim_1, hidden_dim_2, hidden_dim_3, output_dim):\n",
        "    super(FeedForwardNeuralNetwork, self).__init__()\n",
        "\n",
        "    self.f_1 = nn.Linear(input_dim, hidden_dim_1)\n",
        "    self.relu_1 = nn.ReLU()\n",
        "\n",
        "    self.f_2 = nn.Linear(hidden_dim_1, hidden_dim_2)\n",
        "    self.relu_2 = nn.ReLU()\n",
        "\n",
        "    self.f_3 = nn.Linear(hidden_dim_2, hidden_dim_3)\n",
        "    self.relu_3 = nn.ReLU()\n",
        "\n",
        "    self.f_4 = nn.Linear(hidden_dim_3, output_dim)\n",
        "\n",
        "    self.sigmoid = nn.Sigmoid()\n",
        "\n",
        "  def forward(self, x):\n",
        "    out = self.f_1(x)\n",
        "    out = self.relu_1(out)\n",
        "    out = self.f_2(out)\n",
        "    out = self.relu_2(out)\n",
        "    out = self.f_3(out)\n",
        "    out = self.relu_3(out)\n",
        "    out = self.f_4(out)\n",
        "    out = self.sigmoid(out)\n",
        "    return out\n",
        "\n",
        "# Initializing the model's parameters\n",
        "# you can see that the input dimension is 25, as the GloVe embeddings dimension\n",
        "input_dim = glove_trainX.shape[1]\n",
        "#print(f'Input dimension: {input_dim}')\n",
        "hidden_dim_1 = 1024\n",
        "hidden_dim_2 = 512\n",
        "hidden_dim_3 = 256\n",
        "\n",
        "output_dim = 1\n",
        "\n",
        "n_epochs = 70\n",
        "\n",
        "# Define the model in the nn_model variable\n",
        "nn_model = FeedForwardNeuralNetwork(input_dim, hidden_dim_1, hidden_dim_2, hidden_dim_3, output_dim)\n",
        "loss_function = nn.BCELoss() # the loss function: Binary Cross Entropy Loss\n",
        "optimizer = optim.Adam(nn_model.parameters(), lr=1e-4, weight_decay=1e-3)\n",
        "\n",
        "# Send the computation to the selected device (cpu/gpu)\n",
        "nn_model.to(device)\n",
        "loss_function.to(device)"
      ],
      "execution_count": null,
      "outputs": [
        {
          "output_type": "execute_result",
          "data": {
            "text/plain": [
              "BCELoss()"
            ]
          },
          "metadata": {},
          "execution_count": 20
        }
      ]
    },
    {
      "cell_type": "code",
      "metadata": {
        "id": "j1Zrj0uxlchE"
      },
      "source": [
        "import torch\n",
        "batch_size = 32768 # 2^15\n",
        "\n",
        "trainX_batches = torch.split(glove_trainX, batch_size)\n",
        "trainY_batches = torch.split(trainY, batch_size)"
      ],
      "execution_count": null,
      "outputs": []
    },
    {
      "cell_type": "code",
      "metadata": {
        "id": "l1VNxGfIlfP3"
      },
      "source": [
        "def calculate_accuracy(y_prediction, y_true):\n",
        "  y_prediction = torch.round(y_prediction)\n",
        "  correct = (y_true == y_prediction).float() # is it correct? i.e. loss == 0?\n",
        "  accuracy = correct.sum() / len(correct)\n",
        "  return accuracy"
      ],
      "execution_count": null,
      "outputs": []
    },
    {
      "cell_type": "code",
      "metadata": {
        "id": "tftwJrtRlhMT"
      },
      "source": [
        "plt.style.use('seaborn-whitegrid') # plot style\n",
        "\n",
        "def plot_loss_accuracy(train_loss, train_acc, val_loss, val_acc, epochs):\n",
        "  fig, (ax1, ax2) = plt.subplots(1,2,figsize=(14,6))\n",
        "\n",
        "  ax1.plot(range(epochs), train_loss, 'bo-' , label = 'Training loss')\n",
        "  ax1.plot(range(epochs), val_loss , 'ro-', label = 'Validation loss')\n",
        "  ax1.set_ylabel('Loss')\n",
        "  ax1.set_xlabel('Epoch')\n",
        "  ax1.set_title('Loss/Epoch', y = 1.03, fontsize = 15)\n",
        "  ax1.set_xlim([-1,epochs])\n",
        "  ax1.legend(loc=\"best\")\n",
        "\n",
        "  ax2.plot(range(epochs), train_acc, 'bo-' , label = 'Training accuracy')\n",
        "  ax2.plot(range(epochs), val_acc , 'ro-', label = 'Validation accuracy')\n",
        "  ax2.set_ylabel('Accuracy')\n",
        "  ax2.set_xlabel('Epoch')\n",
        "  ax2.set_title('Accuracy/Epoch', y = 1.03, fontsize = 15)\n",
        "  ax2.set_xlim([-1,epochs])\n",
        "  ax2.legend(loc=\"best\")\n",
        "\n",
        "  plt.show()"
      ],
      "execution_count": null,
      "outputs": []
    },
    {
      "cell_type": "markdown",
      "metadata": {
        "id": "Clvox8NwynLk"
      },
      "source": [
        "### **Training** 🏋️‍♂️"
      ]
    },
    {
      "cell_type": "code",
      "metadata": {
        "id": "WLkM3wBzljiW",
        "colab": {
          "base_uri": "https://localhost:8080/"
        },
        "outputId": "4172adda-ba24-45d4-c637-a52723394ca8"
      },
      "source": [
        "train_losses, train_accuracies, val_losses, val_accuracies = [], [], [], []\n",
        "\n",
        "for epoch in range(n_epochs):\n",
        "  epoch_loss = epoch_accuracy = 0\n",
        "  val_loss = val_accuracy = 0\n",
        "\n",
        "  for trainX_mini_batch, trainY_mini_batch in zip(trainX_batches, trainY_batches):\n",
        "    trainX_mini_batch = trainX_mini_batch.to(device)\n",
        "    trainY_mini_batch = trainY_mini_batch.to(device)\n",
        "    #print(f'trainX_mini_batch shape: {trainX_mini_batch.shape}') # batch_size OK\n",
        "    #print(f'trainY_mini_batch shape: {trainX_mini_batch.shape}') # batch_size OK\n",
        "    # Forward pass to get prediction\n",
        "    train_prediction = nn_model.forward(trainX_mini_batch.float())\n",
        "    # now squeeze it because it is of size (batch_size, 1) so get rid of 1 \n",
        "    train_prediction = torch.squeeze(train_prediction)\n",
        "    #print(f'train_prediction shape: {train_prediction.shape}')\n",
        "\n",
        "    # Calculate loss\n",
        "    train_loss = loss_function(train_prediction, trainY_mini_batch)\n",
        "\n",
        "    # Clearing up accumulated gradients\n",
        "    optimizer.zero_grad()\n",
        "\n",
        "    # Get the gradients using backpropagation power!!\n",
        "    train_loss.backward()\n",
        "\n",
        "    # Update parameters, or \"learn\" :)\n",
        "    optimizer.step()\n",
        "\n",
        "    epoch_loss += train_loss.item()\n",
        "    epoch_accuracy += calculate_accuracy(train_prediction, trainY_mini_batch)\n",
        "  \n",
        "  # For each epoch print loss and accucary on train and validation sets.\n",
        "  glove_valX = glove_valX.to(device)\n",
        "  valY = valY.to(device)\n",
        "\n",
        "  # Forward pass to get output\n",
        "  val_prediction = nn_model.forward(glove_valX.float())\n",
        "  val_prediction = torch.squeeze(val_prediction)\n",
        "\n",
        "  # Calculate loss\n",
        "  val_loss = loss_function(val_prediction, valY)\n",
        "\n",
        "  # Add each mini batch's loss\n",
        "  validation_loss = val_loss.item()\n",
        "\n",
        "  # Add each mini batch's accuracy\n",
        "  val_accuracy = calculate_accuracy(val_prediction, valY)\n",
        "\n",
        "  epoch_loss /= len(trainX_batches)\n",
        "  epoch_accuracy /= len(trainX_batches)\n",
        "  val_losses.append(validation_loss)\n",
        "  train_losses.append(epoch_loss)\n",
        "  train_accuracies.append(epoch_accuracy)\n",
        "  val_accuracies.append(val_accuracy)\n",
        "  print(\"Epoch:\", epoch, \"\\n\"\n",
        "        \"Train Loss:     \\t\", round(epoch_loss, 4),      \"\\tTrain Accuracy:      \\t\", round(epoch_accuracy.item(), 4), \"\\n\"\n",
        "        \"Validation Loss:\\t\", round(validation_loss, 4), \"\\tValidation Accuracy: \\t\", round(val_accuracy.item(), 4),   \"\\n\")"
      ],
      "execution_count": null,
      "outputs": [
        {
          "output_type": "stream",
          "name": "stdout",
          "text": [
            "Epoch: 0 \n",
            "Train Loss:     \t 0.5801 \tTrain Accuracy:      \t 0.6879 \n",
            "Validation Loss:\t 0.5775 \tValidation Accuracy: \t 0.6919 \n",
            "\n",
            "Epoch: 1 \n",
            "Train Loss:     \t 0.5793 \tTrain Accuracy:      \t 0.6889 \n",
            "Validation Loss:\t 0.5772 \tValidation Accuracy: \t 0.6927 \n",
            "\n",
            "Epoch: 2 \n",
            "Train Loss:     \t 0.5787 \tTrain Accuracy:      \t 0.6896 \n",
            "Validation Loss:\t 0.5767 \tValidation Accuracy: \t 0.6926 \n",
            "\n",
            "Epoch: 3 \n",
            "Train Loss:     \t 0.5781 \tTrain Accuracy:      \t 0.6899 \n",
            "Validation Loss:\t 0.576 \tValidation Accuracy: \t 0.6927 \n",
            "\n",
            "Epoch: 4 \n",
            "Train Loss:     \t 0.5775 \tTrain Accuracy:      \t 0.6904 \n",
            "Validation Loss:\t 0.5756 \tValidation Accuracy: \t 0.693 \n",
            "\n",
            "Epoch: 5 \n",
            "Train Loss:     \t 0.5772 \tTrain Accuracy:      \t 0.6907 \n",
            "Validation Loss:\t 0.5753 \tValidation Accuracy: \t 0.6923 \n",
            "\n",
            "Epoch: 6 \n",
            "Train Loss:     \t 0.577 \tTrain Accuracy:      \t 0.6909 \n",
            "Validation Loss:\t 0.5752 \tValidation Accuracy: \t 0.6923 \n",
            "\n",
            "Epoch: 7 \n",
            "Train Loss:     \t 0.5768 \tTrain Accuracy:      \t 0.691 \n",
            "Validation Loss:\t 0.575 \tValidation Accuracy: \t 0.6928 \n",
            "\n",
            "Epoch: 8 \n",
            "Train Loss:     \t 0.5767 \tTrain Accuracy:      \t 0.6911 \n",
            "Validation Loss:\t 0.5749 \tValidation Accuracy: \t 0.6929 \n",
            "\n",
            "Epoch: 9 \n",
            "Train Loss:     \t 0.5766 \tTrain Accuracy:      \t 0.6912 \n",
            "Validation Loss:\t 0.5748 \tValidation Accuracy: \t 0.6932 \n",
            "\n",
            "Epoch: 10 \n",
            "Train Loss:     \t 0.5765 \tTrain Accuracy:      \t 0.6913 \n",
            "Validation Loss:\t 0.5747 \tValidation Accuracy: \t 0.6936 \n",
            "\n",
            "Epoch: 11 \n",
            "Train Loss:     \t 0.5764 \tTrain Accuracy:      \t 0.6913 \n",
            "Validation Loss:\t 0.5746 \tValidation Accuracy: \t 0.6937 \n",
            "\n",
            "Epoch: 12 \n",
            "Train Loss:     \t 0.5764 \tTrain Accuracy:      \t 0.6913 \n",
            "Validation Loss:\t 0.5746 \tValidation Accuracy: \t 0.6939 \n",
            "\n",
            "Epoch: 13 \n",
            "Train Loss:     \t 0.5763 \tTrain Accuracy:      \t 0.6914 \n",
            "Validation Loss:\t 0.5745 \tValidation Accuracy: \t 0.6938 \n",
            "\n",
            "Epoch: 14 \n",
            "Train Loss:     \t 0.5763 \tTrain Accuracy:      \t 0.6915 \n",
            "Validation Loss:\t 0.5745 \tValidation Accuracy: \t 0.6939 \n",
            "\n",
            "Epoch: 15 \n",
            "Train Loss:     \t 0.5762 \tTrain Accuracy:      \t 0.6915 \n",
            "Validation Loss:\t 0.5744 \tValidation Accuracy: \t 0.6939 \n",
            "\n",
            "Epoch: 16 \n",
            "Train Loss:     \t 0.5762 \tTrain Accuracy:      \t 0.6915 \n",
            "Validation Loss:\t 0.5744 \tValidation Accuracy: \t 0.694 \n",
            "\n",
            "Epoch: 17 \n",
            "Train Loss:     \t 0.5762 \tTrain Accuracy:      \t 0.6916 \n",
            "Validation Loss:\t 0.5743 \tValidation Accuracy: \t 0.694 \n",
            "\n",
            "Epoch: 18 \n",
            "Train Loss:     \t 0.5761 \tTrain Accuracy:      \t 0.6916 \n",
            "Validation Loss:\t 0.5743 \tValidation Accuracy: \t 0.6941 \n",
            "\n",
            "Epoch: 19 \n",
            "Train Loss:     \t 0.5761 \tTrain Accuracy:      \t 0.6916 \n",
            "Validation Loss:\t 0.5743 \tValidation Accuracy: \t 0.6941 \n",
            "\n",
            "Epoch: 20 \n",
            "Train Loss:     \t 0.5761 \tTrain Accuracy:      \t 0.6917 \n",
            "Validation Loss:\t 0.5743 \tValidation Accuracy: \t 0.6941 \n",
            "\n",
            "Epoch: 21 \n",
            "Train Loss:     \t 0.576 \tTrain Accuracy:      \t 0.6917 \n",
            "Validation Loss:\t 0.5742 \tValidation Accuracy: \t 0.694 \n",
            "\n",
            "Epoch: 22 \n",
            "Train Loss:     \t 0.576 \tTrain Accuracy:      \t 0.6917 \n",
            "Validation Loss:\t 0.5742 \tValidation Accuracy: \t 0.6939 \n",
            "\n",
            "Epoch: 23 \n",
            "Train Loss:     \t 0.576 \tTrain Accuracy:      \t 0.6917 \n",
            "Validation Loss:\t 0.5742 \tValidation Accuracy: \t 0.6941 \n",
            "\n",
            "Epoch: 24 \n",
            "Train Loss:     \t 0.576 \tTrain Accuracy:      \t 0.6917 \n",
            "Validation Loss:\t 0.5742 \tValidation Accuracy: \t 0.6941 \n",
            "\n",
            "Epoch: 25 \n",
            "Train Loss:     \t 0.5759 \tTrain Accuracy:      \t 0.6917 \n",
            "Validation Loss:\t 0.5741 \tValidation Accuracy: \t 0.6941 \n",
            "\n",
            "Epoch: 26 \n",
            "Train Loss:     \t 0.5759 \tTrain Accuracy:      \t 0.6918 \n",
            "Validation Loss:\t 0.5741 \tValidation Accuracy: \t 0.6942 \n",
            "\n",
            "Epoch: 27 \n",
            "Train Loss:     \t 0.5759 \tTrain Accuracy:      \t 0.6917 \n",
            "Validation Loss:\t 0.5741 \tValidation Accuracy: \t 0.6943 \n",
            "\n",
            "Epoch: 28 \n",
            "Train Loss:     \t 0.5759 \tTrain Accuracy:      \t 0.6918 \n",
            "Validation Loss:\t 0.5741 \tValidation Accuracy: \t 0.6944 \n",
            "\n",
            "Epoch: 29 \n",
            "Train Loss:     \t 0.5759 \tTrain Accuracy:      \t 0.6918 \n",
            "Validation Loss:\t 0.574 \tValidation Accuracy: \t 0.6943 \n",
            "\n",
            "Epoch: 30 \n",
            "Train Loss:     \t 0.5758 \tTrain Accuracy:      \t 0.6918 \n",
            "Validation Loss:\t 0.574 \tValidation Accuracy: \t 0.6943 \n",
            "\n",
            "Epoch: 31 \n",
            "Train Loss:     \t 0.5758 \tTrain Accuracy:      \t 0.6918 \n",
            "Validation Loss:\t 0.574 \tValidation Accuracy: \t 0.6943 \n",
            "\n",
            "Epoch: 32 \n",
            "Train Loss:     \t 0.5758 \tTrain Accuracy:      \t 0.6919 \n",
            "Validation Loss:\t 0.574 \tValidation Accuracy: \t 0.6941 \n",
            "\n",
            "Epoch: 33 \n",
            "Train Loss:     \t 0.5758 \tTrain Accuracy:      \t 0.6919 \n",
            "Validation Loss:\t 0.574 \tValidation Accuracy: \t 0.694 \n",
            "\n",
            "Epoch: 34 \n",
            "Train Loss:     \t 0.5758 \tTrain Accuracy:      \t 0.6919 \n",
            "Validation Loss:\t 0.574 \tValidation Accuracy: \t 0.694 \n",
            "\n",
            "Epoch: 35 \n",
            "Train Loss:     \t 0.5757 \tTrain Accuracy:      \t 0.6919 \n",
            "Validation Loss:\t 0.5739 \tValidation Accuracy: \t 0.694 \n",
            "\n",
            "Epoch: 36 \n",
            "Train Loss:     \t 0.5757 \tTrain Accuracy:      \t 0.6919 \n",
            "Validation Loss:\t 0.5739 \tValidation Accuracy: \t 0.6941 \n",
            "\n",
            "Epoch: 37 \n",
            "Train Loss:     \t 0.5757 \tTrain Accuracy:      \t 0.6919 \n",
            "Validation Loss:\t 0.5739 \tValidation Accuracy: \t 0.6941 \n",
            "\n",
            "Epoch: 38 \n",
            "Train Loss:     \t 0.5757 \tTrain Accuracy:      \t 0.6919 \n",
            "Validation Loss:\t 0.5739 \tValidation Accuracy: \t 0.694 \n",
            "\n",
            "Epoch: 39 \n",
            "Train Loss:     \t 0.5757 \tTrain Accuracy:      \t 0.6919 \n",
            "Validation Loss:\t 0.5739 \tValidation Accuracy: \t 0.6941 \n",
            "\n",
            "Epoch: 40 \n",
            "Train Loss:     \t 0.5757 \tTrain Accuracy:      \t 0.6919 \n",
            "Validation Loss:\t 0.5739 \tValidation Accuracy: \t 0.6941 \n",
            "\n",
            "Epoch: 41 \n",
            "Train Loss:     \t 0.5756 \tTrain Accuracy:      \t 0.6919 \n",
            "Validation Loss:\t 0.5738 \tValidation Accuracy: \t 0.694 \n",
            "\n",
            "Epoch: 42 \n",
            "Train Loss:     \t 0.5756 \tTrain Accuracy:      \t 0.692 \n",
            "Validation Loss:\t 0.5738 \tValidation Accuracy: \t 0.694 \n",
            "\n",
            "Epoch: 43 \n",
            "Train Loss:     \t 0.5756 \tTrain Accuracy:      \t 0.692 \n",
            "Validation Loss:\t 0.5738 \tValidation Accuracy: \t 0.694 \n",
            "\n",
            "Epoch: 44 \n",
            "Train Loss:     \t 0.5756 \tTrain Accuracy:      \t 0.692 \n",
            "Validation Loss:\t 0.5738 \tValidation Accuracy: \t 0.6939 \n",
            "\n",
            "Epoch: 45 \n",
            "Train Loss:     \t 0.5756 \tTrain Accuracy:      \t 0.692 \n",
            "Validation Loss:\t 0.5738 \tValidation Accuracy: \t 0.694 \n",
            "\n",
            "Epoch: 46 \n",
            "Train Loss:     \t 0.5756 \tTrain Accuracy:      \t 0.692 \n",
            "Validation Loss:\t 0.5738 \tValidation Accuracy: \t 0.6941 \n",
            "\n",
            "Epoch: 47 \n",
            "Train Loss:     \t 0.5756 \tTrain Accuracy:      \t 0.692 \n",
            "Validation Loss:\t 0.5738 \tValidation Accuracy: \t 0.6941 \n",
            "\n",
            "Epoch: 48 \n",
            "Train Loss:     \t 0.5755 \tTrain Accuracy:      \t 0.692 \n",
            "Validation Loss:\t 0.5738 \tValidation Accuracy: \t 0.6941 \n",
            "\n",
            "Epoch: 49 \n",
            "Train Loss:     \t 0.5755 \tTrain Accuracy:      \t 0.6921 \n",
            "Validation Loss:\t 0.5737 \tValidation Accuracy: \t 0.6942 \n",
            "\n",
            "Epoch: 50 \n",
            "Train Loss:     \t 0.5755 \tTrain Accuracy:      \t 0.6921 \n",
            "Validation Loss:\t 0.5737 \tValidation Accuracy: \t 0.6942 \n",
            "\n",
            "Epoch: 51 \n",
            "Train Loss:     \t 0.5755 \tTrain Accuracy:      \t 0.6921 \n",
            "Validation Loss:\t 0.5737 \tValidation Accuracy: \t 0.6941 \n",
            "\n",
            "Epoch: 52 \n",
            "Train Loss:     \t 0.5755 \tTrain Accuracy:      \t 0.6921 \n",
            "Validation Loss:\t 0.5737 \tValidation Accuracy: \t 0.6943 \n",
            "\n",
            "Epoch: 53 \n",
            "Train Loss:     \t 0.5755 \tTrain Accuracy:      \t 0.6921 \n",
            "Validation Loss:\t 0.5737 \tValidation Accuracy: \t 0.6945 \n",
            "\n",
            "Epoch: 54 \n",
            "Train Loss:     \t 0.5754 \tTrain Accuracy:      \t 0.6921 \n",
            "Validation Loss:\t 0.5737 \tValidation Accuracy: \t 0.6945 \n",
            "\n",
            "Epoch: 55 \n",
            "Train Loss:     \t 0.5754 \tTrain Accuracy:      \t 0.6921 \n",
            "Validation Loss:\t 0.5736 \tValidation Accuracy: \t 0.6945 \n",
            "\n",
            "Epoch: 56 \n",
            "Train Loss:     \t 0.5754 \tTrain Accuracy:      \t 0.6922 \n",
            "Validation Loss:\t 0.5736 \tValidation Accuracy: \t 0.6946 \n",
            "\n",
            "Epoch: 57 \n",
            "Train Loss:     \t 0.5754 \tTrain Accuracy:      \t 0.6922 \n",
            "Validation Loss:\t 0.5736 \tValidation Accuracy: \t 0.6946 \n",
            "\n",
            "Epoch: 58 \n",
            "Train Loss:     \t 0.5754 \tTrain Accuracy:      \t 0.6922 \n",
            "Validation Loss:\t 0.5736 \tValidation Accuracy: \t 0.6947 \n",
            "\n",
            "Epoch: 59 \n",
            "Train Loss:     \t 0.5753 \tTrain Accuracy:      \t 0.6922 \n",
            "Validation Loss:\t 0.5736 \tValidation Accuracy: \t 0.6946 \n",
            "\n",
            "Epoch: 60 \n",
            "Train Loss:     \t 0.5753 \tTrain Accuracy:      \t 0.6922 \n",
            "Validation Loss:\t 0.5735 \tValidation Accuracy: \t 0.6945 \n",
            "\n",
            "Epoch: 61 \n",
            "Train Loss:     \t 0.5753 \tTrain Accuracy:      \t 0.6922 \n",
            "Validation Loss:\t 0.5735 \tValidation Accuracy: \t 0.6946 \n",
            "\n",
            "Epoch: 62 \n",
            "Train Loss:     \t 0.5753 \tTrain Accuracy:      \t 0.6922 \n",
            "Validation Loss:\t 0.5735 \tValidation Accuracy: \t 0.6946 \n",
            "\n",
            "Epoch: 63 \n",
            "Train Loss:     \t 0.5752 \tTrain Accuracy:      \t 0.6923 \n",
            "Validation Loss:\t 0.5735 \tValidation Accuracy: \t 0.6948 \n",
            "\n",
            "Epoch: 64 \n",
            "Train Loss:     \t 0.5752 \tTrain Accuracy:      \t 0.6923 \n",
            "Validation Loss:\t 0.5734 \tValidation Accuracy: \t 0.6949 \n",
            "\n",
            "Epoch: 65 \n",
            "Train Loss:     \t 0.5752 \tTrain Accuracy:      \t 0.6923 \n",
            "Validation Loss:\t 0.5734 \tValidation Accuracy: \t 0.6948 \n",
            "\n",
            "Epoch: 66 \n",
            "Train Loss:     \t 0.5751 \tTrain Accuracy:      \t 0.6924 \n",
            "Validation Loss:\t 0.5734 \tValidation Accuracy: \t 0.6949 \n",
            "\n",
            "Epoch: 67 \n",
            "Train Loss:     \t 0.5751 \tTrain Accuracy:      \t 0.6924 \n",
            "Validation Loss:\t 0.5734 \tValidation Accuracy: \t 0.6948 \n",
            "\n",
            "Epoch: 68 \n",
            "Train Loss:     \t 0.5751 \tTrain Accuracy:      \t 0.6924 \n",
            "Validation Loss:\t 0.5733 \tValidation Accuracy: \t 0.6949 \n",
            "\n",
            "Epoch: 69 \n",
            "Train Loss:     \t 0.5751 \tTrain Accuracy:      \t 0.6924 \n",
            "Validation Loss:\t 0.5733 \tValidation Accuracy: \t 0.6948 \n",
            "\n"
          ]
        }
      ]
    },
    {
      "cell_type": "markdown",
      "metadata": {
        "id": "CqfrKJhbyrIk"
      },
      "source": [
        "### **Testing** ✅"
      ]
    },
    {
      "cell_type": "code",
      "metadata": {
        "id": "BMWmcJ1rlqz1",
        "colab": {
          "base_uri": "https://localhost:8080/"
        },
        "outputId": "2138d0fd-5fc6-40c5-81b0-74a2cb9f4336"
      },
      "source": [
        "glove_testX = glove_testX.to(device)\n",
        "testY = testY.to(device)\n",
        "\n",
        "# Forward pass to get the prediction\n",
        "test_prediction = nn_model.forward(glove_testX.float())\n",
        "test_prediction = torch.squeeze(test_prediction)\n",
        "\n",
        "test_accuracy = calculate_accuracy(test_prediction, testY)\n",
        "print('Model accuracy on test dataset:', round(test_accuracy.item(), 2), \"\\n\")"
      ],
      "execution_count": null,
      "outputs": [
        {
          "output_type": "stream",
          "name": "stdout",
          "text": [
            "Model accuracy on test dataset: 0.69 \n",
            "\n"
          ]
        }
      ]
    },
    {
      "cell_type": "markdown",
      "metadata": {
        "id": "QkKMniQg0nbo"
      },
      "source": [
        "### **Metrics** 📈"
      ]
    },
    {
      "cell_type": "markdown",
      "metadata": {
        "id": "Wo7DnUb80ugW"
      },
      "source": [
        "**Classification Report**"
      ]
    },
    {
      "cell_type": "code",
      "metadata": {
        "id": "fZU81U4rluse",
        "colab": {
          "base_uri": "https://localhost:8080/"
        },
        "outputId": "102f75b5-2c51-40f4-caa9-cfd42eb278ca"
      },
      "source": [
        "# Get the classification report\n",
        "from sklearn.metrics import classification_report\n",
        "\n",
        "test_prediction = test_prediction.to(device)\n",
        "test_prediction = test_prediction.ge(.5).view(-1).cpu()\n",
        "testY = testY.cpu()\n",
        "\n",
        "print(classification_report(testY, test_prediction))"
      ],
      "execution_count": null,
      "outputs": [
        {
          "output_type": "stream",
          "name": "stdout",
          "text": [
            "              precision    recall  f1-score   support\n",
            "\n",
            "         0.0       0.68      0.72      0.70     16264\n",
            "         1.0       0.70      0.67      0.68     16236\n",
            "\n",
            "    accuracy                           0.69     32500\n",
            "   macro avg       0.69      0.69      0.69     32500\n",
            "weighted avg       0.69      0.69      0.69     32500\n",
            "\n"
          ]
        }
      ]
    },
    {
      "cell_type": "markdown",
      "metadata": {
        "id": "QGnatgn30w6s"
      },
      "source": [
        "**Plots for *Loss* and *Accuracy* per epoch**\n"
      ]
    },
    {
      "cell_type": "code",
      "metadata": {
        "id": "xbGCQTLuln-R",
        "colab": {
          "base_uri": "https://localhost:8080/",
          "height": 420
        },
        "outputId": "d48154c7-9a26-46bd-b2fd-41785846dd17"
      },
      "source": [
        "plot_loss_accuracy(train_losses, train_accuracies, val_losses, val_accuracies, n_epochs)"
      ],
      "execution_count": null,
      "outputs": [
        {
          "output_type": "display_data",
          "data": {
            "image/png": "[encoded data removed]",
            "text/plain": [
              "<Figure size 1008x432 with 2 Axes>"
            ]
          },
          "metadata": {}
        }
      ]
    },
    {
      "cell_type": "markdown",
      "metadata": {
        "id": "0-uQt3YUFFJb"
      },
      "source": [
        "**ROC curve**"
      ]
    },
    {
      "cell_type": "code",
      "metadata": {
        "id": "khSeeM4BFHna",
        "colab": {
          "base_uri": "https://localhost:8080/",
          "height": 518
        },
        "outputId": "04eb7f95-65f4-442f-db25-4e7f965bba7a"
      },
      "source": [
        "from sklearn.preprocessing import label_binarize\n",
        "from sklearn.metrics import roc_curve, auc, classification_report\n",
        "\n",
        "# Get predictions of our best model.\n",
        "y_score = nn_model.forward(glove_testX.float())\n",
        "\n",
        "# Convert tensors to numpy arrays after we pass them to cpu.\n",
        "y_score = y_score.cpu().detach().numpy()\n",
        "y = testY.cpu().detach().numpy()\n",
        "\n",
        "# Label binarization and store num of classes.\n",
        "y_test = label_binarize(y, classes=[0, 1])\n",
        "n_classes = y_test.shape[1]\n",
        "\n",
        "# Compute ROC curve and ROC area for each class\n",
        "fpr = dict()\n",
        "tpr = dict()\n",
        "roc_auc = dict()\n",
        "for i in range(n_classes):\n",
        "    fpr[i], tpr[i], _ = roc_curve(y_test[:,i], y_score[:,i])\n",
        "    roc_auc[i] = auc(fpr[i], tpr[i])\n",
        "\n",
        "plt.figure(figsize=(8,8))\n",
        "lw = 2\n",
        "plt.plot(fpr[0], tpr[0], color='darkorange',lw=lw, label='ROC curve (area = %0.2f)' % roc_auc[0])\n",
        "plt.plot([0, 1], [0, 1], color='navy', lw=lw, linestyle='--')\n",
        "plt.xlim([0.0, 1.0])\n",
        "plt.ylim([0.0, 1.05])\n",
        "plt.xlabel('False Positive Rate',fontsize=15)\n",
        "plt.ylabel('True Positive Rate',fontsize=15)\n",
        "plt.title('Receiver Operating Characteristic example', fontsize=15)\n",
        "plt.legend(loc=\"lower right\",fontsize=15)\n",
        "plt.show()"
      ],
      "execution_count": null,
      "outputs": [
        {
          "output_type": "display_data",
          "data": {
            "image/png": "[encoded data removed]",
            "text/plain": [
              "<Figure size 576x576 with 1 Axes>"
            ]
          },
          "metadata": {}
        }
      ]
    },
    {
      "cell_type": "markdown",
      "metadata": {
        "id": "8DC6_7oJ0g9d"
      },
      "source": [
        "**Confusion Matrix**"
      ]
    },
    {
      "cell_type": "code",
      "metadata": {
        "id": "Ur-gVeb90eMj",
        "colab": {
          "base_uri": "https://localhost:8080/",
          "height": 453
        },
        "outputId": "c233530e-a46d-40fc-f8c5-2217c77376d3"
      },
      "source": [
        "from sklearn.metrics import confusion_matrix\n",
        "import seaborn as sn\n",
        "\n",
        "df_cf_matrix = pd.DataFrame(confusion_matrix(testY,y_score.round()))\n",
        "plt.figure(figsize=(10,7))\n",
        "sn.set(font_scale=1.4)\n",
        "\n",
        "group_labels = ['True Neg','False Pos','False Neg','True Pos']\n",
        "group_counts = ['{0:0.0f}'.format(value) for value in df_cf_matrix.values.flatten()]\n",
        "group_percentages = ['{0:.2%}'.format(value) for value in df_cf_matrix.values.flatten()/np.sum(df_cf_matrix.values.flatten())]\n",
        "\n",
        "box_labels = [f\"{v1}\\n{v2}\\n{v3}\".strip() for v1, v2, v3 in zip(group_labels,group_counts,group_percentages)]\n",
        "box_labels = np.asarray(box_labels).reshape(df_cf_matrix.shape[0],df_cf_matrix.shape[1])\n",
        "\n",
        "sn.heatmap(df_cf_matrix, annot=box_labels, fmt='', cmap='Blues')"
      ],
      "execution_count": null,
      "outputs": [
        {
          "output_type": "execute_result",
          "data": {
            "text/plain": [
              "<matplotlib.axes._subplots.AxesSubplot at 0x7f48b6e45790>"
            ]
          },
          "metadata": {},
          "execution_count": 132
        },
        {
          "output_type": "display_data",
          "data": {
            "image/png": "[encoded data removed]",
            "text/plain": [
              "<Figure size 720x504 with 2 Axes>"
            ]
          },
          "metadata": {}
        }
      ]
    },
    {
      "cell_type": "markdown",
      "metadata": {
        "id": "BgfAnHgOyusK"
      },
      "source": [
        "## **Summary** (some numbers) 📊\n",
        "\n",
        "I have built a Feed-Forward Neural Network model which uses the GloVe pre-trained word embeddings for vectorizing the data (i.e., convert the words into numbers). \n",
        "\n",
        "My model got accuracy of ***70%*** and was having the following properties:\n",
        "\n",
        "- Batch-size = $2^{15}$ = 32768\n",
        "- Number of epochs = 70\n",
        "- 3 hidden layers of size 1024, 512, and 256 respectively\n",
        "- ReLU activation function for each layer\n",
        "- Sigmoid function at the output\n",
        "\n",
        "*I use the **early stopping** technique to stop at the epoch 70 because after that the model progresses very slowly and stays at the same accuracy of 70%. I have tried using 500 epochs but the model got again 70% accuracy.*"
      ]
    }
  ]
}